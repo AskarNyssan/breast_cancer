{
 "cells": [
  {
   "cell_type": "markdown",
   "metadata": {},
   "source": [
    "**Table of contents**<a id='toc0_'></a>    \n",
    "- [The project](#toc1_)    \n",
    "  - [1. Approach 1: Baseline Model (Full Data)](#toc1_1_)    \n",
    "    - [2.1 Logistics regression](#toc1_1_1_)    \n",
    "    - [1.2 Random Forest](#toc1_1_2_)    \n",
    "    - [1.3 XGboost](#toc1_1_3_)    \n",
    "  - [2. Approach 2: Correlation-Based Feature Selection & Outlier Removal](#toc1_2_)    \n",
    "    - [2.1 Logistics regression](#toc1_2_1_)    \n",
    "    - [2.2 Random Forest](#toc1_2_2_)    \n",
    "    - [2.3 XGboost](#toc1_2_3_)    \n",
    "  - [3. Approach 3: Statistical Distribution-Based Feature Selection](#toc1_3_)    \n",
    "    - [3.1 Logistics regression](#toc1_3_1_)    \n",
    "    - [3.2 Random Forest](#toc1_3_2_)    \n",
    "    - [3.3 XGboost](#toc1_3_3_)    \n",
    "  - [4. Approach 4: Non-Linear Dimensionality Reduction & Scaling](#toc1_4_)    \n",
    "    - [4.1 Logistics regression](#toc1_4_1_)    \n",
    "    - [4.2 Random Forest](#toc1_4_2_)    \n",
    "    - [4.3 XGboost](#toc1_4_3_)    \n",
    "  - [5. Conclusion](#toc1_5_)    \n",
    "\n",
    "<!-- vscode-jupyter-toc-config\n",
    "\tnumbering=false\n",
    "\tanchor=true\n",
    "\tflat=false\n",
    "\tminLevel=1\n",
    "\tmaxLevel=6\n",
    "\t/vscode-jupyter-toc-config -->\n",
    "<!-- THIS CELL WILL BE REPLACED ON TOC UPDATE. DO NOT WRITE YOUR TEXT IN THIS CELL -->"
   ]
  },
  {
   "cell_type": "code",
   "execution_count": 4,
   "metadata": {},
   "outputs": [
    {
     "name": "stdout",
     "output_type": "stream",
     "text": [
      "The autoreload extension is already loaded. To reload it, use:\n",
      "  %reload_ext autoreload\n"
     ]
    }
   ],
   "source": [
    "import jupyter_black\n",
    "\n",
    "jupyter_black.load()\n",
    "import os\n",
    "\n",
    "os.environ[\"PYTHONWARNINGS\"] = \"ignore\"\n",
    "\n",
    "%load_ext autoreload\n",
    "%autoreload 2"
   ]
  },
  {
   "cell_type": "code",
   "execution_count": 5,
   "metadata": {},
   "outputs": [],
   "source": [
    "import polars as pl\n",
    "import pandas as pd\n",
    "import numpy as np\n",
    "from sklearn.linear_model import LogisticRegression\n",
    "from sklearn.ensemble import RandomForestClassifier\n",
    "from scipy.stats import uniform, randint\n",
    "from collections import Counter\n",
    "\n",
    "from xgboost import XGBClassifier\n",
    "\n",
    "from modeling import model_training, visualisation"
   ]
  },
  {
   "cell_type": "code",
   "execution_count": 6,
   "metadata": {},
   "outputs": [],
   "source": [
    "###  declare global variable that stores metrics across all models\n",
    "METRICS_DICT = {}\n",
    "global METRICS_DICT"
   ]
  },
  {
   "cell_type": "code",
   "execution_count": 8,
   "metadata": {},
   "outputs": [],
   "source": [
    "os.chdir(\"..\")"
   ]
  },
  {
   "cell_type": "markdown",
   "metadata": {},
   "source": [
    "# <a id='toc1_'></a>[The project](#toc0_)"
   ]
  },
  {
   "cell_type": "markdown",
   "metadata": {},
   "source": [
    "Saha and colleagues collected a large set of breast MRI cases that\n",
    "were used to detect breast cancer. The dataset also contains detailed\n",
    "information about the characteristic of the patient and subtype of tumors\n",
    "that were eventually diagnosed. This information can be used to determine\n",
    "the best treatment.\n",
    "\n",
    "Basic image processing was performed to extract features from the MRI\n",
    "cases which were used to predict the molecular tumor subtypes from MRI.\n",
    "In this assignment, we will try to predict the estrogen receptor (ER) status\n",
    "from the MRI image features that were provided."
   ]
  },
  {
   "cell_type": "markdown",
   "metadata": {},
   "source": [
    "## <a id='toc1_1_'></a>[1. Approach 1: Baseline Model (Full Data)](#toc0_)"
   ]
  },
  {
   "cell_type": "code",
   "execution_count": 16,
   "metadata": {},
   "outputs": [],
   "source": [
    "### 1. download train and test sets\n",
    "train_set = pl.read_excel(\"dataset/processed/train_processed_full.xlsx\")\n",
    "test_set = pl.read_excel(\"dataset/processed/test_processed_full.xlsx\")\n",
    "\n",
    "### 2. Drop \"Patient ID\" and handle \"ER\" as the target and Separate features and target\n",
    "X_train = train_set.drop(\"Patient ID\", \"ER\").to_numpy()\n",
    "y_train = train_set[\"ER\"].to_numpy()\n",
    "X_test = test_set.drop(\"Patient ID\", \"ER\").to_numpy()\n",
    "y_test = test_set[\"ER\"].to_numpy()"
   ]
  },
  {
   "cell_type": "markdown",
   "metadata": {},
   "source": [
    "### <a id='toc1_1_1_'></a>[2.1 Logistics regression](#toc0_)"
   ]
  },
  {
   "cell_type": "code",
   "execution_count": 20,
   "metadata": {},
   "outputs": [
    {
     "name": "stdout",
     "output_type": "stream",
     "text": [
      "Fitting 5 folds for each of 50 candidates, totalling 250 fits\n",
      "Logistic_Regression_with_ridge_penalty Best Hyperparameters: {'C': 5.257564316322378, 'penalty': 'l2', 'solver': 'sag'}\n",
      "Logistic_Regression_with_ridge_penalty Test Metrics:\n",
      "AUC: 0.6524\n",
      "Accuracy: 0.7475\n",
      "F1-Score: 0.8550\n"
     ]
    },
    {
     "data": {
      "application/vnd.plotly.v1+json": {
       "config": {
        "plotlyServerURL": "https://plot.ly"
       },
       "data": [
        {
         "line": {
          "color": "blue"
         },
         "mode": "lines",
         "name": "Logistic_Regression_with_ridge_penalty (AUC = 0.6524)",
         "type": "scatter",
         "x": [
          0,
          0,
          0,
          0.01282051282051282,
          0.01282051282051282,
          0.05128205128205128,
          0.05128205128205128,
          0.0641025641025641,
          0.0641025641025641,
          0.07692307692307693,
          0.07692307692307693,
          0.08974358974358974,
          0.08974358974358974,
          0.10256410256410256,
          0.10256410256410256,
          0.11538461538461539,
          0.11538461538461539,
          0.1282051282051282,
          0.1282051282051282,
          0.14102564102564102,
          0.14102564102564102,
          0.16666666666666666,
          0.16666666666666666,
          0.1794871794871795,
          0.1794871794871795,
          0.19230769230769232,
          0.19230769230769232,
          0.21794871794871795,
          0.21794871794871795,
          0.23076923076923078,
          0.23076923076923078,
          0.24358974358974358,
          0.24358974358974358,
          0.2564102564102564,
          0.2564102564102564,
          0.2692307692307692,
          0.2692307692307692,
          0.2948717948717949,
          0.2948717948717949,
          0.3076923076923077,
          0.3076923076923077,
          0.32051282051282054,
          0.32051282051282054,
          0.3333333333333333,
          0.3333333333333333,
          0.34615384615384615,
          0.34615384615384615,
          0.358974358974359,
          0.358974358974359,
          0.3717948717948718,
          0.3717948717948718,
          0.3974358974358974,
          0.3974358974358974,
          0.4230769230769231,
          0.4230769230769231,
          0.4358974358974359,
          0.4358974358974359,
          0.44871794871794873,
          0.44871794871794873,
          0.46153846153846156,
          0.46153846153846156,
          0.48717948717948717,
          0.48717948717948717,
          0.5,
          0.5,
          0.5256410256410257,
          0.5256410256410257,
          0.5384615384615384,
          0.5384615384615384,
          0.5512820512820513,
          0.5512820512820513,
          0.5769230769230769,
          0.5769230769230769,
          0.6153846153846154,
          0.6153846153846154,
          0.6282051282051282,
          0.6282051282051282,
          0.6538461538461539,
          0.6538461538461539,
          0.6794871794871795,
          0.6794871794871795,
          0.6923076923076923,
          0.6923076923076923,
          0.7051282051282052,
          0.7051282051282052,
          0.7307692307692307,
          0.7307692307692307,
          0.7435897435897436,
          0.7435897435897436,
          0.7564102564102564,
          0.7564102564102564,
          0.7692307692307693,
          0.7692307692307693,
          0.782051282051282,
          0.782051282051282,
          0.8076923076923077,
          0.8076923076923077,
          0.8461538461538461,
          0.8461538461538461,
          0.8589743589743589,
          0.8589743589743589,
          0.8717948717948718,
          0.8717948717948718,
          0.8846153846153846,
          0.8846153846153846,
          0.8974358974358975,
          0.8974358974358975,
          0.9358974358974359,
          0.9358974358974359,
          0.9487179487179487,
          0.9487179487179487,
          0.9871794871794872,
          0.9871794871794872,
          1
         ],
         "y": [
          0,
          0.004405286343612335,
          0.11894273127753303,
          0.11894273127753303,
          0.12334801762114538,
          0.12334801762114538,
          0.18061674008810572,
          0.18061674008810572,
          0.2026431718061674,
          0.2026431718061674,
          0.24669603524229075,
          0.24669603524229075,
          0.2643171806167401,
          0.2643171806167401,
          0.28193832599118945,
          0.28193832599118945,
          0.36123348017621143,
          0.36123348017621143,
          0.3656387665198238,
          0.3656387665198238,
          0.3744493392070485,
          0.3744493392070485,
          0.3788546255506608,
          0.3788546255506608,
          0.4052863436123348,
          0.4052863436123348,
          0.41409691629955947,
          0.41409691629955947,
          0.4185022026431718,
          0.4185022026431718,
          0.43171806167400884,
          0.43171806167400884,
          0.44933920704845814,
          0.44933920704845814,
          0.47577092511013214,
          0.47577092511013214,
          0.4801762114537445,
          0.4801762114537445,
          0.4933920704845815,
          0.4933920704845815,
          0.5022026431718062,
          0.5022026431718062,
          0.5110132158590308,
          0.5110132158590308,
          0.5198237885462555,
          0.5198237885462555,
          0.5330396475770925,
          0.5330396475770925,
          0.6035242290748899,
          0.6035242290748899,
          0.6079295154185022,
          0.6079295154185022,
          0.6167400881057269,
          0.6167400881057269,
          0.6255506607929515,
          0.6255506607929515,
          0.6607929515418502,
          0.6607929515418502,
          0.6651982378854625,
          0.6651982378854625,
          0.7004405286343612,
          0.7004405286343612,
          0.7224669603524229,
          0.7224669603524229,
          0.7312775330396476,
          0.7312775330396476,
          0.7400881057268722,
          0.7400881057268722,
          0.7444933920704846,
          0.7444933920704846,
          0.7665198237885462,
          0.7665198237885462,
          0.7709251101321586,
          0.7709251101321586,
          0.7841409691629956,
          0.7841409691629956,
          0.7929515418502202,
          0.7929515418502202,
          0.801762114537445,
          0.801762114537445,
          0.8325991189427313,
          0.8325991189427313,
          0.8370044052863436,
          0.8370044052863436,
          0.8458149779735683,
          0.8458149779735683,
          0.8502202643171806,
          0.8502202643171806,
          0.8546255506607929,
          0.8546255506607929,
          0.8590308370044053,
          0.8590308370044053,
          0.8810572687224669,
          0.8810572687224669,
          0.8898678414096917,
          0.8898678414096917,
          0.9118942731277533,
          0.9118942731277533,
          0.9162995594713657,
          0.9162995594713657,
          0.933920704845815,
          0.933920704845815,
          0.9383259911894273,
          0.9383259911894273,
          0.9559471365638766,
          0.9559471365638766,
          0.973568281938326,
          0.973568281938326,
          0.9823788546255506,
          0.9823788546255506,
          0.9911894273127754,
          0.9911894273127754,
          1,
          1
         ]
        },
        {
         "line": {
          "color": "red",
          "dash": "dash"
         },
         "mode": "lines",
         "name": "Random",
         "type": "scatter",
         "x": [
          0,
          1
         ],
         "y": [
          0,
          1
         ]
        }
       ],
       "layout": {
        "height": 700,
        "legend": {
         "font": {
          "size": 16
         }
        },
        "showlegend": true,
        "template": {
         "data": {
          "bar": [
           {
            "error_x": {
             "color": "#2a3f5f"
            },
            "error_y": {
             "color": "#2a3f5f"
            },
            "marker": {
             "line": {
              "color": "#E5ECF6",
              "width": 0.5
             },
             "pattern": {
              "fillmode": "overlay",
              "size": 10,
              "solidity": 0.2
             }
            },
            "type": "bar"
           }
          ],
          "barpolar": [
           {
            "marker": {
             "line": {
              "color": "#E5ECF6",
              "width": 0.5
             },
             "pattern": {
              "fillmode": "overlay",
              "size": 10,
              "solidity": 0.2
             }
            },
            "type": "barpolar"
           }
          ],
          "carpet": [
           {
            "aaxis": {
             "endlinecolor": "#2a3f5f",
             "gridcolor": "white",
             "linecolor": "white",
             "minorgridcolor": "white",
             "startlinecolor": "#2a3f5f"
            },
            "baxis": {
             "endlinecolor": "#2a3f5f",
             "gridcolor": "white",
             "linecolor": "white",
             "minorgridcolor": "white",
             "startlinecolor": "#2a3f5f"
            },
            "type": "carpet"
           }
          ],
          "choropleth": [
           {
            "colorbar": {
             "outlinewidth": 0,
             "ticks": ""
            },
            "type": "choropleth"
           }
          ],
          "contour": [
           {
            "colorbar": {
             "outlinewidth": 0,
             "ticks": ""
            },
            "colorscale": [
             [
              0,
              "#0d0887"
             ],
             [
              0.1111111111111111,
              "#46039f"
             ],
             [
              0.2222222222222222,
              "#7201a8"
             ],
             [
              0.3333333333333333,
              "#9c179e"
             ],
             [
              0.4444444444444444,
              "#bd3786"
             ],
             [
              0.5555555555555556,
              "#d8576b"
             ],
             [
              0.6666666666666666,
              "#ed7953"
             ],
             [
              0.7777777777777778,
              "#fb9f3a"
             ],
             [
              0.8888888888888888,
              "#fdca26"
             ],
             [
              1,
              "#f0f921"
             ]
            ],
            "type": "contour"
           }
          ],
          "contourcarpet": [
           {
            "colorbar": {
             "outlinewidth": 0,
             "ticks": ""
            },
            "type": "contourcarpet"
           }
          ],
          "heatmap": [
           {
            "colorbar": {
             "outlinewidth": 0,
             "ticks": ""
            },
            "colorscale": [
             [
              0,
              "#0d0887"
             ],
             [
              0.1111111111111111,
              "#46039f"
             ],
             [
              0.2222222222222222,
              "#7201a8"
             ],
             [
              0.3333333333333333,
              "#9c179e"
             ],
             [
              0.4444444444444444,
              "#bd3786"
             ],
             [
              0.5555555555555556,
              "#d8576b"
             ],
             [
              0.6666666666666666,
              "#ed7953"
             ],
             [
              0.7777777777777778,
              "#fb9f3a"
             ],
             [
              0.8888888888888888,
              "#fdca26"
             ],
             [
              1,
              "#f0f921"
             ]
            ],
            "type": "heatmap"
           }
          ],
          "heatmapgl": [
           {
            "colorbar": {
             "outlinewidth": 0,
             "ticks": ""
            },
            "colorscale": [
             [
              0,
              "#0d0887"
             ],
             [
              0.1111111111111111,
              "#46039f"
             ],
             [
              0.2222222222222222,
              "#7201a8"
             ],
             [
              0.3333333333333333,
              "#9c179e"
             ],
             [
              0.4444444444444444,
              "#bd3786"
             ],
             [
              0.5555555555555556,
              "#d8576b"
             ],
             [
              0.6666666666666666,
              "#ed7953"
             ],
             [
              0.7777777777777778,
              "#fb9f3a"
             ],
             [
              0.8888888888888888,
              "#fdca26"
             ],
             [
              1,
              "#f0f921"
             ]
            ],
            "type": "heatmapgl"
           }
          ],
          "histogram": [
           {
            "marker": {
             "pattern": {
              "fillmode": "overlay",
              "size": 10,
              "solidity": 0.2
             }
            },
            "type": "histogram"
           }
          ],
          "histogram2d": [
           {
            "colorbar": {
             "outlinewidth": 0,
             "ticks": ""
            },
            "colorscale": [
             [
              0,
              "#0d0887"
             ],
             [
              0.1111111111111111,
              "#46039f"
             ],
             [
              0.2222222222222222,
              "#7201a8"
             ],
             [
              0.3333333333333333,
              "#9c179e"
             ],
             [
              0.4444444444444444,
              "#bd3786"
             ],
             [
              0.5555555555555556,
              "#d8576b"
             ],
             [
              0.6666666666666666,
              "#ed7953"
             ],
             [
              0.7777777777777778,
              "#fb9f3a"
             ],
             [
              0.8888888888888888,
              "#fdca26"
             ],
             [
              1,
              "#f0f921"
             ]
            ],
            "type": "histogram2d"
           }
          ],
          "histogram2dcontour": [
           {
            "colorbar": {
             "outlinewidth": 0,
             "ticks": ""
            },
            "colorscale": [
             [
              0,
              "#0d0887"
             ],
             [
              0.1111111111111111,
              "#46039f"
             ],
             [
              0.2222222222222222,
              "#7201a8"
             ],
             [
              0.3333333333333333,
              "#9c179e"
             ],
             [
              0.4444444444444444,
              "#bd3786"
             ],
             [
              0.5555555555555556,
              "#d8576b"
             ],
             [
              0.6666666666666666,
              "#ed7953"
             ],
             [
              0.7777777777777778,
              "#fb9f3a"
             ],
             [
              0.8888888888888888,
              "#fdca26"
             ],
             [
              1,
              "#f0f921"
             ]
            ],
            "type": "histogram2dcontour"
           }
          ],
          "mesh3d": [
           {
            "colorbar": {
             "outlinewidth": 0,
             "ticks": ""
            },
            "type": "mesh3d"
           }
          ],
          "parcoords": [
           {
            "line": {
             "colorbar": {
              "outlinewidth": 0,
              "ticks": ""
             }
            },
            "type": "parcoords"
           }
          ],
          "pie": [
           {
            "automargin": true,
            "type": "pie"
           }
          ],
          "scatter": [
           {
            "fillpattern": {
             "fillmode": "overlay",
             "size": 10,
             "solidity": 0.2
            },
            "type": "scatter"
           }
          ],
          "scatter3d": [
           {
            "line": {
             "colorbar": {
              "outlinewidth": 0,
              "ticks": ""
             }
            },
            "marker": {
             "colorbar": {
              "outlinewidth": 0,
              "ticks": ""
             }
            },
            "type": "scatter3d"
           }
          ],
          "scattercarpet": [
           {
            "marker": {
             "colorbar": {
              "outlinewidth": 0,
              "ticks": ""
             }
            },
            "type": "scattercarpet"
           }
          ],
          "scattergeo": [
           {
            "marker": {
             "colorbar": {
              "outlinewidth": 0,
              "ticks": ""
             }
            },
            "type": "scattergeo"
           }
          ],
          "scattergl": [
           {
            "marker": {
             "colorbar": {
              "outlinewidth": 0,
              "ticks": ""
             }
            },
            "type": "scattergl"
           }
          ],
          "scattermapbox": [
           {
            "marker": {
             "colorbar": {
              "outlinewidth": 0,
              "ticks": ""
             }
            },
            "type": "scattermapbox"
           }
          ],
          "scatterpolar": [
           {
            "marker": {
             "colorbar": {
              "outlinewidth": 0,
              "ticks": ""
             }
            },
            "type": "scatterpolar"
           }
          ],
          "scatterpolargl": [
           {
            "marker": {
             "colorbar": {
              "outlinewidth": 0,
              "ticks": ""
             }
            },
            "type": "scatterpolargl"
           }
          ],
          "scatterternary": [
           {
            "marker": {
             "colorbar": {
              "outlinewidth": 0,
              "ticks": ""
             }
            },
            "type": "scatterternary"
           }
          ],
          "surface": [
           {
            "colorbar": {
             "outlinewidth": 0,
             "ticks": ""
            },
            "colorscale": [
             [
              0,
              "#0d0887"
             ],
             [
              0.1111111111111111,
              "#46039f"
             ],
             [
              0.2222222222222222,
              "#7201a8"
             ],
             [
              0.3333333333333333,
              "#9c179e"
             ],
             [
              0.4444444444444444,
              "#bd3786"
             ],
             [
              0.5555555555555556,
              "#d8576b"
             ],
             [
              0.6666666666666666,
              "#ed7953"
             ],
             [
              0.7777777777777778,
              "#fb9f3a"
             ],
             [
              0.8888888888888888,
              "#fdca26"
             ],
             [
              1,
              "#f0f921"
             ]
            ],
            "type": "surface"
           }
          ],
          "table": [
           {
            "cells": {
             "fill": {
              "color": "#EBF0F8"
             },
             "line": {
              "color": "white"
             }
            },
            "header": {
             "fill": {
              "color": "#C8D4E3"
             },
             "line": {
              "color": "white"
             }
            },
            "type": "table"
           }
          ]
         },
         "layout": {
          "annotationdefaults": {
           "arrowcolor": "#2a3f5f",
           "arrowhead": 0,
           "arrowwidth": 1
          },
          "autotypenumbers": "strict",
          "coloraxis": {
           "colorbar": {
            "outlinewidth": 0,
            "ticks": ""
           }
          },
          "colorscale": {
           "diverging": [
            [
             0,
             "#8e0152"
            ],
            [
             0.1,
             "#c51b7d"
            ],
            [
             0.2,
             "#de77ae"
            ],
            [
             0.3,
             "#f1b6da"
            ],
            [
             0.4,
             "#fde0ef"
            ],
            [
             0.5,
             "#f7f7f7"
            ],
            [
             0.6,
             "#e6f5d0"
            ],
            [
             0.7,
             "#b8e186"
            ],
            [
             0.8,
             "#7fbc41"
            ],
            [
             0.9,
             "#4d9221"
            ],
            [
             1,
             "#276419"
            ]
           ],
           "sequential": [
            [
             0,
             "#0d0887"
            ],
            [
             0.1111111111111111,
             "#46039f"
            ],
            [
             0.2222222222222222,
             "#7201a8"
            ],
            [
             0.3333333333333333,
             "#9c179e"
            ],
            [
             0.4444444444444444,
             "#bd3786"
            ],
            [
             0.5555555555555556,
             "#d8576b"
            ],
            [
             0.6666666666666666,
             "#ed7953"
            ],
            [
             0.7777777777777778,
             "#fb9f3a"
            ],
            [
             0.8888888888888888,
             "#fdca26"
            ],
            [
             1,
             "#f0f921"
            ]
           ],
           "sequentialminus": [
            [
             0,
             "#0d0887"
            ],
            [
             0.1111111111111111,
             "#46039f"
            ],
            [
             0.2222222222222222,
             "#7201a8"
            ],
            [
             0.3333333333333333,
             "#9c179e"
            ],
            [
             0.4444444444444444,
             "#bd3786"
            ],
            [
             0.5555555555555556,
             "#d8576b"
            ],
            [
             0.6666666666666666,
             "#ed7953"
            ],
            [
             0.7777777777777778,
             "#fb9f3a"
            ],
            [
             0.8888888888888888,
             "#fdca26"
            ],
            [
             1,
             "#f0f921"
            ]
           ]
          },
          "colorway": [
           "#636efa",
           "#EF553B",
           "#00cc96",
           "#ab63fa",
           "#FFA15A",
           "#19d3f3",
           "#FF6692",
           "#B6E880",
           "#FF97FF",
           "#FECB52"
          ],
          "font": {
           "color": "#2a3f5f"
          },
          "geo": {
           "bgcolor": "white",
           "lakecolor": "white",
           "landcolor": "#E5ECF6",
           "showlakes": true,
           "showland": true,
           "subunitcolor": "white"
          },
          "hoverlabel": {
           "align": "left"
          },
          "hovermode": "closest",
          "mapbox": {
           "style": "light"
          },
          "paper_bgcolor": "white",
          "plot_bgcolor": "#E5ECF6",
          "polar": {
           "angularaxis": {
            "gridcolor": "white",
            "linecolor": "white",
            "ticks": ""
           },
           "bgcolor": "#E5ECF6",
           "radialaxis": {
            "gridcolor": "white",
            "linecolor": "white",
            "ticks": ""
           }
          },
          "scene": {
           "xaxis": {
            "backgroundcolor": "#E5ECF6",
            "gridcolor": "white",
            "gridwidth": 2,
            "linecolor": "white",
            "showbackground": true,
            "ticks": "",
            "zerolinecolor": "white"
           },
           "yaxis": {
            "backgroundcolor": "#E5ECF6",
            "gridcolor": "white",
            "gridwidth": 2,
            "linecolor": "white",
            "showbackground": true,
            "ticks": "",
            "zerolinecolor": "white"
           },
           "zaxis": {
            "backgroundcolor": "#E5ECF6",
            "gridcolor": "white",
            "gridwidth": 2,
            "linecolor": "white",
            "showbackground": true,
            "ticks": "",
            "zerolinecolor": "white"
           }
          },
          "shapedefaults": {
           "line": {
            "color": "#2a3f5f"
           }
          },
          "ternary": {
           "aaxis": {
            "gridcolor": "white",
            "linecolor": "white",
            "ticks": ""
           },
           "baxis": {
            "gridcolor": "white",
            "linecolor": "white",
            "ticks": ""
           },
           "bgcolor": "#E5ECF6",
           "caxis": {
            "gridcolor": "white",
            "linecolor": "white",
            "ticks": ""
           }
          },
          "title": {
           "x": 0.05
          },
          "xaxis": {
           "automargin": true,
           "gridcolor": "white",
           "linecolor": "white",
           "ticks": "",
           "title": {
            "standoff": 15
           },
           "zerolinecolor": "white",
           "zerolinewidth": 2
          },
          "yaxis": {
           "automargin": true,
           "gridcolor": "white",
           "linecolor": "white",
           "ticks": "",
           "title": {
            "standoff": 15
           },
           "zerolinecolor": "white",
           "zerolinewidth": 2
          }
         }
        },
        "title": {
         "font": {
          "size": 24
         },
         "text": "ROC Curve for Logistic_Regression_with_ridge_penalty of approach_1",
         "x": 0.5,
         "xanchor": "center",
         "yanchor": "top"
        },
        "width": 1100,
        "xaxis": {
         "title": {
          "font": {
           "size": 20
          },
          "text": "False Positive Rate"
         }
        },
        "yaxis": {
         "title": {
          "font": {
           "size": 20
          },
          "text": "True Positive Rate"
         }
        }
       }
      }
     },
     "metadata": {},
     "output_type": "display_data"
    }
   ],
   "source": [
    "### 1. Define hyperparameter distributions for each model\n",
    "log_reg_params = {\n",
    "    \"C\": uniform(0.01, 10),\n",
    "    \"penalty\": [\"l2\"],\n",
    "    \"solver\": [\"sag\"],\n",
    "}\n",
    "\n",
    "### 2. Train Logistic Regression\n",
    "log_reg = LogisticRegression(max_iter=1000)\n",
    "log_reg_best, log_reg_auc, log_reg_acc, log_reg_f1, report = (\n",
    "    model_training.tune_and_evaluate_model(\n",
    "        log_reg,\n",
    "        log_reg_params,\n",
    "        X_train,\n",
    "        y_train,\n",
    "        X_test,\n",
    "        y_test,\n",
    "        model_name=\"Logistic_Regression_with_ridge_penalty\",\n",
    "        log_dir=\"models/logs/approach_1\",\n",
    "        model_dir=\"models/saved_models/approach_1\",\n",
    "        approach=\"approach_1\",\n",
    "    )\n",
    ")"
   ]
  },
  {
   "cell_type": "code",
   "execution_count": 21,
   "metadata": {},
   "outputs": [
    {
     "name": "stdout",
     "output_type": "stream",
     "text": [
      "shape: (3, 2)\n",
      "┌─────────────┬────────────────────┐\n",
      "│ metrics     ┆ approach_1_log_reg │\n",
      "│ ---         ┆ ---                │\n",
      "│ str         ┆ f64                │\n",
      "╞═════════════╪════════════════════╡\n",
      "│ accuracy, % ┆ 75.0               │\n",
      "│ f1_score    ┆ 0.855              │\n",
      "│ auc         ┆ 0.652              │\n",
      "└─────────────┴────────────────────┘\n"
     ]
    }
   ],
   "source": [
    "### 1. create dataframe from metrics add to metrics dictionary\n",
    "approach_1_log_reg_metrics = pl.DataFrame(\n",
    "    {\n",
    "        \"metrics\": [\"accuracy, %\", \"f1_score\", \"auc\"],\n",
    "        \"approach_1_log_reg\": [\n",
    "            np.round(log_reg_acc * 100),\n",
    "            np.round(log_reg_f1, 3),\n",
    "            np.round(log_reg_auc, 3),\n",
    "        ],\n",
    "    }\n",
    ")\n",
    "METRICS_DICT[\"approach_1_log_reg_metrics\"] = approach_1_log_reg_metrics\n",
    "print(approach_1_log_reg_metrics)"
   ]
  },
  {
   "cell_type": "code",
   "execution_count": 24,
   "metadata": {},
   "outputs": [
    {
     "name": "stdout",
     "output_type": "stream",
     "text": [
      "shape: (2, 5)\n",
      "┌──────────┬───────────┬────────┬──────────┬───────┐\n",
      "│ category ┆ precision ┆ recall ┆ f1-score ┆ count │\n",
      "│ ---      ┆ ---       ┆ ---    ┆ ---      ┆ ---   │\n",
      "│ str      ┆ f64       ┆ f64    ┆ f64      ┆ i64   │\n",
      "╞══════════╪═══════════╪════════╪══════════╪═══════╡\n",
      "│ 0        ┆ 1.0       ┆ 0.01   ┆ 0.03     ┆ 78    │\n",
      "│ 1        ┆ 0.75      ┆ 1.0    ┆ 0.85     ┆ 227   │\n",
      "└──────────┴───────────┴────────┴──────────┴───────┘\n"
     ]
    }
   ],
   "source": [
    "### 1. convert report to polars dataframe\n",
    "approach_1_log_reg_report = model_training.classification_report_to_polars(report)\n",
    "\n",
    "### 2. save report\n",
    "approach_1_log_reg_report.write_excel(\n",
    "    \"reports/approach_1/approach_1_log_reg_report.xlsx\"\n",
    ")\n",
    "print(approach_1_log_reg_report)"
   ]
  },
  {
   "cell_type": "markdown",
   "metadata": {},
   "source": [
    "### <a id='toc1_1_2_'></a>[1.2 Random Forest](#toc0_)"
   ]
  },
  {
   "cell_type": "code",
   "execution_count": 25,
   "metadata": {},
   "outputs": [
    {
     "name": "stdout",
     "output_type": "stream",
     "text": [
      "Fitting 5 folds for each of 50 candidates, totalling 250 fits\n",
      "Random_Forest Best Hyperparameters: {'max_depth': 10, 'min_samples_leaf': 25, 'min_samples_split': 24, 'n_estimators': 49}\n",
      "Random_Forest Test Metrics:\n",
      "AUC: 0.5951\n",
      "Accuracy: 0.7475\n",
      "F1-Score: 0.8550\n"
     ]
    },
    {
     "data": {
      "application/vnd.plotly.v1+json": {
       "config": {
        "plotlyServerURL": "https://plot.ly"
       },
       "data": [
        {
         "line": {
          "color": "blue"
         },
         "mode": "lines",
         "name": "Random_Forest (AUC = 0.5951)",
         "type": "scatter",
         "x": [
          0,
          0,
          0.01282051282051282,
          0.01282051282051282,
          0.02564102564102564,
          0.02564102564102564,
          0.038461538461538464,
          0.038461538461538464,
          0.05128205128205128,
          0.05128205128205128,
          0.0641025641025641,
          0.0641025641025641,
          0.07692307692307693,
          0.07692307692307693,
          0.08974358974358974,
          0.08974358974358974,
          0.10256410256410256,
          0.10256410256410256,
          0.14102564102564102,
          0.14102564102564102,
          0.15384615384615385,
          0.15384615384615385,
          0.16666666666666666,
          0.16666666666666666,
          0.1794871794871795,
          0.1794871794871795,
          0.19230769230769232,
          0.19230769230769232,
          0.20512820512820512,
          0.20512820512820512,
          0.23076923076923078,
          0.23076923076923078,
          0.28205128205128205,
          0.28205128205128205,
          0.2948717948717949,
          0.2948717948717949,
          0.3076923076923077,
          0.3076923076923077,
          0.32051282051282054,
          0.32051282051282054,
          0.3333333333333333,
          0.3333333333333333,
          0.34615384615384615,
          0.34615384615384615,
          0.3717948717948718,
          0.3717948717948718,
          0.38461538461538464,
          0.38461538461538464,
          0.3974358974358974,
          0.3974358974358974,
          0.4230769230769231,
          0.4230769230769231,
          0.4358974358974359,
          0.4358974358974359,
          0.44871794871794873,
          0.44871794871794873,
          0.46153846153846156,
          0.46153846153846156,
          0.47435897435897434,
          0.47435897435897434,
          0.48717948717948717,
          0.48717948717948717,
          0.5,
          0.5,
          0.5128205128205128,
          0.5128205128205128,
          0.5256410256410257,
          0.5256410256410257,
          0.5384615384615384,
          0.5384615384615384,
          0.5641025641025641,
          0.5641025641025641,
          0.5769230769230769,
          0.5769230769230769,
          0.5897435897435898,
          0.5897435897435898,
          0.6153846153846154,
          0.6153846153846154,
          0.6410256410256411,
          0.6410256410256411,
          0.6538461538461539,
          0.6538461538461539,
          0.6666666666666666,
          0.6666666666666666,
          0.6794871794871795,
          0.6794871794871795,
          0.6923076923076923,
          0.6923076923076923,
          0.7051282051282052,
          0.7051282051282052,
          0.717948717948718,
          0.717948717948718,
          0.7307692307692307,
          0.7307692307692307,
          0.7435897435897436,
          0.7435897435897436,
          0.8461538461538461,
          0.8461538461538461,
          0.8846153846153846,
          0.8846153846153846,
          0.8974358974358975,
          0.8974358974358975,
          0.9102564102564102,
          0.9102564102564102,
          0.9230769230769231,
          0.9230769230769231,
          0.9358974358974359,
          0.9358974358974359,
          0.9871794871794872,
          0.9871794871794872,
          1
         ],
         "y": [
          0,
          0.004405286343612335,
          0.004405286343612335,
          0.01762114537444934,
          0.01762114537444934,
          0.11013215859030837,
          0.11013215859030837,
          0.1145374449339207,
          0.1145374449339207,
          0.14537444933920704,
          0.14537444933920704,
          0.14977973568281938,
          0.14977973568281938,
          0.15418502202643172,
          0.15418502202643172,
          0.16299559471365638,
          0.16299559471365638,
          0.18502202643171806,
          0.18502202643171806,
          0.20704845814977973,
          0.20704845814977973,
          0.23788546255506607,
          0.23788546255506607,
          0.24669603524229075,
          0.24669603524229075,
          0.2775330396475771,
          0.2775330396475771,
          0.28193832599118945,
          0.28193832599118945,
          0.29515418502202645,
          0.29515418502202645,
          0.3039647577092511,
          0.3039647577092511,
          0.30837004405286345,
          0.30837004405286345,
          0.3436123348017621,
          0.3436123348017621,
          0.3700440528634361,
          0.3700440528634361,
          0.3876651982378855,
          0.3876651982378855,
          0.4008810572687225,
          0.4008810572687225,
          0.41409691629955947,
          0.41409691629955947,
          0.43171806167400884,
          0.43171806167400884,
          0.44933920704845814,
          0.44933920704845814,
          0.4801762114537445,
          0.4801762114537445,
          0.4933920704845815,
          0.4933920704845815,
          0.5022026431718062,
          0.5022026431718062,
          0.5242290748898678,
          0.5242290748898678,
          0.5814977973568282,
          0.5814977973568282,
          0.5991189427312775,
          0.5991189427312775,
          0.6035242290748899,
          0.6035242290748899,
          0.6828193832599119,
          0.6828193832599119,
          0.6872246696035242,
          0.6872246696035242,
          0.7048458149779736,
          0.7048458149779736,
          0.7180616740088106,
          0.7180616740088106,
          0.7400881057268722,
          0.7400881057268722,
          0.7709251101321586,
          0.7709251101321586,
          0.7797356828193832,
          0.7797356828193832,
          0.7973568281938326,
          0.7973568281938326,
          0.8061674008810573,
          0.8061674008810573,
          0.8325991189427313,
          0.8325991189427313,
          0.8370044052863436,
          0.8370044052863436,
          0.8458149779735683,
          0.8458149779735683,
          0.8590308370044053,
          0.8590308370044053,
          0.8766519823788547,
          0.8766519823788547,
          0.9030837004405287,
          0.9030837004405287,
          0.920704845814978,
          0.920704845814978,
          0.9295154185022027,
          0.9295154185022027,
          0.9383259911894273,
          0.9383259911894273,
          0.9515418502202643,
          0.9515418502202643,
          0.960352422907489,
          0.960352422907489,
          0.973568281938326,
          0.973568281938326,
          0.9823788546255506,
          0.9823788546255506,
          0.9955947136563876,
          0.9955947136563876,
          1,
          1
         ]
        },
        {
         "line": {
          "color": "red",
          "dash": "dash"
         },
         "mode": "lines",
         "name": "Random",
         "type": "scatter",
         "x": [
          0,
          1
         ],
         "y": [
          0,
          1
         ]
        }
       ],
       "layout": {
        "height": 700,
        "legend": {
         "font": {
          "size": 16
         }
        },
        "showlegend": true,
        "template": {
         "data": {
          "bar": [
           {
            "error_x": {
             "color": "#2a3f5f"
            },
            "error_y": {
             "color": "#2a3f5f"
            },
            "marker": {
             "line": {
              "color": "#E5ECF6",
              "width": 0.5
             },
             "pattern": {
              "fillmode": "overlay",
              "size": 10,
              "solidity": 0.2
             }
            },
            "type": "bar"
           }
          ],
          "barpolar": [
           {
            "marker": {
             "line": {
              "color": "#E5ECF6",
              "width": 0.5
             },
             "pattern": {
              "fillmode": "overlay",
              "size": 10,
              "solidity": 0.2
             }
            },
            "type": "barpolar"
           }
          ],
          "carpet": [
           {
            "aaxis": {
             "endlinecolor": "#2a3f5f",
             "gridcolor": "white",
             "linecolor": "white",
             "minorgridcolor": "white",
             "startlinecolor": "#2a3f5f"
            },
            "baxis": {
             "endlinecolor": "#2a3f5f",
             "gridcolor": "white",
             "linecolor": "white",
             "minorgridcolor": "white",
             "startlinecolor": "#2a3f5f"
            },
            "type": "carpet"
           }
          ],
          "choropleth": [
           {
            "colorbar": {
             "outlinewidth": 0,
             "ticks": ""
            },
            "type": "choropleth"
           }
          ],
          "contour": [
           {
            "colorbar": {
             "outlinewidth": 0,
             "ticks": ""
            },
            "colorscale": [
             [
              0,
              "#0d0887"
             ],
             [
              0.1111111111111111,
              "#46039f"
             ],
             [
              0.2222222222222222,
              "#7201a8"
             ],
             [
              0.3333333333333333,
              "#9c179e"
             ],
             [
              0.4444444444444444,
              "#bd3786"
             ],
             [
              0.5555555555555556,
              "#d8576b"
             ],
             [
              0.6666666666666666,
              "#ed7953"
             ],
             [
              0.7777777777777778,
              "#fb9f3a"
             ],
             [
              0.8888888888888888,
              "#fdca26"
             ],
             [
              1,
              "#f0f921"
             ]
            ],
            "type": "contour"
           }
          ],
          "contourcarpet": [
           {
            "colorbar": {
             "outlinewidth": 0,
             "ticks": ""
            },
            "type": "contourcarpet"
           }
          ],
          "heatmap": [
           {
            "colorbar": {
             "outlinewidth": 0,
             "ticks": ""
            },
            "colorscale": [
             [
              0,
              "#0d0887"
             ],
             [
              0.1111111111111111,
              "#46039f"
             ],
             [
              0.2222222222222222,
              "#7201a8"
             ],
             [
              0.3333333333333333,
              "#9c179e"
             ],
             [
              0.4444444444444444,
              "#bd3786"
             ],
             [
              0.5555555555555556,
              "#d8576b"
             ],
             [
              0.6666666666666666,
              "#ed7953"
             ],
             [
              0.7777777777777778,
              "#fb9f3a"
             ],
             [
              0.8888888888888888,
              "#fdca26"
             ],
             [
              1,
              "#f0f921"
             ]
            ],
            "type": "heatmap"
           }
          ],
          "heatmapgl": [
           {
            "colorbar": {
             "outlinewidth": 0,
             "ticks": ""
            },
            "colorscale": [
             [
              0,
              "#0d0887"
             ],
             [
              0.1111111111111111,
              "#46039f"
             ],
             [
              0.2222222222222222,
              "#7201a8"
             ],
             [
              0.3333333333333333,
              "#9c179e"
             ],
             [
              0.4444444444444444,
              "#bd3786"
             ],
             [
              0.5555555555555556,
              "#d8576b"
             ],
             [
              0.6666666666666666,
              "#ed7953"
             ],
             [
              0.7777777777777778,
              "#fb9f3a"
             ],
             [
              0.8888888888888888,
              "#fdca26"
             ],
             [
              1,
              "#f0f921"
             ]
            ],
            "type": "heatmapgl"
           }
          ],
          "histogram": [
           {
            "marker": {
             "pattern": {
              "fillmode": "overlay",
              "size": 10,
              "solidity": 0.2
             }
            },
            "type": "histogram"
           }
          ],
          "histogram2d": [
           {
            "colorbar": {
             "outlinewidth": 0,
             "ticks": ""
            },
            "colorscale": [
             [
              0,
              "#0d0887"
             ],
             [
              0.1111111111111111,
              "#46039f"
             ],
             [
              0.2222222222222222,
              "#7201a8"
             ],
             [
              0.3333333333333333,
              "#9c179e"
             ],
             [
              0.4444444444444444,
              "#bd3786"
             ],
             [
              0.5555555555555556,
              "#d8576b"
             ],
             [
              0.6666666666666666,
              "#ed7953"
             ],
             [
              0.7777777777777778,
              "#fb9f3a"
             ],
             [
              0.8888888888888888,
              "#fdca26"
             ],
             [
              1,
              "#f0f921"
             ]
            ],
            "type": "histogram2d"
           }
          ],
          "histogram2dcontour": [
           {
            "colorbar": {
             "outlinewidth": 0,
             "ticks": ""
            },
            "colorscale": [
             [
              0,
              "#0d0887"
             ],
             [
              0.1111111111111111,
              "#46039f"
             ],
             [
              0.2222222222222222,
              "#7201a8"
             ],
             [
              0.3333333333333333,
              "#9c179e"
             ],
             [
              0.4444444444444444,
              "#bd3786"
             ],
             [
              0.5555555555555556,
              "#d8576b"
             ],
             [
              0.6666666666666666,
              "#ed7953"
             ],
             [
              0.7777777777777778,
              "#fb9f3a"
             ],
             [
              0.8888888888888888,
              "#fdca26"
             ],
             [
              1,
              "#f0f921"
             ]
            ],
            "type": "histogram2dcontour"
           }
          ],
          "mesh3d": [
           {
            "colorbar": {
             "outlinewidth": 0,
             "ticks": ""
            },
            "type": "mesh3d"
           }
          ],
          "parcoords": [
           {
            "line": {
             "colorbar": {
              "outlinewidth": 0,
              "ticks": ""
             }
            },
            "type": "parcoords"
           }
          ],
          "pie": [
           {
            "automargin": true,
            "type": "pie"
           }
          ],
          "scatter": [
           {
            "fillpattern": {
             "fillmode": "overlay",
             "size": 10,
             "solidity": 0.2
            },
            "type": "scatter"
           }
          ],
          "scatter3d": [
           {
            "line": {
             "colorbar": {
              "outlinewidth": 0,
              "ticks": ""
             }
            },
            "marker": {
             "colorbar": {
              "outlinewidth": 0,
              "ticks": ""
             }
            },
            "type": "scatter3d"
           }
          ],
          "scattercarpet": [
           {
            "marker": {
             "colorbar": {
              "outlinewidth": 0,
              "ticks": ""
             }
            },
            "type": "scattercarpet"
           }
          ],
          "scattergeo": [
           {
            "marker": {
             "colorbar": {
              "outlinewidth": 0,
              "ticks": ""
             }
            },
            "type": "scattergeo"
           }
          ],
          "scattergl": [
           {
            "marker": {
             "colorbar": {
              "outlinewidth": 0,
              "ticks": ""
             }
            },
            "type": "scattergl"
           }
          ],
          "scattermapbox": [
           {
            "marker": {
             "colorbar": {
              "outlinewidth": 0,
              "ticks": ""
             }
            },
            "type": "scattermapbox"
           }
          ],
          "scatterpolar": [
           {
            "marker": {
             "colorbar": {
              "outlinewidth": 0,
              "ticks": ""
             }
            },
            "type": "scatterpolar"
           }
          ],
          "scatterpolargl": [
           {
            "marker": {
             "colorbar": {
              "outlinewidth": 0,
              "ticks": ""
             }
            },
            "type": "scatterpolargl"
           }
          ],
          "scatterternary": [
           {
            "marker": {
             "colorbar": {
              "outlinewidth": 0,
              "ticks": ""
             }
            },
            "type": "scatterternary"
           }
          ],
          "surface": [
           {
            "colorbar": {
             "outlinewidth": 0,
             "ticks": ""
            },
            "colorscale": [
             [
              0,
              "#0d0887"
             ],
             [
              0.1111111111111111,
              "#46039f"
             ],
             [
              0.2222222222222222,
              "#7201a8"
             ],
             [
              0.3333333333333333,
              "#9c179e"
             ],
             [
              0.4444444444444444,
              "#bd3786"
             ],
             [
              0.5555555555555556,
              "#d8576b"
             ],
             [
              0.6666666666666666,
              "#ed7953"
             ],
             [
              0.7777777777777778,
              "#fb9f3a"
             ],
             [
              0.8888888888888888,
              "#fdca26"
             ],
             [
              1,
              "#f0f921"
             ]
            ],
            "type": "surface"
           }
          ],
          "table": [
           {
            "cells": {
             "fill": {
              "color": "#EBF0F8"
             },
             "line": {
              "color": "white"
             }
            },
            "header": {
             "fill": {
              "color": "#C8D4E3"
             },
             "line": {
              "color": "white"
             }
            },
            "type": "table"
           }
          ]
         },
         "layout": {
          "annotationdefaults": {
           "arrowcolor": "#2a3f5f",
           "arrowhead": 0,
           "arrowwidth": 1
          },
          "autotypenumbers": "strict",
          "coloraxis": {
           "colorbar": {
            "outlinewidth": 0,
            "ticks": ""
           }
          },
          "colorscale": {
           "diverging": [
            [
             0,
             "#8e0152"
            ],
            [
             0.1,
             "#c51b7d"
            ],
            [
             0.2,
             "#de77ae"
            ],
            [
             0.3,
             "#f1b6da"
            ],
            [
             0.4,
             "#fde0ef"
            ],
            [
             0.5,
             "#f7f7f7"
            ],
            [
             0.6,
             "#e6f5d0"
            ],
            [
             0.7,
             "#b8e186"
            ],
            [
             0.8,
             "#7fbc41"
            ],
            [
             0.9,
             "#4d9221"
            ],
            [
             1,
             "#276419"
            ]
           ],
           "sequential": [
            [
             0,
             "#0d0887"
            ],
            [
             0.1111111111111111,
             "#46039f"
            ],
            [
             0.2222222222222222,
             "#7201a8"
            ],
            [
             0.3333333333333333,
             "#9c179e"
            ],
            [
             0.4444444444444444,
             "#bd3786"
            ],
            [
             0.5555555555555556,
             "#d8576b"
            ],
            [
             0.6666666666666666,
             "#ed7953"
            ],
            [
             0.7777777777777778,
             "#fb9f3a"
            ],
            [
             0.8888888888888888,
             "#fdca26"
            ],
            [
             1,
             "#f0f921"
            ]
           ],
           "sequentialminus": [
            [
             0,
             "#0d0887"
            ],
            [
             0.1111111111111111,
             "#46039f"
            ],
            [
             0.2222222222222222,
             "#7201a8"
            ],
            [
             0.3333333333333333,
             "#9c179e"
            ],
            [
             0.4444444444444444,
             "#bd3786"
            ],
            [
             0.5555555555555556,
             "#d8576b"
            ],
            [
             0.6666666666666666,
             "#ed7953"
            ],
            [
             0.7777777777777778,
             "#fb9f3a"
            ],
            [
             0.8888888888888888,
             "#fdca26"
            ],
            [
             1,
             "#f0f921"
            ]
           ]
          },
          "colorway": [
           "#636efa",
           "#EF553B",
           "#00cc96",
           "#ab63fa",
           "#FFA15A",
           "#19d3f3",
           "#FF6692",
           "#B6E880",
           "#FF97FF",
           "#FECB52"
          ],
          "font": {
           "color": "#2a3f5f"
          },
          "geo": {
           "bgcolor": "white",
           "lakecolor": "white",
           "landcolor": "#E5ECF6",
           "showlakes": true,
           "showland": true,
           "subunitcolor": "white"
          },
          "hoverlabel": {
           "align": "left"
          },
          "hovermode": "closest",
          "mapbox": {
           "style": "light"
          },
          "paper_bgcolor": "white",
          "plot_bgcolor": "#E5ECF6",
          "polar": {
           "angularaxis": {
            "gridcolor": "white",
            "linecolor": "white",
            "ticks": ""
           },
           "bgcolor": "#E5ECF6",
           "radialaxis": {
            "gridcolor": "white",
            "linecolor": "white",
            "ticks": ""
           }
          },
          "scene": {
           "xaxis": {
            "backgroundcolor": "#E5ECF6",
            "gridcolor": "white",
            "gridwidth": 2,
            "linecolor": "white",
            "showbackground": true,
            "ticks": "",
            "zerolinecolor": "white"
           },
           "yaxis": {
            "backgroundcolor": "#E5ECF6",
            "gridcolor": "white",
            "gridwidth": 2,
            "linecolor": "white",
            "showbackground": true,
            "ticks": "",
            "zerolinecolor": "white"
           },
           "zaxis": {
            "backgroundcolor": "#E5ECF6",
            "gridcolor": "white",
            "gridwidth": 2,
            "linecolor": "white",
            "showbackground": true,
            "ticks": "",
            "zerolinecolor": "white"
           }
          },
          "shapedefaults": {
           "line": {
            "color": "#2a3f5f"
           }
          },
          "ternary": {
           "aaxis": {
            "gridcolor": "white",
            "linecolor": "white",
            "ticks": ""
           },
           "baxis": {
            "gridcolor": "white",
            "linecolor": "white",
            "ticks": ""
           },
           "bgcolor": "#E5ECF6",
           "caxis": {
            "gridcolor": "white",
            "linecolor": "white",
            "ticks": ""
           }
          },
          "title": {
           "x": 0.05
          },
          "xaxis": {
           "automargin": true,
           "gridcolor": "white",
           "linecolor": "white",
           "ticks": "",
           "title": {
            "standoff": 15
           },
           "zerolinecolor": "white",
           "zerolinewidth": 2
          },
          "yaxis": {
           "automargin": true,
           "gridcolor": "white",
           "linecolor": "white",
           "ticks": "",
           "title": {
            "standoff": 15
           },
           "zerolinecolor": "white",
           "zerolinewidth": 2
          }
         }
        },
        "title": {
         "font": {
          "size": 24
         },
         "text": "ROC Curve for Random_Forest of approach_1",
         "x": 0.5,
         "xanchor": "center",
         "yanchor": "top"
        },
        "width": 1100,
        "xaxis": {
         "title": {
          "font": {
           "size": 20
          },
          "text": "False Positive Rate"
         }
        },
        "yaxis": {
         "title": {
          "font": {
           "size": 20
          },
          "text": "True Positive Rate"
         }
        }
       }
      }
     },
     "metadata": {},
     "output_type": "display_data"
    }
   ],
   "source": [
    "### 1. Define hyperparameter distributions for each model\n",
    "rf_params = {\n",
    "    \"n_estimators\": randint(10, 150),\n",
    "    \"max_depth\": [3, 5, 10, 15],\n",
    "    \"min_samples_split\": randint(10, 30),\n",
    "    \"min_samples_leaf\": randint(10, 30),\n",
    "}\n",
    "\n",
    "### 2. Train Random Forest\n",
    "rf = RandomForestClassifier(random_state=42)\n",
    "rf_best, rf_auc, rf_acc, rf_f1, report = model_training.tune_and_evaluate_model(\n",
    "    rf,\n",
    "    rf_params,\n",
    "    X_train,\n",
    "    y_train,\n",
    "    X_test,\n",
    "    y_test,\n",
    "    model_name=\"Random_Forest\",\n",
    "    log_dir=\"models/logs/approach_1\",\n",
    "    model_dir=\"models/saved_models/approach_1\",\n",
    "    approach=\"approach_1\",\n",
    ")"
   ]
  },
  {
   "cell_type": "code",
   "execution_count": 26,
   "metadata": {},
   "outputs": [
    {
     "name": "stdout",
     "output_type": "stream",
     "text": [
      "shape: (3, 2)\n",
      "┌─────────────┬───────────────────────┐\n",
      "│ metrics     ┆ approach_1_rf_metrics │\n",
      "│ ---         ┆ ---                   │\n",
      "│ str         ┆ f64                   │\n",
      "╞═════════════╪═══════════════════════╡\n",
      "│ accuracy, % ┆ 75.0                  │\n",
      "│ f1_score    ┆ 0.855                 │\n",
      "│ auc         ┆ 0.595                 │\n",
      "└─────────────┴───────────────────────┘\n"
     ]
    }
   ],
   "source": [
    "### 1. create dataframe from metrics add to metrics dictionary\n",
    "approach_1_rf_metrics = pl.DataFrame(\n",
    "    {\n",
    "        \"metrics\": [\"accuracy, %\", \"f1_score\", \"auc\"],\n",
    "        \"approach_1_rf_metrics\": [\n",
    "            np.round(rf_acc * 100),\n",
    "            np.round(rf_f1, 3),\n",
    "            np.round(rf_auc, 3),\n",
    "        ],\n",
    "    }\n",
    ")\n",
    "METRICS_DICT[\"approach_1_rf_metrics\"] = approach_1_rf_metrics\n",
    "print(approach_1_rf_metrics)"
   ]
  },
  {
   "cell_type": "code",
   "execution_count": 27,
   "metadata": {},
   "outputs": [
    {
     "name": "stdout",
     "output_type": "stream",
     "text": [
      "shape: (2, 5)\n",
      "┌──────────┬───────────┬────────┬──────────┬───────┐\n",
      "│ category ┆ precision ┆ recall ┆ f1-score ┆ count │\n",
      "│ ---      ┆ ---       ┆ ---    ┆ ---      ┆ ---   │\n",
      "│ str      ┆ f64       ┆ f64    ┆ f64      ┆ i64   │\n",
      "╞══════════╪═══════════╪════════╪══════════╪═══════╡\n",
      "│ 0        ┆ 1.0       ┆ 0.01   ┆ 0.03     ┆ 78    │\n",
      "│ 1        ┆ 0.75      ┆ 1.0    ┆ 0.85     ┆ 227   │\n",
      "└──────────┴───────────┴────────┴──────────┴───────┘\n"
     ]
    }
   ],
   "source": [
    "### 1. convert report to polars dataframe\n",
    "approach_1_rf_report = model_training.classification_report_to_polars(report)\n",
    "\n",
    "### 2. save report\n",
    "approach_1_rf_report.write_excel(\"reports/approach_1/approach_1_rf_report.xlsx\")\n",
    "print(approach_1_rf_report)"
   ]
  },
  {
   "cell_type": "markdown",
   "metadata": {},
   "source": [
    "### <a id='toc1_1_3_'></a>[1.3 XGboost](#toc0_)"
   ]
  },
  {
   "cell_type": "code",
   "execution_count": 28,
   "metadata": {},
   "outputs": [
    {
     "name": "stdout",
     "output_type": "stream",
     "text": [
      "Fitting 5 folds for each of 50 candidates, totalling 250 fits\n",
      "XGBoost Best Hyperparameters: {'colsample_bytree': 0.7652669390630025, 'learning_rate': 0.01469092202235818, 'max_depth': 3, 'n_estimators': 137, 'subsample': 0.7579526072702278}\n",
      "XGBoost Test Metrics:\n",
      "AUC: 0.6415\n",
      "Accuracy: 0.6885\n",
      "F1-Score: 0.7921\n"
     ]
    },
    {
     "data": {
      "application/vnd.plotly.v1+json": {
       "config": {
        "plotlyServerURL": "https://plot.ly"
       },
       "data": [
        {
         "line": {
          "color": "blue"
         },
         "mode": "lines",
         "name": "XGBoost (AUC = 0.6415)",
         "type": "scatter",
         "x": [
          0,
          0,
          0,
          0.01282051282051282,
          0.01282051282051282,
          0.02564102564102564,
          0.02564102564102564,
          0.038461538461538464,
          0.038461538461538464,
          0.0641025641025641,
          0.0641025641025641,
          0.07692307692307693,
          0.07692307692307693,
          0.08974358974358974,
          0.08974358974358974,
          0.10256410256410256,
          0.10256410256410256,
          0.1282051282051282,
          0.1282051282051282,
          0.1794871794871795,
          0.1794871794871795,
          0.19230769230769232,
          0.19230769230769232,
          0.20512820512820512,
          0.20512820512820512,
          0.23076923076923078,
          0.23076923076923078,
          0.24358974358974358,
          0.24358974358974358,
          0.2564102564102564,
          0.2564102564102564,
          0.2692307692307692,
          0.2692307692307692,
          0.28205128205128205,
          0.28205128205128205,
          0.2948717948717949,
          0.2948717948717949,
          0.32051282051282054,
          0.32051282051282054,
          0.3333333333333333,
          0.3333333333333333,
          0.34615384615384615,
          0.34615384615384615,
          0.3717948717948718,
          0.3717948717948718,
          0.38461538461538464,
          0.38461538461538464,
          0.41025641025641024,
          0.41025641025641024,
          0.4230769230769231,
          0.4230769230769231,
          0.44871794871794873,
          0.44871794871794873,
          0.46153846153846156,
          0.46153846153846156,
          0.47435897435897434,
          0.47435897435897434,
          0.48717948717948717,
          0.48717948717948717,
          0.5128205128205128,
          0.5128205128205128,
          0.5256410256410257,
          0.5256410256410257,
          0.5384615384615384,
          0.5384615384615384,
          0.5512820512820513,
          0.5512820512820513,
          0.5641025641025641,
          0.5641025641025641,
          0.5769230769230769,
          0.5769230769230769,
          0.5897435897435898,
          0.5897435897435898,
          0.6153846153846154,
          0.6153846153846154,
          0.6410256410256411,
          0.6410256410256411,
          0.6538461538461539,
          0.6538461538461539,
          0.6666666666666666,
          0.6666666666666666,
          0.6794871794871795,
          0.6794871794871795,
          0.6923076923076923,
          0.6923076923076923,
          0.7051282051282052,
          0.7051282051282052,
          0.717948717948718,
          0.717948717948718,
          0.7307692307692307,
          0.7307692307692307,
          0.7435897435897436,
          0.7435897435897436,
          0.7564102564102564,
          0.7564102564102564,
          0.7692307692307693,
          0.7692307692307693,
          0.782051282051282,
          0.782051282051282,
          0.7948717948717948,
          0.7948717948717948,
          0.8076923076923077,
          0.8076923076923077,
          0.8205128205128205,
          0.8205128205128205,
          0.8333333333333334,
          0.8333333333333334,
          0.8717948717948718,
          0.8717948717948718,
          0.8846153846153846,
          0.8846153846153846,
          0.8974358974358975,
          0.8974358974358975,
          0.9102564102564102,
          0.9102564102564102,
          0.9230769230769231,
          0.9230769230769231,
          1
         ],
         "y": [
          0,
          0.004405286343612335,
          0.03524229074889868,
          0.03524229074889868,
          0.039647577092511016,
          0.039647577092511016,
          0.048458149779735685,
          0.048458149779735685,
          0.05726872246696035,
          0.05726872246696035,
          0.1013215859030837,
          0.1013215859030837,
          0.14537444933920704,
          0.14537444933920704,
          0.15859030837004406,
          0.15859030837004406,
          0.2026431718061674,
          0.2026431718061674,
          0.27312775330396477,
          0.27312775330396477,
          0.2775330396475771,
          0.2775330396475771,
          0.3524229074889868,
          0.3524229074889868,
          0.3920704845814978,
          0.3920704845814978,
          0.3964757709251101,
          0.3964757709251101,
          0.4185022026431718,
          0.4185022026431718,
          0.43171806167400884,
          0.43171806167400884,
          0.44052863436123346,
          0.44052863436123346,
          0.44933920704845814,
          0.44933920704845814,
          0.5859030837004405,
          0.5859030837004405,
          0.5991189427312775,
          0.5991189427312775,
          0.6035242290748899,
          0.6035242290748899,
          0.6255506607929515,
          0.6255506607929515,
          0.6387665198237885,
          0.6387665198237885,
          0.6431718061674009,
          0.6431718061674009,
          0.6475770925110133,
          0.6475770925110133,
          0.6563876651982379,
          0.6563876651982379,
          0.6607929515418502,
          0.6607929515418502,
          0.6740088105726872,
          0.6740088105726872,
          0.6784140969162996,
          0.6784140969162996,
          0.6828193832599119,
          0.6828193832599119,
          0.6960352422907489,
          0.6960352422907489,
          0.7092511013215859,
          0.7092511013215859,
          0.7136563876651982,
          0.7136563876651982,
          0.748898678414097,
          0.748898678414097,
          0.7577092511013216,
          0.7577092511013216,
          0.7665198237885462,
          0.7665198237885462,
          0.7797356828193832,
          0.7797356828193832,
          0.7973568281938326,
          0.7973568281938326,
          0.8061674008810573,
          0.8061674008810573,
          0.8105726872246696,
          0.8105726872246696,
          0.8237885462555066,
          0.8237885462555066,
          0.8281938325991189,
          0.8281938325991189,
          0.8325991189427313,
          0.8325991189427313,
          0.8502202643171806,
          0.8502202643171806,
          0.8590308370044053,
          0.8590308370044053,
          0.8678414096916299,
          0.8678414096916299,
          0.8766519823788547,
          0.8766519823788547,
          0.8986784140969163,
          0.8986784140969163,
          0.9030837004405287,
          0.9030837004405287,
          0.9074889867841409,
          0.9074889867841409,
          0.9162995594713657,
          0.9162995594713657,
          0.947136563876652,
          0.947136563876652,
          0.9515418502202643,
          0.9515418502202643,
          0.9647577092511013,
          0.9647577092511013,
          0.973568281938326,
          0.973568281938326,
          0.9779735682819384,
          0.9779735682819384,
          0.9911894273127754,
          0.9911894273127754,
          0.9955947136563876,
          0.9955947136563876,
          1,
          1
         ]
        },
        {
         "line": {
          "color": "red",
          "dash": "dash"
         },
         "mode": "lines",
         "name": "Random",
         "type": "scatter",
         "x": [
          0,
          1
         ],
         "y": [
          0,
          1
         ]
        }
       ],
       "layout": {
        "height": 700,
        "legend": {
         "font": {
          "size": 16
         }
        },
        "showlegend": true,
        "template": {
         "data": {
          "bar": [
           {
            "error_x": {
             "color": "#2a3f5f"
            },
            "error_y": {
             "color": "#2a3f5f"
            },
            "marker": {
             "line": {
              "color": "#E5ECF6",
              "width": 0.5
             },
             "pattern": {
              "fillmode": "overlay",
              "size": 10,
              "solidity": 0.2
             }
            },
            "type": "bar"
           }
          ],
          "barpolar": [
           {
            "marker": {
             "line": {
              "color": "#E5ECF6",
              "width": 0.5
             },
             "pattern": {
              "fillmode": "overlay",
              "size": 10,
              "solidity": 0.2
             }
            },
            "type": "barpolar"
           }
          ],
          "carpet": [
           {
            "aaxis": {
             "endlinecolor": "#2a3f5f",
             "gridcolor": "white",
             "linecolor": "white",
             "minorgridcolor": "white",
             "startlinecolor": "#2a3f5f"
            },
            "baxis": {
             "endlinecolor": "#2a3f5f",
             "gridcolor": "white",
             "linecolor": "white",
             "minorgridcolor": "white",
             "startlinecolor": "#2a3f5f"
            },
            "type": "carpet"
           }
          ],
          "choropleth": [
           {
            "colorbar": {
             "outlinewidth": 0,
             "ticks": ""
            },
            "type": "choropleth"
           }
          ],
          "contour": [
           {
            "colorbar": {
             "outlinewidth": 0,
             "ticks": ""
            },
            "colorscale": [
             [
              0,
              "#0d0887"
             ],
             [
              0.1111111111111111,
              "#46039f"
             ],
             [
              0.2222222222222222,
              "#7201a8"
             ],
             [
              0.3333333333333333,
              "#9c179e"
             ],
             [
              0.4444444444444444,
              "#bd3786"
             ],
             [
              0.5555555555555556,
              "#d8576b"
             ],
             [
              0.6666666666666666,
              "#ed7953"
             ],
             [
              0.7777777777777778,
              "#fb9f3a"
             ],
             [
              0.8888888888888888,
              "#fdca26"
             ],
             [
              1,
              "#f0f921"
             ]
            ],
            "type": "contour"
           }
          ],
          "contourcarpet": [
           {
            "colorbar": {
             "outlinewidth": 0,
             "ticks": ""
            },
            "type": "contourcarpet"
           }
          ],
          "heatmap": [
           {
            "colorbar": {
             "outlinewidth": 0,
             "ticks": ""
            },
            "colorscale": [
             [
              0,
              "#0d0887"
             ],
             [
              0.1111111111111111,
              "#46039f"
             ],
             [
              0.2222222222222222,
              "#7201a8"
             ],
             [
              0.3333333333333333,
              "#9c179e"
             ],
             [
              0.4444444444444444,
              "#bd3786"
             ],
             [
              0.5555555555555556,
              "#d8576b"
             ],
             [
              0.6666666666666666,
              "#ed7953"
             ],
             [
              0.7777777777777778,
              "#fb9f3a"
             ],
             [
              0.8888888888888888,
              "#fdca26"
             ],
             [
              1,
              "#f0f921"
             ]
            ],
            "type": "heatmap"
           }
          ],
          "heatmapgl": [
           {
            "colorbar": {
             "outlinewidth": 0,
             "ticks": ""
            },
            "colorscale": [
             [
              0,
              "#0d0887"
             ],
             [
              0.1111111111111111,
              "#46039f"
             ],
             [
              0.2222222222222222,
              "#7201a8"
             ],
             [
              0.3333333333333333,
              "#9c179e"
             ],
             [
              0.4444444444444444,
              "#bd3786"
             ],
             [
              0.5555555555555556,
              "#d8576b"
             ],
             [
              0.6666666666666666,
              "#ed7953"
             ],
             [
              0.7777777777777778,
              "#fb9f3a"
             ],
             [
              0.8888888888888888,
              "#fdca26"
             ],
             [
              1,
              "#f0f921"
             ]
            ],
            "type": "heatmapgl"
           }
          ],
          "histogram": [
           {
            "marker": {
             "pattern": {
              "fillmode": "overlay",
              "size": 10,
              "solidity": 0.2
             }
            },
            "type": "histogram"
           }
          ],
          "histogram2d": [
           {
            "colorbar": {
             "outlinewidth": 0,
             "ticks": ""
            },
            "colorscale": [
             [
              0,
              "#0d0887"
             ],
             [
              0.1111111111111111,
              "#46039f"
             ],
             [
              0.2222222222222222,
              "#7201a8"
             ],
             [
              0.3333333333333333,
              "#9c179e"
             ],
             [
              0.4444444444444444,
              "#bd3786"
             ],
             [
              0.5555555555555556,
              "#d8576b"
             ],
             [
              0.6666666666666666,
              "#ed7953"
             ],
             [
              0.7777777777777778,
              "#fb9f3a"
             ],
             [
              0.8888888888888888,
              "#fdca26"
             ],
             [
              1,
              "#f0f921"
             ]
            ],
            "type": "histogram2d"
           }
          ],
          "histogram2dcontour": [
           {
            "colorbar": {
             "outlinewidth": 0,
             "ticks": ""
            },
            "colorscale": [
             [
              0,
              "#0d0887"
             ],
             [
              0.1111111111111111,
              "#46039f"
             ],
             [
              0.2222222222222222,
              "#7201a8"
             ],
             [
              0.3333333333333333,
              "#9c179e"
             ],
             [
              0.4444444444444444,
              "#bd3786"
             ],
             [
              0.5555555555555556,
              "#d8576b"
             ],
             [
              0.6666666666666666,
              "#ed7953"
             ],
             [
              0.7777777777777778,
              "#fb9f3a"
             ],
             [
              0.8888888888888888,
              "#fdca26"
             ],
             [
              1,
              "#f0f921"
             ]
            ],
            "type": "histogram2dcontour"
           }
          ],
          "mesh3d": [
           {
            "colorbar": {
             "outlinewidth": 0,
             "ticks": ""
            },
            "type": "mesh3d"
           }
          ],
          "parcoords": [
           {
            "line": {
             "colorbar": {
              "outlinewidth": 0,
              "ticks": ""
             }
            },
            "type": "parcoords"
           }
          ],
          "pie": [
           {
            "automargin": true,
            "type": "pie"
           }
          ],
          "scatter": [
           {
            "fillpattern": {
             "fillmode": "overlay",
             "size": 10,
             "solidity": 0.2
            },
            "type": "scatter"
           }
          ],
          "scatter3d": [
           {
            "line": {
             "colorbar": {
              "outlinewidth": 0,
              "ticks": ""
             }
            },
            "marker": {
             "colorbar": {
              "outlinewidth": 0,
              "ticks": ""
             }
            },
            "type": "scatter3d"
           }
          ],
          "scattercarpet": [
           {
            "marker": {
             "colorbar": {
              "outlinewidth": 0,
              "ticks": ""
             }
            },
            "type": "scattercarpet"
           }
          ],
          "scattergeo": [
           {
            "marker": {
             "colorbar": {
              "outlinewidth": 0,
              "ticks": ""
             }
            },
            "type": "scattergeo"
           }
          ],
          "scattergl": [
           {
            "marker": {
             "colorbar": {
              "outlinewidth": 0,
              "ticks": ""
             }
            },
            "type": "scattergl"
           }
          ],
          "scattermapbox": [
           {
            "marker": {
             "colorbar": {
              "outlinewidth": 0,
              "ticks": ""
             }
            },
            "type": "scattermapbox"
           }
          ],
          "scatterpolar": [
           {
            "marker": {
             "colorbar": {
              "outlinewidth": 0,
              "ticks": ""
             }
            },
            "type": "scatterpolar"
           }
          ],
          "scatterpolargl": [
           {
            "marker": {
             "colorbar": {
              "outlinewidth": 0,
              "ticks": ""
             }
            },
            "type": "scatterpolargl"
           }
          ],
          "scatterternary": [
           {
            "marker": {
             "colorbar": {
              "outlinewidth": 0,
              "ticks": ""
             }
            },
            "type": "scatterternary"
           }
          ],
          "surface": [
           {
            "colorbar": {
             "outlinewidth": 0,
             "ticks": ""
            },
            "colorscale": [
             [
              0,
              "#0d0887"
             ],
             [
              0.1111111111111111,
              "#46039f"
             ],
             [
              0.2222222222222222,
              "#7201a8"
             ],
             [
              0.3333333333333333,
              "#9c179e"
             ],
             [
              0.4444444444444444,
              "#bd3786"
             ],
             [
              0.5555555555555556,
              "#d8576b"
             ],
             [
              0.6666666666666666,
              "#ed7953"
             ],
             [
              0.7777777777777778,
              "#fb9f3a"
             ],
             [
              0.8888888888888888,
              "#fdca26"
             ],
             [
              1,
              "#f0f921"
             ]
            ],
            "type": "surface"
           }
          ],
          "table": [
           {
            "cells": {
             "fill": {
              "color": "#EBF0F8"
             },
             "line": {
              "color": "white"
             }
            },
            "header": {
             "fill": {
              "color": "#C8D4E3"
             },
             "line": {
              "color": "white"
             }
            },
            "type": "table"
           }
          ]
         },
         "layout": {
          "annotationdefaults": {
           "arrowcolor": "#2a3f5f",
           "arrowhead": 0,
           "arrowwidth": 1
          },
          "autotypenumbers": "strict",
          "coloraxis": {
           "colorbar": {
            "outlinewidth": 0,
            "ticks": ""
           }
          },
          "colorscale": {
           "diverging": [
            [
             0,
             "#8e0152"
            ],
            [
             0.1,
             "#c51b7d"
            ],
            [
             0.2,
             "#de77ae"
            ],
            [
             0.3,
             "#f1b6da"
            ],
            [
             0.4,
             "#fde0ef"
            ],
            [
             0.5,
             "#f7f7f7"
            ],
            [
             0.6,
             "#e6f5d0"
            ],
            [
             0.7,
             "#b8e186"
            ],
            [
             0.8,
             "#7fbc41"
            ],
            [
             0.9,
             "#4d9221"
            ],
            [
             1,
             "#276419"
            ]
           ],
           "sequential": [
            [
             0,
             "#0d0887"
            ],
            [
             0.1111111111111111,
             "#46039f"
            ],
            [
             0.2222222222222222,
             "#7201a8"
            ],
            [
             0.3333333333333333,
             "#9c179e"
            ],
            [
             0.4444444444444444,
             "#bd3786"
            ],
            [
             0.5555555555555556,
             "#d8576b"
            ],
            [
             0.6666666666666666,
             "#ed7953"
            ],
            [
             0.7777777777777778,
             "#fb9f3a"
            ],
            [
             0.8888888888888888,
             "#fdca26"
            ],
            [
             1,
             "#f0f921"
            ]
           ],
           "sequentialminus": [
            [
             0,
             "#0d0887"
            ],
            [
             0.1111111111111111,
             "#46039f"
            ],
            [
             0.2222222222222222,
             "#7201a8"
            ],
            [
             0.3333333333333333,
             "#9c179e"
            ],
            [
             0.4444444444444444,
             "#bd3786"
            ],
            [
             0.5555555555555556,
             "#d8576b"
            ],
            [
             0.6666666666666666,
             "#ed7953"
            ],
            [
             0.7777777777777778,
             "#fb9f3a"
            ],
            [
             0.8888888888888888,
             "#fdca26"
            ],
            [
             1,
             "#f0f921"
            ]
           ]
          },
          "colorway": [
           "#636efa",
           "#EF553B",
           "#00cc96",
           "#ab63fa",
           "#FFA15A",
           "#19d3f3",
           "#FF6692",
           "#B6E880",
           "#FF97FF",
           "#FECB52"
          ],
          "font": {
           "color": "#2a3f5f"
          },
          "geo": {
           "bgcolor": "white",
           "lakecolor": "white",
           "landcolor": "#E5ECF6",
           "showlakes": true,
           "showland": true,
           "subunitcolor": "white"
          },
          "hoverlabel": {
           "align": "left"
          },
          "hovermode": "closest",
          "mapbox": {
           "style": "light"
          },
          "paper_bgcolor": "white",
          "plot_bgcolor": "#E5ECF6",
          "polar": {
           "angularaxis": {
            "gridcolor": "white",
            "linecolor": "white",
            "ticks": ""
           },
           "bgcolor": "#E5ECF6",
           "radialaxis": {
            "gridcolor": "white",
            "linecolor": "white",
            "ticks": ""
           }
          },
          "scene": {
           "xaxis": {
            "backgroundcolor": "#E5ECF6",
            "gridcolor": "white",
            "gridwidth": 2,
            "linecolor": "white",
            "showbackground": true,
            "ticks": "",
            "zerolinecolor": "white"
           },
           "yaxis": {
            "backgroundcolor": "#E5ECF6",
            "gridcolor": "white",
            "gridwidth": 2,
            "linecolor": "white",
            "showbackground": true,
            "ticks": "",
            "zerolinecolor": "white"
           },
           "zaxis": {
            "backgroundcolor": "#E5ECF6",
            "gridcolor": "white",
            "gridwidth": 2,
            "linecolor": "white",
            "showbackground": true,
            "ticks": "",
            "zerolinecolor": "white"
           }
          },
          "shapedefaults": {
           "line": {
            "color": "#2a3f5f"
           }
          },
          "ternary": {
           "aaxis": {
            "gridcolor": "white",
            "linecolor": "white",
            "ticks": ""
           },
           "baxis": {
            "gridcolor": "white",
            "linecolor": "white",
            "ticks": ""
           },
           "bgcolor": "#E5ECF6",
           "caxis": {
            "gridcolor": "white",
            "linecolor": "white",
            "ticks": ""
           }
          },
          "title": {
           "x": 0.05
          },
          "xaxis": {
           "automargin": true,
           "gridcolor": "white",
           "linecolor": "white",
           "ticks": "",
           "title": {
            "standoff": 15
           },
           "zerolinecolor": "white",
           "zerolinewidth": 2
          },
          "yaxis": {
           "automargin": true,
           "gridcolor": "white",
           "linecolor": "white",
           "ticks": "",
           "title": {
            "standoff": 15
           },
           "zerolinecolor": "white",
           "zerolinewidth": 2
          }
         }
        },
        "title": {
         "font": {
          "size": 24
         },
         "text": "ROC Curve for XGBoost of approach_1",
         "x": 0.5,
         "xanchor": "center",
         "yanchor": "top"
        },
        "width": 1100,
        "xaxis": {
         "title": {
          "font": {
           "size": 20
          },
          "text": "False Positive Rate"
         }
        },
        "yaxis": {
         "title": {
          "font": {
           "size": 20
          },
          "text": "True Positive Rate"
         }
        }
       }
      }
     },
     "metadata": {},
     "output_type": "display_data"
    }
   ],
   "source": [
    "### 1. Define hyperparameter distributions for each model\n",
    "xgb_params = {\n",
    "    \"n_estimators\": randint(50, 150),\n",
    "    \"max_depth\": randint(3, 10),\n",
    "    \"learning_rate\": uniform(0.01, 0.3),\n",
    "    \"subsample\": uniform(0.6, 0.4),\n",
    "    \"colsample_bytree\": uniform(0.6, 1.0),\n",
    "}\n",
    "\n",
    "# Compute class distribution\n",
    "counter = Counter(y_train)\n",
    "scale_pos_weight = counter[0] / counter[1]  # Majority / Minority class ratio\n",
    "\n",
    "### 2.Train XGBoost\n",
    "xgb = XGBClassifier(\n",
    "    use_label_encoder=False,\n",
    "    eval_metric=\"logloss\",\n",
    "    random_state=42,\n",
    "    scale_pos_weight=scale_pos_weight,\n",
    ")\n",
    "xgb_best, xgb_auc, xgb_acc, xgb_f1, report = model_training.tune_and_evaluate_model(\n",
    "    xgb,\n",
    "    xgb_params,\n",
    "    X_train,\n",
    "    y_train,\n",
    "    X_test,\n",
    "    y_test,\n",
    "    model_name=\"XGBoost\",\n",
    "    log_dir=\"models/logs/approach_1\",\n",
    "    model_dir=\"models/saved_models/approach_1\",\n",
    "    approach=\"approach_1\",\n",
    ")"
   ]
  },
  {
   "cell_type": "code",
   "execution_count": 29,
   "metadata": {},
   "outputs": [
    {
     "name": "stdout",
     "output_type": "stream",
     "text": [
      "shape: (3, 2)\n",
      "┌─────────────┬────────────────────────────┐\n",
      "│ metrics     ┆ approach_1_xgboost_metrics │\n",
      "│ ---         ┆ ---                        │\n",
      "│ str         ┆ f64                        │\n",
      "╞═════════════╪════════════════════════════╡\n",
      "│ accuracy, % ┆ 69.0                       │\n",
      "│ f1_score    ┆ 0.792                      │\n",
      "│ auc         ┆ 0.642                      │\n",
      "└─────────────┴────────────────────────────┘\n"
     ]
    }
   ],
   "source": [
    "### 1. create dataframe from metrics add to metrics dictionary\n",
    "approach_1_xgboost_metrics = pl.DataFrame(\n",
    "    {\n",
    "        \"metrics\": [\"accuracy, %\", \"f1_score\", \"auc\"],\n",
    "        \"approach_1_xgboost_metrics\": [\n",
    "            np.round(xgb_acc * 100),\n",
    "            np.round(xgb_f1, 3),\n",
    "            np.round(xgb_auc, 3),\n",
    "        ],\n",
    "    }\n",
    ")\n",
    "METRICS_DICT[\"approach_1_xgboost_metrics\"] = approach_1_xgboost_metrics\n",
    "print(approach_1_xgboost_metrics)"
   ]
  },
  {
   "cell_type": "code",
   "execution_count": 30,
   "metadata": {},
   "outputs": [
    {
     "name": "stdout",
     "output_type": "stream",
     "text": [
      "shape: (2, 5)\n",
      "┌──────────┬───────────┬────────┬──────────┬───────┐\n",
      "│ category ┆ precision ┆ recall ┆ f1-score ┆ count │\n",
      "│ ---      ┆ ---       ┆ ---    ┆ ---      ┆ ---   │\n",
      "│ str      ┆ f64       ┆ f64    ┆ f64      ┆ i64   │\n",
      "╞══════════╪═══════════╪════════╪══════════╪═══════╡\n",
      "│ 0        ┆ 0.39      ┆ 0.37   ┆ 0.38     ┆ 78    │\n",
      "│ 1        ┆ 0.79      ┆ 0.8    ┆ 0.79     ┆ 227   │\n",
      "└──────────┴───────────┴────────┴──────────┴───────┘\n"
     ]
    }
   ],
   "source": [
    "### 1. convert report to polars dataframe\n",
    "approach_1_xgboost_report = model_training.classification_report_to_polars(report)\n",
    "\n",
    "### 2. save report\n",
    "approach_1_xgboost_report.write_excel(\n",
    "    \"reports/approach_1/approach_1_xgboost_report.xlsx\"\n",
    ")\n",
    "print(approach_1_xgboost_report)"
   ]
  },
  {
   "cell_type": "markdown",
   "metadata": {},
   "source": [
    "## <a id='toc1_2_'></a>[2. Approach 2: Correlation-Based Feature Selection & Outlier Removal](#toc0_)"
   ]
  },
  {
   "cell_type": "code",
   "execution_count": 31,
   "metadata": {},
   "outputs": [],
   "source": [
    "### 1. download train and test sets\n",
    "train_set = pl.read_excel(\"dataset/processed/train_processed_approach_2.xlsx\")\n",
    "test_set = pl.read_excel(\"dataset/processed/test_processed_approach_2.xlsx\")\n",
    "\n",
    "### 2. Drop \"Patient ID\" and handle \"ER\" as the target and Separate features and target\n",
    "X_train = train_set.drop(\"Patient ID\", \"ER\").to_numpy()\n",
    "y_train = train_set[\"ER\"].to_numpy()\n",
    "X_test = test_set.drop(\"Patient ID\", \"ER\").to_numpy()\n",
    "y_test = test_set[\"ER\"].to_numpy()"
   ]
  },
  {
   "cell_type": "markdown",
   "metadata": {},
   "source": [
    "### <a id='toc1_2_1_'></a>[2.1 Logistics regression](#toc0_)"
   ]
  },
  {
   "cell_type": "code",
   "execution_count": 32,
   "metadata": {},
   "outputs": [
    {
     "name": "stdout",
     "output_type": "stream",
     "text": [
      "Fitting 5 folds for each of 50 candidates, totalling 250 fits\n",
      "Logistic_Regression_with_ridge_penalty Best Hyperparameters: {'C': 8.334426408004218, 'penalty': 'l2', 'solver': 'sag'}\n",
      "Logistic_Regression_with_ridge_penalty Test Metrics:\n",
      "AUC: 0.6508\n",
      "Accuracy: 0.7475\n",
      "F1-Score: 0.8550\n"
     ]
    },
    {
     "data": {
      "application/vnd.plotly.v1+json": {
       "config": {
        "plotlyServerURL": "https://plot.ly"
       },
       "data": [
        {
         "line": {
          "color": "blue"
         },
         "mode": "lines",
         "name": "Logistic_Regression_with_ridge_penalty (AUC = 0.6508)",
         "type": "scatter",
         "x": [
          0,
          0,
          0,
          0.01282051282051282,
          0.01282051282051282,
          0.02564102564102564,
          0.02564102564102564,
          0.038461538461538464,
          0.038461538461538464,
          0.05128205128205128,
          0.05128205128205128,
          0.0641025641025641,
          0.0641025641025641,
          0.07692307692307693,
          0.07692307692307693,
          0.10256410256410256,
          0.10256410256410256,
          0.11538461538461539,
          0.11538461538461539,
          0.1282051282051282,
          0.1282051282051282,
          0.16666666666666666,
          0.16666666666666666,
          0.1794871794871795,
          0.1794871794871795,
          0.20512820512820512,
          0.20512820512820512,
          0.23076923076923078,
          0.23076923076923078,
          0.24358974358974358,
          0.24358974358974358,
          0.2564102564102564,
          0.2564102564102564,
          0.28205128205128205,
          0.28205128205128205,
          0.2948717948717949,
          0.2948717948717949,
          0.3076923076923077,
          0.3076923076923077,
          0.32051282051282054,
          0.32051282051282054,
          0.3333333333333333,
          0.3333333333333333,
          0.34615384615384615,
          0.34615384615384615,
          0.358974358974359,
          0.358974358974359,
          0.3717948717948718,
          0.3717948717948718,
          0.38461538461538464,
          0.38461538461538464,
          0.3974358974358974,
          0.3974358974358974,
          0.41025641025641024,
          0.41025641025641024,
          0.4230769230769231,
          0.4230769230769231,
          0.44871794871794873,
          0.44871794871794873,
          0.46153846153846156,
          0.46153846153846156,
          0.47435897435897434,
          0.47435897435897434,
          0.48717948717948717,
          0.48717948717948717,
          0.5,
          0.5,
          0.5128205128205128,
          0.5128205128205128,
          0.5256410256410257,
          0.5256410256410257,
          0.5384615384615384,
          0.5384615384615384,
          0.5512820512820513,
          0.5512820512820513,
          0.5641025641025641,
          0.5641025641025641,
          0.5769230769230769,
          0.5769230769230769,
          0.5897435897435898,
          0.5897435897435898,
          0.6025641025641025,
          0.6025641025641025,
          0.6282051282051282,
          0.6282051282051282,
          0.6410256410256411,
          0.6410256410256411,
          0.6666666666666666,
          0.6666666666666666,
          0.6923076923076923,
          0.6923076923076923,
          0.7051282051282052,
          0.7051282051282052,
          0.7307692307692307,
          0.7307692307692307,
          0.7435897435897436,
          0.7435897435897436,
          0.7564102564102564,
          0.7564102564102564,
          0.7948717948717948,
          0.7948717948717948,
          0.8205128205128205,
          0.8205128205128205,
          0.8333333333333334,
          0.8333333333333334,
          0.8717948717948718,
          0.8717948717948718,
          0.9102564102564102,
          0.9102564102564102,
          0.9358974358974359,
          0.9358974358974359,
          0.9615384615384616,
          0.9615384615384616,
          0.9743589743589743,
          0.9743589743589743,
          0.9871794871794872,
          0.9871794871794872,
          1
         ],
         "y": [
          0,
          0.004405286343612335,
          0.13215859030837004,
          0.13215859030837004,
          0.14977973568281938,
          0.14977973568281938,
          0.15859030837004406,
          0.15859030837004406,
          0.16299559471365638,
          0.16299559471365638,
          0.2643171806167401,
          0.2643171806167401,
          0.2775330396475771,
          0.2775330396475771,
          0.29515418502202645,
          0.29515418502202645,
          0.3303964757709251,
          0.3303964757709251,
          0.3524229074889868,
          0.3524229074889868,
          0.3568281938325991,
          0.3568281938325991,
          0.3656387665198238,
          0.3656387665198238,
          0.3832599118942731,
          0.3832599118942731,
          0.3876651982378855,
          0.3876651982378855,
          0.3964757709251101,
          0.3964757709251101,
          0.43612334801762115,
          0.43612334801762115,
          0.44933920704845814,
          0.44933920704845814,
          0.4845814977973568,
          0.4845814977973568,
          0.5022026431718062,
          0.5022026431718062,
          0.5110132158590308,
          0.5110132158590308,
          0.5154185022026432,
          0.5154185022026432,
          0.5418502202643172,
          0.5418502202643172,
          0.5462555066079295,
          0.5462555066079295,
          0.5550660792951542,
          0.5550660792951542,
          0.5991189427312775,
          0.5991189427312775,
          0.6299559471365639,
          0.6299559471365639,
          0.6343612334801763,
          0.6343612334801763,
          0.6475770925110133,
          0.6475770925110133,
          0.6519823788546255,
          0.6519823788546255,
          0.6651982378854625,
          0.6651982378854625,
          0.6740088105726872,
          0.6740088105726872,
          0.6872246696035242,
          0.6872246696035242,
          0.6960352422907489,
          0.6960352422907489,
          0.7048458149779736,
          0.7048458149779736,
          0.7180616740088106,
          0.7180616740088106,
          0.7224669603524229,
          0.7224669603524229,
          0.7312775330396476,
          0.7312775330396476,
          0.7400881057268722,
          0.7400881057268722,
          0.748898678414097,
          0.748898678414097,
          0.7533039647577092,
          0.7533039647577092,
          0.7665198237885462,
          0.7665198237885462,
          0.775330396475771,
          0.775330396475771,
          0.7841409691629956,
          0.7841409691629956,
          0.7929515418502202,
          0.7929515418502202,
          0.8061674008810573,
          0.8061674008810573,
          0.8149779735682819,
          0.8149779735682819,
          0.8325991189427313,
          0.8325991189427313,
          0.8546255506607929,
          0.8546255506607929,
          0.8590308370044053,
          0.8590308370044053,
          0.8942731277533039,
          0.8942731277533039,
          0.9030837004405287,
          0.9030837004405287,
          0.9118942731277533,
          0.9118942731277533,
          0.920704845814978,
          0.920704845814978,
          0.933920704845815,
          0.933920704845815,
          0.9647577092511013,
          0.9647577092511013,
          0.9779735682819384,
          0.9779735682819384,
          0.986784140969163,
          0.986784140969163,
          0.9911894273127754,
          0.9911894273127754,
          1,
          1
         ]
        },
        {
         "line": {
          "color": "red",
          "dash": "dash"
         },
         "mode": "lines",
         "name": "Random",
         "type": "scatter",
         "x": [
          0,
          1
         ],
         "y": [
          0,
          1
         ]
        }
       ],
       "layout": {
        "height": 700,
        "legend": {
         "font": {
          "size": 16
         }
        },
        "showlegend": true,
        "template": {
         "data": {
          "bar": [
           {
            "error_x": {
             "color": "#2a3f5f"
            },
            "error_y": {
             "color": "#2a3f5f"
            },
            "marker": {
             "line": {
              "color": "#E5ECF6",
              "width": 0.5
             },
             "pattern": {
              "fillmode": "overlay",
              "size": 10,
              "solidity": 0.2
             }
            },
            "type": "bar"
           }
          ],
          "barpolar": [
           {
            "marker": {
             "line": {
              "color": "#E5ECF6",
              "width": 0.5
             },
             "pattern": {
              "fillmode": "overlay",
              "size": 10,
              "solidity": 0.2
             }
            },
            "type": "barpolar"
           }
          ],
          "carpet": [
           {
            "aaxis": {
             "endlinecolor": "#2a3f5f",
             "gridcolor": "white",
             "linecolor": "white",
             "minorgridcolor": "white",
             "startlinecolor": "#2a3f5f"
            },
            "baxis": {
             "endlinecolor": "#2a3f5f",
             "gridcolor": "white",
             "linecolor": "white",
             "minorgridcolor": "white",
             "startlinecolor": "#2a3f5f"
            },
            "type": "carpet"
           }
          ],
          "choropleth": [
           {
            "colorbar": {
             "outlinewidth": 0,
             "ticks": ""
            },
            "type": "choropleth"
           }
          ],
          "contour": [
           {
            "colorbar": {
             "outlinewidth": 0,
             "ticks": ""
            },
            "colorscale": [
             [
              0,
              "#0d0887"
             ],
             [
              0.1111111111111111,
              "#46039f"
             ],
             [
              0.2222222222222222,
              "#7201a8"
             ],
             [
              0.3333333333333333,
              "#9c179e"
             ],
             [
              0.4444444444444444,
              "#bd3786"
             ],
             [
              0.5555555555555556,
              "#d8576b"
             ],
             [
              0.6666666666666666,
              "#ed7953"
             ],
             [
              0.7777777777777778,
              "#fb9f3a"
             ],
             [
              0.8888888888888888,
              "#fdca26"
             ],
             [
              1,
              "#f0f921"
             ]
            ],
            "type": "contour"
           }
          ],
          "contourcarpet": [
           {
            "colorbar": {
             "outlinewidth": 0,
             "ticks": ""
            },
            "type": "contourcarpet"
           }
          ],
          "heatmap": [
           {
            "colorbar": {
             "outlinewidth": 0,
             "ticks": ""
            },
            "colorscale": [
             [
              0,
              "#0d0887"
             ],
             [
              0.1111111111111111,
              "#46039f"
             ],
             [
              0.2222222222222222,
              "#7201a8"
             ],
             [
              0.3333333333333333,
              "#9c179e"
             ],
             [
              0.4444444444444444,
              "#bd3786"
             ],
             [
              0.5555555555555556,
              "#d8576b"
             ],
             [
              0.6666666666666666,
              "#ed7953"
             ],
             [
              0.7777777777777778,
              "#fb9f3a"
             ],
             [
              0.8888888888888888,
              "#fdca26"
             ],
             [
              1,
              "#f0f921"
             ]
            ],
            "type": "heatmap"
           }
          ],
          "heatmapgl": [
           {
            "colorbar": {
             "outlinewidth": 0,
             "ticks": ""
            },
            "colorscale": [
             [
              0,
              "#0d0887"
             ],
             [
              0.1111111111111111,
              "#46039f"
             ],
             [
              0.2222222222222222,
              "#7201a8"
             ],
             [
              0.3333333333333333,
              "#9c179e"
             ],
             [
              0.4444444444444444,
              "#bd3786"
             ],
             [
              0.5555555555555556,
              "#d8576b"
             ],
             [
              0.6666666666666666,
              "#ed7953"
             ],
             [
              0.7777777777777778,
              "#fb9f3a"
             ],
             [
              0.8888888888888888,
              "#fdca26"
             ],
             [
              1,
              "#f0f921"
             ]
            ],
            "type": "heatmapgl"
           }
          ],
          "histogram": [
           {
            "marker": {
             "pattern": {
              "fillmode": "overlay",
              "size": 10,
              "solidity": 0.2
             }
            },
            "type": "histogram"
           }
          ],
          "histogram2d": [
           {
            "colorbar": {
             "outlinewidth": 0,
             "ticks": ""
            },
            "colorscale": [
             [
              0,
              "#0d0887"
             ],
             [
              0.1111111111111111,
              "#46039f"
             ],
             [
              0.2222222222222222,
              "#7201a8"
             ],
             [
              0.3333333333333333,
              "#9c179e"
             ],
             [
              0.4444444444444444,
              "#bd3786"
             ],
             [
              0.5555555555555556,
              "#d8576b"
             ],
             [
              0.6666666666666666,
              "#ed7953"
             ],
             [
              0.7777777777777778,
              "#fb9f3a"
             ],
             [
              0.8888888888888888,
              "#fdca26"
             ],
             [
              1,
              "#f0f921"
             ]
            ],
            "type": "histogram2d"
           }
          ],
          "histogram2dcontour": [
           {
            "colorbar": {
             "outlinewidth": 0,
             "ticks": ""
            },
            "colorscale": [
             [
              0,
              "#0d0887"
             ],
             [
              0.1111111111111111,
              "#46039f"
             ],
             [
              0.2222222222222222,
              "#7201a8"
             ],
             [
              0.3333333333333333,
              "#9c179e"
             ],
             [
              0.4444444444444444,
              "#bd3786"
             ],
             [
              0.5555555555555556,
              "#d8576b"
             ],
             [
              0.6666666666666666,
              "#ed7953"
             ],
             [
              0.7777777777777778,
              "#fb9f3a"
             ],
             [
              0.8888888888888888,
              "#fdca26"
             ],
             [
              1,
              "#f0f921"
             ]
            ],
            "type": "histogram2dcontour"
           }
          ],
          "mesh3d": [
           {
            "colorbar": {
             "outlinewidth": 0,
             "ticks": ""
            },
            "type": "mesh3d"
           }
          ],
          "parcoords": [
           {
            "line": {
             "colorbar": {
              "outlinewidth": 0,
              "ticks": ""
             }
            },
            "type": "parcoords"
           }
          ],
          "pie": [
           {
            "automargin": true,
            "type": "pie"
           }
          ],
          "scatter": [
           {
            "fillpattern": {
             "fillmode": "overlay",
             "size": 10,
             "solidity": 0.2
            },
            "type": "scatter"
           }
          ],
          "scatter3d": [
           {
            "line": {
             "colorbar": {
              "outlinewidth": 0,
              "ticks": ""
             }
            },
            "marker": {
             "colorbar": {
              "outlinewidth": 0,
              "ticks": ""
             }
            },
            "type": "scatter3d"
           }
          ],
          "scattercarpet": [
           {
            "marker": {
             "colorbar": {
              "outlinewidth": 0,
              "ticks": ""
             }
            },
            "type": "scattercarpet"
           }
          ],
          "scattergeo": [
           {
            "marker": {
             "colorbar": {
              "outlinewidth": 0,
              "ticks": ""
             }
            },
            "type": "scattergeo"
           }
          ],
          "scattergl": [
           {
            "marker": {
             "colorbar": {
              "outlinewidth": 0,
              "ticks": ""
             }
            },
            "type": "scattergl"
           }
          ],
          "scattermapbox": [
           {
            "marker": {
             "colorbar": {
              "outlinewidth": 0,
              "ticks": ""
             }
            },
            "type": "scattermapbox"
           }
          ],
          "scatterpolar": [
           {
            "marker": {
             "colorbar": {
              "outlinewidth": 0,
              "ticks": ""
             }
            },
            "type": "scatterpolar"
           }
          ],
          "scatterpolargl": [
           {
            "marker": {
             "colorbar": {
              "outlinewidth": 0,
              "ticks": ""
             }
            },
            "type": "scatterpolargl"
           }
          ],
          "scatterternary": [
           {
            "marker": {
             "colorbar": {
              "outlinewidth": 0,
              "ticks": ""
             }
            },
            "type": "scatterternary"
           }
          ],
          "surface": [
           {
            "colorbar": {
             "outlinewidth": 0,
             "ticks": ""
            },
            "colorscale": [
             [
              0,
              "#0d0887"
             ],
             [
              0.1111111111111111,
              "#46039f"
             ],
             [
              0.2222222222222222,
              "#7201a8"
             ],
             [
              0.3333333333333333,
              "#9c179e"
             ],
             [
              0.4444444444444444,
              "#bd3786"
             ],
             [
              0.5555555555555556,
              "#d8576b"
             ],
             [
              0.6666666666666666,
              "#ed7953"
             ],
             [
              0.7777777777777778,
              "#fb9f3a"
             ],
             [
              0.8888888888888888,
              "#fdca26"
             ],
             [
              1,
              "#f0f921"
             ]
            ],
            "type": "surface"
           }
          ],
          "table": [
           {
            "cells": {
             "fill": {
              "color": "#EBF0F8"
             },
             "line": {
              "color": "white"
             }
            },
            "header": {
             "fill": {
              "color": "#C8D4E3"
             },
             "line": {
              "color": "white"
             }
            },
            "type": "table"
           }
          ]
         },
         "layout": {
          "annotationdefaults": {
           "arrowcolor": "#2a3f5f",
           "arrowhead": 0,
           "arrowwidth": 1
          },
          "autotypenumbers": "strict",
          "coloraxis": {
           "colorbar": {
            "outlinewidth": 0,
            "ticks": ""
           }
          },
          "colorscale": {
           "diverging": [
            [
             0,
             "#8e0152"
            ],
            [
             0.1,
             "#c51b7d"
            ],
            [
             0.2,
             "#de77ae"
            ],
            [
             0.3,
             "#f1b6da"
            ],
            [
             0.4,
             "#fde0ef"
            ],
            [
             0.5,
             "#f7f7f7"
            ],
            [
             0.6,
             "#e6f5d0"
            ],
            [
             0.7,
             "#b8e186"
            ],
            [
             0.8,
             "#7fbc41"
            ],
            [
             0.9,
             "#4d9221"
            ],
            [
             1,
             "#276419"
            ]
           ],
           "sequential": [
            [
             0,
             "#0d0887"
            ],
            [
             0.1111111111111111,
             "#46039f"
            ],
            [
             0.2222222222222222,
             "#7201a8"
            ],
            [
             0.3333333333333333,
             "#9c179e"
            ],
            [
             0.4444444444444444,
             "#bd3786"
            ],
            [
             0.5555555555555556,
             "#d8576b"
            ],
            [
             0.6666666666666666,
             "#ed7953"
            ],
            [
             0.7777777777777778,
             "#fb9f3a"
            ],
            [
             0.8888888888888888,
             "#fdca26"
            ],
            [
             1,
             "#f0f921"
            ]
           ],
           "sequentialminus": [
            [
             0,
             "#0d0887"
            ],
            [
             0.1111111111111111,
             "#46039f"
            ],
            [
             0.2222222222222222,
             "#7201a8"
            ],
            [
             0.3333333333333333,
             "#9c179e"
            ],
            [
             0.4444444444444444,
             "#bd3786"
            ],
            [
             0.5555555555555556,
             "#d8576b"
            ],
            [
             0.6666666666666666,
             "#ed7953"
            ],
            [
             0.7777777777777778,
             "#fb9f3a"
            ],
            [
             0.8888888888888888,
             "#fdca26"
            ],
            [
             1,
             "#f0f921"
            ]
           ]
          },
          "colorway": [
           "#636efa",
           "#EF553B",
           "#00cc96",
           "#ab63fa",
           "#FFA15A",
           "#19d3f3",
           "#FF6692",
           "#B6E880",
           "#FF97FF",
           "#FECB52"
          ],
          "font": {
           "color": "#2a3f5f"
          },
          "geo": {
           "bgcolor": "white",
           "lakecolor": "white",
           "landcolor": "#E5ECF6",
           "showlakes": true,
           "showland": true,
           "subunitcolor": "white"
          },
          "hoverlabel": {
           "align": "left"
          },
          "hovermode": "closest",
          "mapbox": {
           "style": "light"
          },
          "paper_bgcolor": "white",
          "plot_bgcolor": "#E5ECF6",
          "polar": {
           "angularaxis": {
            "gridcolor": "white",
            "linecolor": "white",
            "ticks": ""
           },
           "bgcolor": "#E5ECF6",
           "radialaxis": {
            "gridcolor": "white",
            "linecolor": "white",
            "ticks": ""
           }
          },
          "scene": {
           "xaxis": {
            "backgroundcolor": "#E5ECF6",
            "gridcolor": "white",
            "gridwidth": 2,
            "linecolor": "white",
            "showbackground": true,
            "ticks": "",
            "zerolinecolor": "white"
           },
           "yaxis": {
            "backgroundcolor": "#E5ECF6",
            "gridcolor": "white",
            "gridwidth": 2,
            "linecolor": "white",
            "showbackground": true,
            "ticks": "",
            "zerolinecolor": "white"
           },
           "zaxis": {
            "backgroundcolor": "#E5ECF6",
            "gridcolor": "white",
            "gridwidth": 2,
            "linecolor": "white",
            "showbackground": true,
            "ticks": "",
            "zerolinecolor": "white"
           }
          },
          "shapedefaults": {
           "line": {
            "color": "#2a3f5f"
           }
          },
          "ternary": {
           "aaxis": {
            "gridcolor": "white",
            "linecolor": "white",
            "ticks": ""
           },
           "baxis": {
            "gridcolor": "white",
            "linecolor": "white",
            "ticks": ""
           },
           "bgcolor": "#E5ECF6",
           "caxis": {
            "gridcolor": "white",
            "linecolor": "white",
            "ticks": ""
           }
          },
          "title": {
           "x": 0.05
          },
          "xaxis": {
           "automargin": true,
           "gridcolor": "white",
           "linecolor": "white",
           "ticks": "",
           "title": {
            "standoff": 15
           },
           "zerolinecolor": "white",
           "zerolinewidth": 2
          },
          "yaxis": {
           "automargin": true,
           "gridcolor": "white",
           "linecolor": "white",
           "ticks": "",
           "title": {
            "standoff": 15
           },
           "zerolinecolor": "white",
           "zerolinewidth": 2
          }
         }
        },
        "title": {
         "font": {
          "size": 24
         },
         "text": "ROC Curve for Logistic_Regression_with_ridge_penalty of approach_2",
         "x": 0.5,
         "xanchor": "center",
         "yanchor": "top"
        },
        "width": 1100,
        "xaxis": {
         "title": {
          "font": {
           "size": 20
          },
          "text": "False Positive Rate"
         }
        },
        "yaxis": {
         "title": {
          "font": {
           "size": 20
          },
          "text": "True Positive Rate"
         }
        }
       }
      }
     },
     "metadata": {},
     "output_type": "display_data"
    }
   ],
   "source": [
    "### 1. Define hyperparameter distributions for each model\n",
    "log_reg_params = {\n",
    "    \"C\": uniform(0.01, 10),\n",
    "    \"penalty\": [\"l2\"],\n",
    "    \"solver\": [\"sag\"],\n",
    "}\n",
    "\n",
    "### 2. Train Logistic Regression\n",
    "log_reg = LogisticRegression(max_iter=1000)\n",
    "log_reg_best, log_reg_auc, log_reg_acc, log_reg_f1, report = (\n",
    "    model_training.tune_and_evaluate_model(\n",
    "        log_reg,\n",
    "        log_reg_params,\n",
    "        X_train,\n",
    "        y_train,\n",
    "        X_test,\n",
    "        y_test,\n",
    "        model_name=\"Logistic_Regression_with_ridge_penalty\",\n",
    "        log_dir=\"models/logs/approach_2\",\n",
    "        model_dir=\"models/saved_models/approach_2\",\n",
    "        approach=\"approach_2\",\n",
    "    )\n",
    ")"
   ]
  },
  {
   "cell_type": "code",
   "execution_count": 33,
   "metadata": {},
   "outputs": [
    {
     "name": "stdout",
     "output_type": "stream",
     "text": [
      "shape: (3, 2)\n",
      "┌─────────────┬────────────────────────────┐\n",
      "│ metrics     ┆ approach_2_log_reg_metrics │\n",
      "│ ---         ┆ ---                        │\n",
      "│ str         ┆ f64                        │\n",
      "╞═════════════╪════════════════════════════╡\n",
      "│ accuracy, % ┆ 75.0                       │\n",
      "│ f1_score    ┆ 0.855                      │\n",
      "│ auc         ┆ 0.651                      │\n",
      "└─────────────┴────────────────────────────┘\n"
     ]
    }
   ],
   "source": [
    "### 1. create dataframe from metrics add to metrics dictionary\n",
    "approach_2_log_reg_metrics = pl.DataFrame(\n",
    "    {\n",
    "        \"metrics\": [\"accuracy, %\", \"f1_score\", \"auc\"],\n",
    "        \"approach_2_log_reg_metrics\": [\n",
    "            np.round(log_reg_acc * 100),\n",
    "            np.round(log_reg_f1, 3),\n",
    "            np.round(log_reg_auc, 3),\n",
    "        ],\n",
    "    }\n",
    ")\n",
    "METRICS_DICT[\"approach_2_log_reg_metrics\"] = approach_2_log_reg_metrics\n",
    "print(approach_2_log_reg_metrics)"
   ]
  },
  {
   "cell_type": "code",
   "execution_count": 34,
   "metadata": {},
   "outputs": [
    {
     "name": "stdout",
     "output_type": "stream",
     "text": [
      "shape: (2, 5)\n",
      "┌──────────┬───────────┬────────┬──────────┬───────┐\n",
      "│ category ┆ precision ┆ recall ┆ f1-score ┆ count │\n",
      "│ ---      ┆ ---       ┆ ---    ┆ ---      ┆ ---   │\n",
      "│ str      ┆ f64       ┆ f64    ┆ f64      ┆ i64   │\n",
      "╞══════════╪═══════════╪════════╪══════════╪═══════╡\n",
      "│ 0        ┆ 1.0       ┆ 0.01   ┆ 0.03     ┆ 78    │\n",
      "│ 1        ┆ 0.75      ┆ 1.0    ┆ 0.85     ┆ 227   │\n",
      "└──────────┴───────────┴────────┴──────────┴───────┘\n"
     ]
    }
   ],
   "source": [
    "### 1. convert report to polars dataframe\n",
    "approach_2_log_reg_report = model_training.classification_report_to_polars(report)\n",
    "\n",
    "### 2. save report\n",
    "approach_2_log_reg_report.write_excel(\n",
    "    \"reports/approach_2/approach_2_log_reg_report.xlsx\"\n",
    ")\n",
    "print(approach_2_log_reg_report)"
   ]
  },
  {
   "cell_type": "markdown",
   "metadata": {},
   "source": [
    "### <a id='toc1_2_2_'></a>[2.2 Random Forest](#toc0_)"
   ]
  },
  {
   "cell_type": "code",
   "execution_count": 35,
   "metadata": {},
   "outputs": [
    {
     "name": "stdout",
     "output_type": "stream",
     "text": [
      "Fitting 5 folds for each of 50 candidates, totalling 250 fits\n",
      "Random_Forest Best Hyperparameters: {'max_depth': 3, 'min_samples_leaf': 13, 'min_samples_split': 14, 'n_estimators': 38}\n",
      "Random_Forest Test Metrics:\n",
      "AUC: 0.6186\n",
      "Accuracy: 0.7443\n",
      "F1-Score: 0.8534\n"
     ]
    },
    {
     "data": {
      "application/vnd.plotly.v1+json": {
       "config": {
        "plotlyServerURL": "https://plot.ly"
       },
       "data": [
        {
         "line": {
          "color": "blue"
         },
         "mode": "lines",
         "name": "Random_Forest (AUC = 0.6186)",
         "type": "scatter",
         "x": [
          0,
          0,
          0,
          0.01282051282051282,
          0.01282051282051282,
          0.02564102564102564,
          0.02564102564102564,
          0.05128205128205128,
          0.05128205128205128,
          0.0641025641025641,
          0.0641025641025641,
          0.07692307692307693,
          0.07692307692307693,
          0.10256410256410256,
          0.10256410256410256,
          0.11538461538461539,
          0.11538461538461539,
          0.1282051282051282,
          0.1282051282051282,
          0.14102564102564102,
          0.14102564102564102,
          0.15384615384615385,
          0.15384615384615385,
          0.1794871794871795,
          0.1794871794871795,
          0.19230769230769232,
          0.19230769230769232,
          0.21794871794871795,
          0.21794871794871795,
          0.23076923076923078,
          0.23076923076923078,
          0.24358974358974358,
          0.24358974358974358,
          0.2564102564102564,
          0.2564102564102564,
          0.2692307692307692,
          0.2692307692307692,
          0.28205128205128205,
          0.28205128205128205,
          0.2948717948717949,
          0.2948717948717949,
          0.3076923076923077,
          0.3076923076923077,
          0.32051282051282054,
          0.32051282051282054,
          0.3333333333333333,
          0.3333333333333333,
          0.34615384615384615,
          0.34615384615384615,
          0.358974358974359,
          0.358974358974359,
          0.3717948717948718,
          0.3717948717948718,
          0.38461538461538464,
          0.38461538461538464,
          0.3974358974358974,
          0.3974358974358974,
          0.41025641025641024,
          0.41025641025641024,
          0.4358974358974359,
          0.4358974358974359,
          0.46153846153846156,
          0.46153846153846156,
          0.47435897435897434,
          0.47435897435897434,
          0.48717948717948717,
          0.48717948717948717,
          0.5,
          0.5,
          0.5128205128205128,
          0.5128205128205128,
          0.5384615384615384,
          0.5384615384615384,
          0.5512820512820513,
          0.5512820512820513,
          0.5641025641025641,
          0.5641025641025641,
          0.5897435897435898,
          0.5897435897435898,
          0.6025641025641025,
          0.6025641025641025,
          0.6410256410256411,
          0.6410256410256411,
          0.6538461538461539,
          0.6538461538461539,
          0.6666666666666666,
          0.6666666666666666,
          0.6794871794871795,
          0.6794871794871795,
          0.6923076923076923,
          0.6923076923076923,
          0.7051282051282052,
          0.7051282051282052,
          0.717948717948718,
          0.717948717948718,
          0.7435897435897436,
          0.7435897435897436,
          0.7692307692307693,
          0.7692307692307693,
          0.782051282051282,
          0.782051282051282,
          0.8076923076923077,
          0.8076923076923077,
          0.8333333333333334,
          0.8333333333333334,
          0.8461538461538461,
          0.8461538461538461,
          0.8589743589743589,
          0.8589743589743589,
          0.8717948717948718,
          0.8717948717948718,
          0.8846153846153846,
          0.8846153846153846,
          0.8974358974358975,
          0.8974358974358975,
          1
         ],
         "y": [
          0,
          0.004405286343612335,
          0.00881057268722467,
          0.00881057268722467,
          0.06167400881057269,
          0.06167400881057269,
          0.10572687224669604,
          0.10572687224669604,
          0.1145374449339207,
          0.1145374449339207,
          0.11894273127753303,
          0.11894273127753303,
          0.14096916299559473,
          0.14096916299559473,
          0.14977973568281938,
          0.14977973568281938,
          0.22026431718061673,
          0.22026431718061673,
          0.2555066079295154,
          0.2555066079295154,
          0.2599118942731278,
          0.2599118942731278,
          0.28634361233480177,
          0.28634361233480177,
          0.30837004405286345,
          0.30837004405286345,
          0.3303964757709251,
          0.3303964757709251,
          0.34801762114537443,
          0.34801762114537443,
          0.3568281938325991,
          0.3568281938325991,
          0.36123348017621143,
          0.36123348017621143,
          0.3788546255506608,
          0.3788546255506608,
          0.3920704845814978,
          0.3920704845814978,
          0.4185022026431718,
          0.4185022026431718,
          0.42290748898678415,
          0.42290748898678415,
          0.42731277533039647,
          0.42731277533039647,
          0.44493392070484583,
          0.44493392070484583,
          0.45374449339207046,
          0.45374449339207046,
          0.4669603524229075,
          0.4669603524229075,
          0.4977973568281938,
          0.4977973568281938,
          0.5154185022026432,
          0.5154185022026432,
          0.5770925110132159,
          0.5770925110132159,
          0.5947136563876652,
          0.5947136563876652,
          0.6123348017621145,
          0.6123348017621145,
          0.6255506607929515,
          0.6255506607929515,
          0.6299559471365639,
          0.6299559471365639,
          0.6696035242290749,
          0.6696035242290749,
          0.6784140969162996,
          0.6784140969162996,
          0.6872246696035242,
          0.6872246696035242,
          0.6916299559471366,
          0.6916299559471366,
          0.7004405286343612,
          0.7004405286343612,
          0.7224669603524229,
          0.7224669603524229,
          0.7312775330396476,
          0.7312775330396476,
          0.73568281938326,
          0.73568281938326,
          0.762114537444934,
          0.762114537444934,
          0.775330396475771,
          0.775330396475771,
          0.7841409691629956,
          0.7841409691629956,
          0.7929515418502202,
          0.7929515418502202,
          0.8193832599118943,
          0.8193832599118943,
          0.8766519823788547,
          0.8766519823788547,
          0.8854625550660793,
          0.8854625550660793,
          0.8942731277533039,
          0.8942731277533039,
          0.8986784140969163,
          0.8986784140969163,
          0.9074889867841409,
          0.9074889867841409,
          0.9118942731277533,
          0.9118942731277533,
          0.920704845814978,
          0.920704845814978,
          0.9427312775330396,
          0.9427312775330396,
          0.960352422907489,
          0.960352422907489,
          0.9647577092511013,
          0.9647577092511013,
          0.986784140969163,
          0.986784140969163,
          0.9911894273127754,
          0.9911894273127754,
          1,
          1
         ]
        },
        {
         "line": {
          "color": "red",
          "dash": "dash"
         },
         "mode": "lines",
         "name": "Random",
         "type": "scatter",
         "x": [
          0,
          1
         ],
         "y": [
          0,
          1
         ]
        }
       ],
       "layout": {
        "height": 700,
        "legend": {
         "font": {
          "size": 16
         }
        },
        "showlegend": true,
        "template": {
         "data": {
          "bar": [
           {
            "error_x": {
             "color": "#2a3f5f"
            },
            "error_y": {
             "color": "#2a3f5f"
            },
            "marker": {
             "line": {
              "color": "#E5ECF6",
              "width": 0.5
             },
             "pattern": {
              "fillmode": "overlay",
              "size": 10,
              "solidity": 0.2
             }
            },
            "type": "bar"
           }
          ],
          "barpolar": [
           {
            "marker": {
             "line": {
              "color": "#E5ECF6",
              "width": 0.5
             },
             "pattern": {
              "fillmode": "overlay",
              "size": 10,
              "solidity": 0.2
             }
            },
            "type": "barpolar"
           }
          ],
          "carpet": [
           {
            "aaxis": {
             "endlinecolor": "#2a3f5f",
             "gridcolor": "white",
             "linecolor": "white",
             "minorgridcolor": "white",
             "startlinecolor": "#2a3f5f"
            },
            "baxis": {
             "endlinecolor": "#2a3f5f",
             "gridcolor": "white",
             "linecolor": "white",
             "minorgridcolor": "white",
             "startlinecolor": "#2a3f5f"
            },
            "type": "carpet"
           }
          ],
          "choropleth": [
           {
            "colorbar": {
             "outlinewidth": 0,
             "ticks": ""
            },
            "type": "choropleth"
           }
          ],
          "contour": [
           {
            "colorbar": {
             "outlinewidth": 0,
             "ticks": ""
            },
            "colorscale": [
             [
              0,
              "#0d0887"
             ],
             [
              0.1111111111111111,
              "#46039f"
             ],
             [
              0.2222222222222222,
              "#7201a8"
             ],
             [
              0.3333333333333333,
              "#9c179e"
             ],
             [
              0.4444444444444444,
              "#bd3786"
             ],
             [
              0.5555555555555556,
              "#d8576b"
             ],
             [
              0.6666666666666666,
              "#ed7953"
             ],
             [
              0.7777777777777778,
              "#fb9f3a"
             ],
             [
              0.8888888888888888,
              "#fdca26"
             ],
             [
              1,
              "#f0f921"
             ]
            ],
            "type": "contour"
           }
          ],
          "contourcarpet": [
           {
            "colorbar": {
             "outlinewidth": 0,
             "ticks": ""
            },
            "type": "contourcarpet"
           }
          ],
          "heatmap": [
           {
            "colorbar": {
             "outlinewidth": 0,
             "ticks": ""
            },
            "colorscale": [
             [
              0,
              "#0d0887"
             ],
             [
              0.1111111111111111,
              "#46039f"
             ],
             [
              0.2222222222222222,
              "#7201a8"
             ],
             [
              0.3333333333333333,
              "#9c179e"
             ],
             [
              0.4444444444444444,
              "#bd3786"
             ],
             [
              0.5555555555555556,
              "#d8576b"
             ],
             [
              0.6666666666666666,
              "#ed7953"
             ],
             [
              0.7777777777777778,
              "#fb9f3a"
             ],
             [
              0.8888888888888888,
              "#fdca26"
             ],
             [
              1,
              "#f0f921"
             ]
            ],
            "type": "heatmap"
           }
          ],
          "heatmapgl": [
           {
            "colorbar": {
             "outlinewidth": 0,
             "ticks": ""
            },
            "colorscale": [
             [
              0,
              "#0d0887"
             ],
             [
              0.1111111111111111,
              "#46039f"
             ],
             [
              0.2222222222222222,
              "#7201a8"
             ],
             [
              0.3333333333333333,
              "#9c179e"
             ],
             [
              0.4444444444444444,
              "#bd3786"
             ],
             [
              0.5555555555555556,
              "#d8576b"
             ],
             [
              0.6666666666666666,
              "#ed7953"
             ],
             [
              0.7777777777777778,
              "#fb9f3a"
             ],
             [
              0.8888888888888888,
              "#fdca26"
             ],
             [
              1,
              "#f0f921"
             ]
            ],
            "type": "heatmapgl"
           }
          ],
          "histogram": [
           {
            "marker": {
             "pattern": {
              "fillmode": "overlay",
              "size": 10,
              "solidity": 0.2
             }
            },
            "type": "histogram"
           }
          ],
          "histogram2d": [
           {
            "colorbar": {
             "outlinewidth": 0,
             "ticks": ""
            },
            "colorscale": [
             [
              0,
              "#0d0887"
             ],
             [
              0.1111111111111111,
              "#46039f"
             ],
             [
              0.2222222222222222,
              "#7201a8"
             ],
             [
              0.3333333333333333,
              "#9c179e"
             ],
             [
              0.4444444444444444,
              "#bd3786"
             ],
             [
              0.5555555555555556,
              "#d8576b"
             ],
             [
              0.6666666666666666,
              "#ed7953"
             ],
             [
              0.7777777777777778,
              "#fb9f3a"
             ],
             [
              0.8888888888888888,
              "#fdca26"
             ],
             [
              1,
              "#f0f921"
             ]
            ],
            "type": "histogram2d"
           }
          ],
          "histogram2dcontour": [
           {
            "colorbar": {
             "outlinewidth": 0,
             "ticks": ""
            },
            "colorscale": [
             [
              0,
              "#0d0887"
             ],
             [
              0.1111111111111111,
              "#46039f"
             ],
             [
              0.2222222222222222,
              "#7201a8"
             ],
             [
              0.3333333333333333,
              "#9c179e"
             ],
             [
              0.4444444444444444,
              "#bd3786"
             ],
             [
              0.5555555555555556,
              "#d8576b"
             ],
             [
              0.6666666666666666,
              "#ed7953"
             ],
             [
              0.7777777777777778,
              "#fb9f3a"
             ],
             [
              0.8888888888888888,
              "#fdca26"
             ],
             [
              1,
              "#f0f921"
             ]
            ],
            "type": "histogram2dcontour"
           }
          ],
          "mesh3d": [
           {
            "colorbar": {
             "outlinewidth": 0,
             "ticks": ""
            },
            "type": "mesh3d"
           }
          ],
          "parcoords": [
           {
            "line": {
             "colorbar": {
              "outlinewidth": 0,
              "ticks": ""
             }
            },
            "type": "parcoords"
           }
          ],
          "pie": [
           {
            "automargin": true,
            "type": "pie"
           }
          ],
          "scatter": [
           {
            "fillpattern": {
             "fillmode": "overlay",
             "size": 10,
             "solidity": 0.2
            },
            "type": "scatter"
           }
          ],
          "scatter3d": [
           {
            "line": {
             "colorbar": {
              "outlinewidth": 0,
              "ticks": ""
             }
            },
            "marker": {
             "colorbar": {
              "outlinewidth": 0,
              "ticks": ""
             }
            },
            "type": "scatter3d"
           }
          ],
          "scattercarpet": [
           {
            "marker": {
             "colorbar": {
              "outlinewidth": 0,
              "ticks": ""
             }
            },
            "type": "scattercarpet"
           }
          ],
          "scattergeo": [
           {
            "marker": {
             "colorbar": {
              "outlinewidth": 0,
              "ticks": ""
             }
            },
            "type": "scattergeo"
           }
          ],
          "scattergl": [
           {
            "marker": {
             "colorbar": {
              "outlinewidth": 0,
              "ticks": ""
             }
            },
            "type": "scattergl"
           }
          ],
          "scattermapbox": [
           {
            "marker": {
             "colorbar": {
              "outlinewidth": 0,
              "ticks": ""
             }
            },
            "type": "scattermapbox"
           }
          ],
          "scatterpolar": [
           {
            "marker": {
             "colorbar": {
              "outlinewidth": 0,
              "ticks": ""
             }
            },
            "type": "scatterpolar"
           }
          ],
          "scatterpolargl": [
           {
            "marker": {
             "colorbar": {
              "outlinewidth": 0,
              "ticks": ""
             }
            },
            "type": "scatterpolargl"
           }
          ],
          "scatterternary": [
           {
            "marker": {
             "colorbar": {
              "outlinewidth": 0,
              "ticks": ""
             }
            },
            "type": "scatterternary"
           }
          ],
          "surface": [
           {
            "colorbar": {
             "outlinewidth": 0,
             "ticks": ""
            },
            "colorscale": [
             [
              0,
              "#0d0887"
             ],
             [
              0.1111111111111111,
              "#46039f"
             ],
             [
              0.2222222222222222,
              "#7201a8"
             ],
             [
              0.3333333333333333,
              "#9c179e"
             ],
             [
              0.4444444444444444,
              "#bd3786"
             ],
             [
              0.5555555555555556,
              "#d8576b"
             ],
             [
              0.6666666666666666,
              "#ed7953"
             ],
             [
              0.7777777777777778,
              "#fb9f3a"
             ],
             [
              0.8888888888888888,
              "#fdca26"
             ],
             [
              1,
              "#f0f921"
             ]
            ],
            "type": "surface"
           }
          ],
          "table": [
           {
            "cells": {
             "fill": {
              "color": "#EBF0F8"
             },
             "line": {
              "color": "white"
             }
            },
            "header": {
             "fill": {
              "color": "#C8D4E3"
             },
             "line": {
              "color": "white"
             }
            },
            "type": "table"
           }
          ]
         },
         "layout": {
          "annotationdefaults": {
           "arrowcolor": "#2a3f5f",
           "arrowhead": 0,
           "arrowwidth": 1
          },
          "autotypenumbers": "strict",
          "coloraxis": {
           "colorbar": {
            "outlinewidth": 0,
            "ticks": ""
           }
          },
          "colorscale": {
           "diverging": [
            [
             0,
             "#8e0152"
            ],
            [
             0.1,
             "#c51b7d"
            ],
            [
             0.2,
             "#de77ae"
            ],
            [
             0.3,
             "#f1b6da"
            ],
            [
             0.4,
             "#fde0ef"
            ],
            [
             0.5,
             "#f7f7f7"
            ],
            [
             0.6,
             "#e6f5d0"
            ],
            [
             0.7,
             "#b8e186"
            ],
            [
             0.8,
             "#7fbc41"
            ],
            [
             0.9,
             "#4d9221"
            ],
            [
             1,
             "#276419"
            ]
           ],
           "sequential": [
            [
             0,
             "#0d0887"
            ],
            [
             0.1111111111111111,
             "#46039f"
            ],
            [
             0.2222222222222222,
             "#7201a8"
            ],
            [
             0.3333333333333333,
             "#9c179e"
            ],
            [
             0.4444444444444444,
             "#bd3786"
            ],
            [
             0.5555555555555556,
             "#d8576b"
            ],
            [
             0.6666666666666666,
             "#ed7953"
            ],
            [
             0.7777777777777778,
             "#fb9f3a"
            ],
            [
             0.8888888888888888,
             "#fdca26"
            ],
            [
             1,
             "#f0f921"
            ]
           ],
           "sequentialminus": [
            [
             0,
             "#0d0887"
            ],
            [
             0.1111111111111111,
             "#46039f"
            ],
            [
             0.2222222222222222,
             "#7201a8"
            ],
            [
             0.3333333333333333,
             "#9c179e"
            ],
            [
             0.4444444444444444,
             "#bd3786"
            ],
            [
             0.5555555555555556,
             "#d8576b"
            ],
            [
             0.6666666666666666,
             "#ed7953"
            ],
            [
             0.7777777777777778,
             "#fb9f3a"
            ],
            [
             0.8888888888888888,
             "#fdca26"
            ],
            [
             1,
             "#f0f921"
            ]
           ]
          },
          "colorway": [
           "#636efa",
           "#EF553B",
           "#00cc96",
           "#ab63fa",
           "#FFA15A",
           "#19d3f3",
           "#FF6692",
           "#B6E880",
           "#FF97FF",
           "#FECB52"
          ],
          "font": {
           "color": "#2a3f5f"
          },
          "geo": {
           "bgcolor": "white",
           "lakecolor": "white",
           "landcolor": "#E5ECF6",
           "showlakes": true,
           "showland": true,
           "subunitcolor": "white"
          },
          "hoverlabel": {
           "align": "left"
          },
          "hovermode": "closest",
          "mapbox": {
           "style": "light"
          },
          "paper_bgcolor": "white",
          "plot_bgcolor": "#E5ECF6",
          "polar": {
           "angularaxis": {
            "gridcolor": "white",
            "linecolor": "white",
            "ticks": ""
           },
           "bgcolor": "#E5ECF6",
           "radialaxis": {
            "gridcolor": "white",
            "linecolor": "white",
            "ticks": ""
           }
          },
          "scene": {
           "xaxis": {
            "backgroundcolor": "#E5ECF6",
            "gridcolor": "white",
            "gridwidth": 2,
            "linecolor": "white",
            "showbackground": true,
            "ticks": "",
            "zerolinecolor": "white"
           },
           "yaxis": {
            "backgroundcolor": "#E5ECF6",
            "gridcolor": "white",
            "gridwidth": 2,
            "linecolor": "white",
            "showbackground": true,
            "ticks": "",
            "zerolinecolor": "white"
           },
           "zaxis": {
            "backgroundcolor": "#E5ECF6",
            "gridcolor": "white",
            "gridwidth": 2,
            "linecolor": "white",
            "showbackground": true,
            "ticks": "",
            "zerolinecolor": "white"
           }
          },
          "shapedefaults": {
           "line": {
            "color": "#2a3f5f"
           }
          },
          "ternary": {
           "aaxis": {
            "gridcolor": "white",
            "linecolor": "white",
            "ticks": ""
           },
           "baxis": {
            "gridcolor": "white",
            "linecolor": "white",
            "ticks": ""
           },
           "bgcolor": "#E5ECF6",
           "caxis": {
            "gridcolor": "white",
            "linecolor": "white",
            "ticks": ""
           }
          },
          "title": {
           "x": 0.05
          },
          "xaxis": {
           "automargin": true,
           "gridcolor": "white",
           "linecolor": "white",
           "ticks": "",
           "title": {
            "standoff": 15
           },
           "zerolinecolor": "white",
           "zerolinewidth": 2
          },
          "yaxis": {
           "automargin": true,
           "gridcolor": "white",
           "linecolor": "white",
           "ticks": "",
           "title": {
            "standoff": 15
           },
           "zerolinecolor": "white",
           "zerolinewidth": 2
          }
         }
        },
        "title": {
         "font": {
          "size": 24
         },
         "text": "ROC Curve for Random_Forest of approach_2",
         "x": 0.5,
         "xanchor": "center",
         "yanchor": "top"
        },
        "width": 1100,
        "xaxis": {
         "title": {
          "font": {
           "size": 20
          },
          "text": "False Positive Rate"
         }
        },
        "yaxis": {
         "title": {
          "font": {
           "size": 20
          },
          "text": "True Positive Rate"
         }
        }
       }
      }
     },
     "metadata": {},
     "output_type": "display_data"
    }
   ],
   "source": [
    "### 1. Define hyperparameter distributions for each model\n",
    "rf_params = {\n",
    "    \"n_estimators\": randint(10, 150),\n",
    "    \"max_depth\": [3, 5, 10, 15],\n",
    "    \"min_samples_split\": randint(10, 30),\n",
    "    \"min_samples_leaf\": randint(10, 30),\n",
    "}\n",
    "\n",
    "### 2. Train Random Forest\n",
    "rf = RandomForestClassifier(random_state=42)\n",
    "rf_best, rf_auc, rf_acc, rf_f1, report = model_training.tune_and_evaluate_model(\n",
    "    rf,\n",
    "    rf_params,\n",
    "    X_train,\n",
    "    y_train,\n",
    "    X_test,\n",
    "    y_test,\n",
    "    model_name=\"Random_Forest\",\n",
    "    log_dir=\"models/logs/approach_2\",\n",
    "    model_dir=\"models/saved_models/approach_2\",\n",
    "    approach=\"approach_2\",\n",
    ")"
   ]
  },
  {
   "cell_type": "code",
   "execution_count": 36,
   "metadata": {},
   "outputs": [
    {
     "name": "stdout",
     "output_type": "stream",
     "text": [
      "shape: (3, 2)\n",
      "┌─────────────┬───────────────────────┐\n",
      "│ metrics     ┆ approach_2_rf_metrics │\n",
      "│ ---         ┆ ---                   │\n",
      "│ str         ┆ f64                   │\n",
      "╞═════════════╪═══════════════════════╡\n",
      "│ accuracy, % ┆ 74.0                  │\n",
      "│ f1_score    ┆ 0.853                 │\n",
      "│ auc         ┆ 0.619                 │\n",
      "└─────────────┴───────────────────────┘\n"
     ]
    }
   ],
   "source": [
    "### 1. create dataframe from metrics add to metrics dictionary\n",
    "approach_2_rf_metrics = pl.DataFrame(\n",
    "    {\n",
    "        \"metrics\": [\"accuracy, %\", \"f1_score\", \"auc\"],\n",
    "        \"approach_2_rf_metrics\": [\n",
    "            np.round(rf_acc * 100),\n",
    "            np.round(rf_f1, 3),\n",
    "            np.round(rf_auc, 3),\n",
    "        ],\n",
    "    }\n",
    ")\n",
    "METRICS_DICT[\"approach_2_rf_metrics\"] = approach_2_rf_metrics\n",
    "print(approach_2_rf_metrics)"
   ]
  },
  {
   "cell_type": "code",
   "execution_count": 37,
   "metadata": {},
   "outputs": [
    {
     "name": "stdout",
     "output_type": "stream",
     "text": [
      "shape: (2, 5)\n",
      "┌──────────┬───────────┬────────┬──────────┬───────┐\n",
      "│ category ┆ precision ┆ recall ┆ f1-score ┆ count │\n",
      "│ ---      ┆ ---       ┆ ---    ┆ ---      ┆ ---   │\n",
      "│ str      ┆ f64       ┆ f64    ┆ f64      ┆ i64   │\n",
      "╞══════════╪═══════════╪════════╪══════════╪═══════╡\n",
      "│ 0        ┆ 0.0       ┆ 0.0    ┆ 0.0      ┆ 78    │\n",
      "│ 1        ┆ 0.74      ┆ 1.0    ┆ 0.85     ┆ 227   │\n",
      "└──────────┴───────────┴────────┴──────────┴───────┘\n"
     ]
    }
   ],
   "source": [
    "### 1. convert report to polars dataframe\n",
    "approach_2_rf_report = model_training.classification_report_to_polars(report)\n",
    "\n",
    "### 2. save report\n",
    "approach_2_rf_report.write_excel(\"reports/approach_2/approach_2_rf_report.xlsx\")\n",
    "print(approach_2_rf_report)"
   ]
  },
  {
   "cell_type": "markdown",
   "metadata": {},
   "source": [
    "### <a id='toc1_2_3_'></a>[2.3 XGboost](#toc0_)"
   ]
  },
  {
   "cell_type": "code",
   "execution_count": 38,
   "metadata": {},
   "outputs": [
    {
     "name": "stdout",
     "output_type": "stream",
     "text": [
      "Fitting 5 folds for each of 50 candidates, totalling 250 fits\n",
      "XGBoost Best Hyperparameters: {'colsample_bytree': 0.7865185103998542, 'learning_rate': 0.022232542466429174, 'max_depth': 6, 'n_estimators': 108, 'subsample': 0.6880964190262193}\n",
      "XGBoost Test Metrics:\n",
      "AUC: 0.6119\n",
      "Accuracy: 0.7475\n",
      "F1-Score: 0.8451\n"
     ]
    },
    {
     "data": {
      "application/vnd.plotly.v1+json": {
       "config": {
        "plotlyServerURL": "https://plot.ly"
       },
       "data": [
        {
         "line": {
          "color": "blue"
         },
         "mode": "lines",
         "name": "XGBoost (AUC = 0.6119)",
         "type": "scatter",
         "x": [
          0,
          0,
          0.01282051282051282,
          0.01282051282051282,
          0.02564102564102564,
          0.02564102564102564,
          0.05128205128205128,
          0.05128205128205128,
          0.10256410256410256,
          0.10256410256410256,
          0.1282051282051282,
          0.1282051282051282,
          0.14102564102564102,
          0.14102564102564102,
          0.16666666666666666,
          0.16666666666666666,
          0.1794871794871795,
          0.1794871794871795,
          0.20512820512820512,
          0.20512820512820512,
          0.21794871794871795,
          0.21794871794871795,
          0.23076923076923078,
          0.23076923076923078,
          0.24358974358974358,
          0.24358974358974358,
          0.2692307692307692,
          0.2692307692307692,
          0.28205128205128205,
          0.28205128205128205,
          0.2948717948717949,
          0.2948717948717949,
          0.3076923076923077,
          0.3076923076923077,
          0.32051282051282054,
          0.32051282051282054,
          0.3333333333333333,
          0.3333333333333333,
          0.34615384615384615,
          0.34615384615384615,
          0.358974358974359,
          0.358974358974359,
          0.38461538461538464,
          0.38461538461538464,
          0.3974358974358974,
          0.3974358974358974,
          0.41025641025641024,
          0.41025641025641024,
          0.4358974358974359,
          0.4358974358974359,
          0.44871794871794873,
          0.44871794871794873,
          0.46153846153846156,
          0.46153846153846156,
          0.47435897435897434,
          0.47435897435897434,
          0.48717948717948717,
          0.48717948717948717,
          0.5,
          0.5,
          0.5128205128205128,
          0.5128205128205128,
          0.5256410256410257,
          0.5256410256410257,
          0.5384615384615384,
          0.5384615384615384,
          0.5641025641025641,
          0.5641025641025641,
          0.5769230769230769,
          0.5769230769230769,
          0.5897435897435898,
          0.5897435897435898,
          0.6025641025641025,
          0.6025641025641025,
          0.6153846153846154,
          0.6153846153846154,
          0.6282051282051282,
          0.6282051282051282,
          0.6538461538461539,
          0.6538461538461539,
          0.6666666666666666,
          0.6666666666666666,
          0.6794871794871795,
          0.6794871794871795,
          0.6923076923076923,
          0.6923076923076923,
          0.7051282051282052,
          0.7051282051282052,
          0.717948717948718,
          0.717948717948718,
          0.7307692307692307,
          0.7307692307692307,
          0.7435897435897436,
          0.7435897435897436,
          0.7564102564102564,
          0.7564102564102564,
          0.7692307692307693,
          0.7692307692307693,
          0.7948717948717948,
          0.7948717948717948,
          0.8076923076923077,
          0.8076923076923077,
          0.8333333333333334,
          0.8333333333333334,
          0.8589743589743589,
          0.8589743589743589,
          0.8717948717948718,
          0.8717948717948718,
          0.8974358974358975,
          0.8974358974358975,
          0.9102564102564102,
          0.9102564102564102,
          0.9230769230769231,
          0.9230769230769231,
          0.9358974358974359,
          0.9358974358974359,
          0.9743589743589743,
          0.9743589743589743,
          1
         ],
         "y": [
          0,
          0.004405286343612335,
          0.004405286343612335,
          0.01762114537444934,
          0.01762114537444934,
          0.13215859030837004,
          0.13215859030837004,
          0.15859030837004406,
          0.15859030837004406,
          0.20704845814977973,
          0.20704845814977973,
          0.23788546255506607,
          0.23788546255506607,
          0.2643171806167401,
          0.2643171806167401,
          0.27312775330396477,
          0.27312775330396477,
          0.29515418502202645,
          0.29515418502202645,
          0.31718061674008813,
          0.31718061674008813,
          0.32158590308370044,
          0.32158590308370044,
          0.3392070484581498,
          0.3392070484581498,
          0.3568281938325991,
          0.3568281938325991,
          0.3920704845814978,
          0.3920704845814978,
          0.3964757709251101,
          0.3964757709251101,
          0.42290748898678415,
          0.42290748898678415,
          0.44933920704845814,
          0.44933920704845814,
          0.4713656387665198,
          0.4713656387665198,
          0.4977973568281938,
          0.4977973568281938,
          0.5154185022026432,
          0.5154185022026432,
          0.5286343612334802,
          0.5286343612334802,
          0.5374449339207048,
          0.5374449339207048,
          0.5594713656387665,
          0.5594713656387665,
          0.5638766519823789,
          0.5638766519823789,
          0.5682819383259912,
          0.5682819383259912,
          0.5726872246696035,
          0.5726872246696035,
          0.5770925110132159,
          0.5770925110132159,
          0.5947136563876652,
          0.5947136563876652,
          0.6123348017621145,
          0.6123348017621145,
          0.6519823788546255,
          0.6519823788546255,
          0.6696035242290749,
          0.6696035242290749,
          0.6828193832599119,
          0.6828193832599119,
          0.6916299559471366,
          0.6916299559471366,
          0.7048458149779736,
          0.7048458149779736,
          0.7180616740088106,
          0.7180616740088106,
          0.73568281938326,
          0.73568281938326,
          0.7533039647577092,
          0.7533039647577092,
          0.775330396475771,
          0.775330396475771,
          0.8061674008810573,
          0.8061674008810573,
          0.8105726872246696,
          0.8105726872246696,
          0.8281938325991189,
          0.8281938325991189,
          0.8370044052863436,
          0.8370044052863436,
          0.8502202643171806,
          0.8502202643171806,
          0.8546255506607929,
          0.8546255506607929,
          0.8590308370044053,
          0.8590308370044053,
          0.8722466960352423,
          0.8722466960352423,
          0.8766519823788547,
          0.8766519823788547,
          0.8898678414096917,
          0.8898678414096917,
          0.9251101321585903,
          0.9251101321585903,
          0.9295154185022027,
          0.9295154185022027,
          0.9383259911894273,
          0.9383259911894273,
          0.947136563876652,
          0.947136563876652,
          0.9515418502202643,
          0.9515418502202643,
          0.9647577092511013,
          0.9647577092511013,
          0.9691629955947136,
          0.9691629955947136,
          0.9779735682819384,
          0.9779735682819384,
          0.9911894273127754,
          0.9911894273127754,
          0.9955947136563876,
          0.9955947136563876,
          1,
          1
         ]
        },
        {
         "line": {
          "color": "red",
          "dash": "dash"
         },
         "mode": "lines",
         "name": "Random",
         "type": "scatter",
         "x": [
          0,
          1
         ],
         "y": [
          0,
          1
         ]
        }
       ],
       "layout": {
        "height": 700,
        "legend": {
         "font": {
          "size": 16
         }
        },
        "showlegend": true,
        "template": {
         "data": {
          "bar": [
           {
            "error_x": {
             "color": "#2a3f5f"
            },
            "error_y": {
             "color": "#2a3f5f"
            },
            "marker": {
             "line": {
              "color": "#E5ECF6",
              "width": 0.5
             },
             "pattern": {
              "fillmode": "overlay",
              "size": 10,
              "solidity": 0.2
             }
            },
            "type": "bar"
           }
          ],
          "barpolar": [
           {
            "marker": {
             "line": {
              "color": "#E5ECF6",
              "width": 0.5
             },
             "pattern": {
              "fillmode": "overlay",
              "size": 10,
              "solidity": 0.2
             }
            },
            "type": "barpolar"
           }
          ],
          "carpet": [
           {
            "aaxis": {
             "endlinecolor": "#2a3f5f",
             "gridcolor": "white",
             "linecolor": "white",
             "minorgridcolor": "white",
             "startlinecolor": "#2a3f5f"
            },
            "baxis": {
             "endlinecolor": "#2a3f5f",
             "gridcolor": "white",
             "linecolor": "white",
             "minorgridcolor": "white",
             "startlinecolor": "#2a3f5f"
            },
            "type": "carpet"
           }
          ],
          "choropleth": [
           {
            "colorbar": {
             "outlinewidth": 0,
             "ticks": ""
            },
            "type": "choropleth"
           }
          ],
          "contour": [
           {
            "colorbar": {
             "outlinewidth": 0,
             "ticks": ""
            },
            "colorscale": [
             [
              0,
              "#0d0887"
             ],
             [
              0.1111111111111111,
              "#46039f"
             ],
             [
              0.2222222222222222,
              "#7201a8"
             ],
             [
              0.3333333333333333,
              "#9c179e"
             ],
             [
              0.4444444444444444,
              "#bd3786"
             ],
             [
              0.5555555555555556,
              "#d8576b"
             ],
             [
              0.6666666666666666,
              "#ed7953"
             ],
             [
              0.7777777777777778,
              "#fb9f3a"
             ],
             [
              0.8888888888888888,
              "#fdca26"
             ],
             [
              1,
              "#f0f921"
             ]
            ],
            "type": "contour"
           }
          ],
          "contourcarpet": [
           {
            "colorbar": {
             "outlinewidth": 0,
             "ticks": ""
            },
            "type": "contourcarpet"
           }
          ],
          "heatmap": [
           {
            "colorbar": {
             "outlinewidth": 0,
             "ticks": ""
            },
            "colorscale": [
             [
              0,
              "#0d0887"
             ],
             [
              0.1111111111111111,
              "#46039f"
             ],
             [
              0.2222222222222222,
              "#7201a8"
             ],
             [
              0.3333333333333333,
              "#9c179e"
             ],
             [
              0.4444444444444444,
              "#bd3786"
             ],
             [
              0.5555555555555556,
              "#d8576b"
             ],
             [
              0.6666666666666666,
              "#ed7953"
             ],
             [
              0.7777777777777778,
              "#fb9f3a"
             ],
             [
              0.8888888888888888,
              "#fdca26"
             ],
             [
              1,
              "#f0f921"
             ]
            ],
            "type": "heatmap"
           }
          ],
          "heatmapgl": [
           {
            "colorbar": {
             "outlinewidth": 0,
             "ticks": ""
            },
            "colorscale": [
             [
              0,
              "#0d0887"
             ],
             [
              0.1111111111111111,
              "#46039f"
             ],
             [
              0.2222222222222222,
              "#7201a8"
             ],
             [
              0.3333333333333333,
              "#9c179e"
             ],
             [
              0.4444444444444444,
              "#bd3786"
             ],
             [
              0.5555555555555556,
              "#d8576b"
             ],
             [
              0.6666666666666666,
              "#ed7953"
             ],
             [
              0.7777777777777778,
              "#fb9f3a"
             ],
             [
              0.8888888888888888,
              "#fdca26"
             ],
             [
              1,
              "#f0f921"
             ]
            ],
            "type": "heatmapgl"
           }
          ],
          "histogram": [
           {
            "marker": {
             "pattern": {
              "fillmode": "overlay",
              "size": 10,
              "solidity": 0.2
             }
            },
            "type": "histogram"
           }
          ],
          "histogram2d": [
           {
            "colorbar": {
             "outlinewidth": 0,
             "ticks": ""
            },
            "colorscale": [
             [
              0,
              "#0d0887"
             ],
             [
              0.1111111111111111,
              "#46039f"
             ],
             [
              0.2222222222222222,
              "#7201a8"
             ],
             [
              0.3333333333333333,
              "#9c179e"
             ],
             [
              0.4444444444444444,
              "#bd3786"
             ],
             [
              0.5555555555555556,
              "#d8576b"
             ],
             [
              0.6666666666666666,
              "#ed7953"
             ],
             [
              0.7777777777777778,
              "#fb9f3a"
             ],
             [
              0.8888888888888888,
              "#fdca26"
             ],
             [
              1,
              "#f0f921"
             ]
            ],
            "type": "histogram2d"
           }
          ],
          "histogram2dcontour": [
           {
            "colorbar": {
             "outlinewidth": 0,
             "ticks": ""
            },
            "colorscale": [
             [
              0,
              "#0d0887"
             ],
             [
              0.1111111111111111,
              "#46039f"
             ],
             [
              0.2222222222222222,
              "#7201a8"
             ],
             [
              0.3333333333333333,
              "#9c179e"
             ],
             [
              0.4444444444444444,
              "#bd3786"
             ],
             [
              0.5555555555555556,
              "#d8576b"
             ],
             [
              0.6666666666666666,
              "#ed7953"
             ],
             [
              0.7777777777777778,
              "#fb9f3a"
             ],
             [
              0.8888888888888888,
              "#fdca26"
             ],
             [
              1,
              "#f0f921"
             ]
            ],
            "type": "histogram2dcontour"
           }
          ],
          "mesh3d": [
           {
            "colorbar": {
             "outlinewidth": 0,
             "ticks": ""
            },
            "type": "mesh3d"
           }
          ],
          "parcoords": [
           {
            "line": {
             "colorbar": {
              "outlinewidth": 0,
              "ticks": ""
             }
            },
            "type": "parcoords"
           }
          ],
          "pie": [
           {
            "automargin": true,
            "type": "pie"
           }
          ],
          "scatter": [
           {
            "fillpattern": {
             "fillmode": "overlay",
             "size": 10,
             "solidity": 0.2
            },
            "type": "scatter"
           }
          ],
          "scatter3d": [
           {
            "line": {
             "colorbar": {
              "outlinewidth": 0,
              "ticks": ""
             }
            },
            "marker": {
             "colorbar": {
              "outlinewidth": 0,
              "ticks": ""
             }
            },
            "type": "scatter3d"
           }
          ],
          "scattercarpet": [
           {
            "marker": {
             "colorbar": {
              "outlinewidth": 0,
              "ticks": ""
             }
            },
            "type": "scattercarpet"
           }
          ],
          "scattergeo": [
           {
            "marker": {
             "colorbar": {
              "outlinewidth": 0,
              "ticks": ""
             }
            },
            "type": "scattergeo"
           }
          ],
          "scattergl": [
           {
            "marker": {
             "colorbar": {
              "outlinewidth": 0,
              "ticks": ""
             }
            },
            "type": "scattergl"
           }
          ],
          "scattermapbox": [
           {
            "marker": {
             "colorbar": {
              "outlinewidth": 0,
              "ticks": ""
             }
            },
            "type": "scattermapbox"
           }
          ],
          "scatterpolar": [
           {
            "marker": {
             "colorbar": {
              "outlinewidth": 0,
              "ticks": ""
             }
            },
            "type": "scatterpolar"
           }
          ],
          "scatterpolargl": [
           {
            "marker": {
             "colorbar": {
              "outlinewidth": 0,
              "ticks": ""
             }
            },
            "type": "scatterpolargl"
           }
          ],
          "scatterternary": [
           {
            "marker": {
             "colorbar": {
              "outlinewidth": 0,
              "ticks": ""
             }
            },
            "type": "scatterternary"
           }
          ],
          "surface": [
           {
            "colorbar": {
             "outlinewidth": 0,
             "ticks": ""
            },
            "colorscale": [
             [
              0,
              "#0d0887"
             ],
             [
              0.1111111111111111,
              "#46039f"
             ],
             [
              0.2222222222222222,
              "#7201a8"
             ],
             [
              0.3333333333333333,
              "#9c179e"
             ],
             [
              0.4444444444444444,
              "#bd3786"
             ],
             [
              0.5555555555555556,
              "#d8576b"
             ],
             [
              0.6666666666666666,
              "#ed7953"
             ],
             [
              0.7777777777777778,
              "#fb9f3a"
             ],
             [
              0.8888888888888888,
              "#fdca26"
             ],
             [
              1,
              "#f0f921"
             ]
            ],
            "type": "surface"
           }
          ],
          "table": [
           {
            "cells": {
             "fill": {
              "color": "#EBF0F8"
             },
             "line": {
              "color": "white"
             }
            },
            "header": {
             "fill": {
              "color": "#C8D4E3"
             },
             "line": {
              "color": "white"
             }
            },
            "type": "table"
           }
          ]
         },
         "layout": {
          "annotationdefaults": {
           "arrowcolor": "#2a3f5f",
           "arrowhead": 0,
           "arrowwidth": 1
          },
          "autotypenumbers": "strict",
          "coloraxis": {
           "colorbar": {
            "outlinewidth": 0,
            "ticks": ""
           }
          },
          "colorscale": {
           "diverging": [
            [
             0,
             "#8e0152"
            ],
            [
             0.1,
             "#c51b7d"
            ],
            [
             0.2,
             "#de77ae"
            ],
            [
             0.3,
             "#f1b6da"
            ],
            [
             0.4,
             "#fde0ef"
            ],
            [
             0.5,
             "#f7f7f7"
            ],
            [
             0.6,
             "#e6f5d0"
            ],
            [
             0.7,
             "#b8e186"
            ],
            [
             0.8,
             "#7fbc41"
            ],
            [
             0.9,
             "#4d9221"
            ],
            [
             1,
             "#276419"
            ]
           ],
           "sequential": [
            [
             0,
             "#0d0887"
            ],
            [
             0.1111111111111111,
             "#46039f"
            ],
            [
             0.2222222222222222,
             "#7201a8"
            ],
            [
             0.3333333333333333,
             "#9c179e"
            ],
            [
             0.4444444444444444,
             "#bd3786"
            ],
            [
             0.5555555555555556,
             "#d8576b"
            ],
            [
             0.6666666666666666,
             "#ed7953"
            ],
            [
             0.7777777777777778,
             "#fb9f3a"
            ],
            [
             0.8888888888888888,
             "#fdca26"
            ],
            [
             1,
             "#f0f921"
            ]
           ],
           "sequentialminus": [
            [
             0,
             "#0d0887"
            ],
            [
             0.1111111111111111,
             "#46039f"
            ],
            [
             0.2222222222222222,
             "#7201a8"
            ],
            [
             0.3333333333333333,
             "#9c179e"
            ],
            [
             0.4444444444444444,
             "#bd3786"
            ],
            [
             0.5555555555555556,
             "#d8576b"
            ],
            [
             0.6666666666666666,
             "#ed7953"
            ],
            [
             0.7777777777777778,
             "#fb9f3a"
            ],
            [
             0.8888888888888888,
             "#fdca26"
            ],
            [
             1,
             "#f0f921"
            ]
           ]
          },
          "colorway": [
           "#636efa",
           "#EF553B",
           "#00cc96",
           "#ab63fa",
           "#FFA15A",
           "#19d3f3",
           "#FF6692",
           "#B6E880",
           "#FF97FF",
           "#FECB52"
          ],
          "font": {
           "color": "#2a3f5f"
          },
          "geo": {
           "bgcolor": "white",
           "lakecolor": "white",
           "landcolor": "#E5ECF6",
           "showlakes": true,
           "showland": true,
           "subunitcolor": "white"
          },
          "hoverlabel": {
           "align": "left"
          },
          "hovermode": "closest",
          "mapbox": {
           "style": "light"
          },
          "paper_bgcolor": "white",
          "plot_bgcolor": "#E5ECF6",
          "polar": {
           "angularaxis": {
            "gridcolor": "white",
            "linecolor": "white",
            "ticks": ""
           },
           "bgcolor": "#E5ECF6",
           "radialaxis": {
            "gridcolor": "white",
            "linecolor": "white",
            "ticks": ""
           }
          },
          "scene": {
           "xaxis": {
            "backgroundcolor": "#E5ECF6",
            "gridcolor": "white",
            "gridwidth": 2,
            "linecolor": "white",
            "showbackground": true,
            "ticks": "",
            "zerolinecolor": "white"
           },
           "yaxis": {
            "backgroundcolor": "#E5ECF6",
            "gridcolor": "white",
            "gridwidth": 2,
            "linecolor": "white",
            "showbackground": true,
            "ticks": "",
            "zerolinecolor": "white"
           },
           "zaxis": {
            "backgroundcolor": "#E5ECF6",
            "gridcolor": "white",
            "gridwidth": 2,
            "linecolor": "white",
            "showbackground": true,
            "ticks": "",
            "zerolinecolor": "white"
           }
          },
          "shapedefaults": {
           "line": {
            "color": "#2a3f5f"
           }
          },
          "ternary": {
           "aaxis": {
            "gridcolor": "white",
            "linecolor": "white",
            "ticks": ""
           },
           "baxis": {
            "gridcolor": "white",
            "linecolor": "white",
            "ticks": ""
           },
           "bgcolor": "#E5ECF6",
           "caxis": {
            "gridcolor": "white",
            "linecolor": "white",
            "ticks": ""
           }
          },
          "title": {
           "x": 0.05
          },
          "xaxis": {
           "automargin": true,
           "gridcolor": "white",
           "linecolor": "white",
           "ticks": "",
           "title": {
            "standoff": 15
           },
           "zerolinecolor": "white",
           "zerolinewidth": 2
          },
          "yaxis": {
           "automargin": true,
           "gridcolor": "white",
           "linecolor": "white",
           "ticks": "",
           "title": {
            "standoff": 15
           },
           "zerolinecolor": "white",
           "zerolinewidth": 2
          }
         }
        },
        "title": {
         "font": {
          "size": 24
         },
         "text": "ROC Curve for XGBoost of approach_2",
         "x": 0.5,
         "xanchor": "center",
         "yanchor": "top"
        },
        "width": 1100,
        "xaxis": {
         "title": {
          "font": {
           "size": 20
          },
          "text": "False Positive Rate"
         }
        },
        "yaxis": {
         "title": {
          "font": {
           "size": 20
          },
          "text": "True Positive Rate"
         }
        }
       }
      }
     },
     "metadata": {},
     "output_type": "display_data"
    }
   ],
   "source": [
    "### 1. Define hyperparameter distributions for each model\n",
    "xgb_params = {\n",
    "    \"n_estimators\": randint(50, 150),\n",
    "    \"max_depth\": randint(3, 10),\n",
    "    \"learning_rate\": uniform(0.01, 0.3),\n",
    "    \"subsample\": uniform(0.6, 0.4),\n",
    "    \"colsample_bytree\": uniform(0.6, 1.0),\n",
    "}\n",
    "\n",
    "# Compute class distribution\n",
    "counter = Counter(y_train)\n",
    "scale_pos_weight = counter[0] / counter[1]  # Majority / Minority class ratio\n",
    "\n",
    "### 2.Train XGBoost\n",
    "xgb = XGBClassifier(\n",
    "    use_label_encoder=False,\n",
    "    eval_metric=\"logloss\",\n",
    "    random_state=42,\n",
    "    scale_pos_weight=scale_pos_weight,\n",
    ")\n",
    "xgb_best, xgb_auc, xgb_acc, xgb_f1, report = model_training.tune_and_evaluate_model(\n",
    "    xgb,\n",
    "    xgb_params,\n",
    "    X_train,\n",
    "    y_train,\n",
    "    X_test,\n",
    "    y_test,\n",
    "    model_name=\"XGBoost\",\n",
    "    log_dir=\"models/logs/approach_2\",\n",
    "    model_dir=\"models/saved_models/approach_2\",\n",
    "    approach=\"approach_2\",\n",
    ")"
   ]
  },
  {
   "cell_type": "code",
   "execution_count": 39,
   "metadata": {},
   "outputs": [
    {
     "name": "stdout",
     "output_type": "stream",
     "text": [
      "shape: (3, 2)\n",
      "┌─────────────┬────────────────────────────┐\n",
      "│ metrics     ┆ approach_2_xgboost_metrics │\n",
      "│ ---         ┆ ---                        │\n",
      "│ str         ┆ f64                        │\n",
      "╞═════════════╪════════════════════════════╡\n",
      "│ accuracy, % ┆ 75.0                       │\n",
      "│ f1_score    ┆ 0.845                      │\n",
      "│ auc         ┆ 0.612                      │\n",
      "└─────────────┴────────────────────────────┘\n"
     ]
    }
   ],
   "source": [
    "### 1. create dataframe from metrics add to metrics dictionary\n",
    "approach_2_xgboost_metrics = pl.DataFrame(\n",
    "    {\n",
    "        \"metrics\": [\"accuracy, %\", \"f1_score\", \"auc\"],\n",
    "        \"approach_2_xgboost_metrics\": [\n",
    "            np.round(xgb_acc * 100),\n",
    "            np.round(xgb_f1, 3),\n",
    "            np.round(xgb_auc, 3),\n",
    "        ],\n",
    "    }\n",
    ")\n",
    "METRICS_DICT[\"approach_2_xgboost_metrics\"] = approach_2_xgboost_metrics\n",
    "print(approach_2_xgboost_metrics)"
   ]
  },
  {
   "cell_type": "code",
   "execution_count": 40,
   "metadata": {},
   "outputs": [
    {
     "name": "stdout",
     "output_type": "stream",
     "text": [
      "shape: (2, 5)\n",
      "┌──────────┬───────────┬────────┬──────────┬───────┐\n",
      "│ category ┆ precision ┆ recall ┆ f1-score ┆ count │\n",
      "│ ---      ┆ ---       ┆ ---    ┆ ---      ┆ ---   │\n",
      "│ str      ┆ f64       ┆ f64    ┆ f64      ┆ i64   │\n",
      "╞══════════╪═══════════╪════════╪══════════╪═══════╡\n",
      "│ 0        ┆ 0.51      ┆ 0.23   ┆ 0.32     ┆ 78    │\n",
      "│ 1        ┆ 0.78      ┆ 0.93   ┆ 0.85     ┆ 227   │\n",
      "└──────────┴───────────┴────────┴──────────┴───────┘\n"
     ]
    }
   ],
   "source": [
    "### 1. convert report to polars dataframe\n",
    "approach_2_xgboost_report = model_training.classification_report_to_polars(report)\n",
    "\n",
    "### 2. save report\n",
    "approach_2_xgboost_report.write_excel(\n",
    "    \"reports/approach_2/approach_2_xgboost_report.xlsx\"\n",
    ")\n",
    "print(approach_2_xgboost_report)"
   ]
  },
  {
   "cell_type": "markdown",
   "metadata": {},
   "source": [
    "## <a id='toc1_3_'></a>[3. Approach 3: Statistical Distribution-Based Feature Selection](#toc0_)"
   ]
  },
  {
   "cell_type": "code",
   "execution_count": 41,
   "metadata": {},
   "outputs": [],
   "source": [
    "### 1. download train and test sets\n",
    "train_set = pl.read_excel(\"dataset/processed/train_processed_approach_3.xlsx\")\n",
    "test_set = pl.read_excel(\"dataset/processed/test_processed_approach_3.xlsx\")\n",
    "\n",
    "### 2. Drop \"Patient ID\" and handle \"ER\" as the target and Separate features and target\n",
    "X_train = train_set.drop(\"Patient ID\", \"ER\").to_numpy()\n",
    "y_train = train_set[\"ER\"].to_numpy()\n",
    "X_test = test_set.drop(\"Patient ID\", \"ER\").to_numpy()\n",
    "y_test = test_set[\"ER\"].to_numpy()"
   ]
  },
  {
   "cell_type": "markdown",
   "metadata": {},
   "source": [
    "### <a id='toc1_3_1_'></a>[3.1 Logistics regression](#toc0_)"
   ]
  },
  {
   "cell_type": "code",
   "execution_count": 42,
   "metadata": {},
   "outputs": [
    {
     "name": "stdout",
     "output_type": "stream",
     "text": [
      "Fitting 5 folds for each of 50 candidates, totalling 250 fits\n",
      "Logistic_Regression_with_ridge_penalty Best Hyperparameters: {'C': 3.7554011884736247, 'penalty': 'l2', 'solver': 'sag'}\n",
      "Logistic_Regression_with_ridge_penalty Test Metrics:\n",
      "AUC: 0.6605\n",
      "Accuracy: 0.7475\n",
      "F1-Score: 0.8550\n"
     ]
    },
    {
     "data": {
      "application/vnd.plotly.v1+json": {
       "config": {
        "plotlyServerURL": "https://plot.ly"
       },
       "data": [
        {
         "line": {
          "color": "blue"
         },
         "mode": "lines",
         "name": "Logistic_Regression_with_ridge_penalty (AUC = 0.6605)",
         "type": "scatter",
         "x": [
          0,
          0,
          0,
          0.01282051282051282,
          0.01282051282051282,
          0.02564102564102564,
          0.02564102564102564,
          0.038461538461538464,
          0.038461538461538464,
          0.05128205128205128,
          0.05128205128205128,
          0.0641025641025641,
          0.0641025641025641,
          0.07692307692307693,
          0.07692307692307693,
          0.08974358974358974,
          0.08974358974358974,
          0.10256410256410256,
          0.10256410256410256,
          0.1282051282051282,
          0.1282051282051282,
          0.15384615384615385,
          0.15384615384615385,
          0.16666666666666666,
          0.16666666666666666,
          0.1794871794871795,
          0.1794871794871795,
          0.20512820512820512,
          0.20512820512820512,
          0.21794871794871795,
          0.21794871794871795,
          0.24358974358974358,
          0.24358974358974358,
          0.2564102564102564,
          0.2564102564102564,
          0.2692307692307692,
          0.2692307692307692,
          0.28205128205128205,
          0.28205128205128205,
          0.3076923076923077,
          0.3076923076923077,
          0.3333333333333333,
          0.3333333333333333,
          0.34615384615384615,
          0.34615384615384615,
          0.358974358974359,
          0.358974358974359,
          0.3717948717948718,
          0.3717948717948718,
          0.41025641025641024,
          0.41025641025641024,
          0.4230769230769231,
          0.4230769230769231,
          0.4358974358974359,
          0.4358974358974359,
          0.44871794871794873,
          0.44871794871794873,
          0.46153846153846156,
          0.46153846153846156,
          0.48717948717948717,
          0.48717948717948717,
          0.5,
          0.5,
          0.5128205128205128,
          0.5128205128205128,
          0.5512820512820513,
          0.5512820512820513,
          0.5641025641025641,
          0.5641025641025641,
          0.5769230769230769,
          0.5769230769230769,
          0.5897435897435898,
          0.5897435897435898,
          0.6153846153846154,
          0.6153846153846154,
          0.6410256410256411,
          0.6410256410256411,
          0.6538461538461539,
          0.6538461538461539,
          0.6666666666666666,
          0.6666666666666666,
          0.6794871794871795,
          0.6794871794871795,
          0.7051282051282052,
          0.7051282051282052,
          0.7307692307692307,
          0.7307692307692307,
          0.7564102564102564,
          0.7564102564102564,
          0.7692307692307693,
          0.7692307692307693,
          0.782051282051282,
          0.782051282051282,
          0.7948717948717948,
          0.7948717948717948,
          0.8076923076923077,
          0.8076923076923077,
          0.8205128205128205,
          0.8205128205128205,
          0.8461538461538461,
          0.8461538461538461,
          0.8846153846153846,
          0.8846153846153846,
          0.8974358974358975,
          0.8974358974358975,
          0.9102564102564102,
          0.9102564102564102,
          0.9230769230769231,
          0.9230769230769231,
          0.9358974358974359,
          0.9358974358974359,
          0.9487179487179487,
          0.9487179487179487,
          0.9743589743589743,
          0.9743589743589743,
          1
         ],
         "y": [
          0,
          0.004405286343612335,
          0.10572687224669604,
          0.10572687224669604,
          0.11894273127753303,
          0.11894273127753303,
          0.12334801762114538,
          0.12334801762114538,
          0.15418502202643172,
          0.15418502202643172,
          0.15859030837004406,
          0.15859030837004406,
          0.19823788546255505,
          0.19823788546255505,
          0.21145374449339208,
          0.21145374449339208,
          0.32599118942731276,
          0.32599118942731276,
          0.3436123348017621,
          0.3436123348017621,
          0.3656387665198238,
          0.3656387665198238,
          0.3700440528634361,
          0.3700440528634361,
          0.41409691629955947,
          0.41409691629955947,
          0.4185022026431718,
          0.4185022026431718,
          0.4669603524229075,
          0.4669603524229075,
          0.4713656387665198,
          0.4713656387665198,
          0.4801762114537445,
          0.4801762114537445,
          0.4977973568281938,
          0.4977973568281938,
          0.5242290748898678,
          0.5242290748898678,
          0.5286343612334802,
          0.5286343612334802,
          0.5506607929515418,
          0.5506607929515418,
          0.5638766519823789,
          0.5638766519823789,
          0.5770925110132159,
          0.5770925110132159,
          0.5903083700440529,
          0.5903083700440529,
          0.5991189427312775,
          0.5991189427312775,
          0.6079295154185022,
          0.6079295154185022,
          0.6387665198237885,
          0.6387665198237885,
          0.6916299559471366,
          0.6916299559471366,
          0.7092511013215859,
          0.7092511013215859,
          0.7136563876651982,
          0.7136563876651982,
          0.7224669603524229,
          0.7224669603524229,
          0.7312775330396476,
          0.7312775330396476,
          0.7533039647577092,
          0.7533039647577092,
          0.762114537444934,
          0.762114537444934,
          0.7665198237885462,
          0.7665198237885462,
          0.7841409691629956,
          0.7841409691629956,
          0.788546255506608,
          0.788546255506608,
          0.7973568281938326,
          0.7973568281938326,
          0.801762114537445,
          0.801762114537445,
          0.8105726872246696,
          0.8105726872246696,
          0.8149779735682819,
          0.8149779735682819,
          0.8237885462555066,
          0.8237885462555066,
          0.8281938325991189,
          0.8281938325991189,
          0.8370044052863436,
          0.8370044052863436,
          0.8502202643171806,
          0.8502202643171806,
          0.8722466960352423,
          0.8722466960352423,
          0.8854625550660793,
          0.8854625550660793,
          0.8986784140969163,
          0.8986784140969163,
          0.9074889867841409,
          0.9074889867841409,
          0.9162995594713657,
          0.9162995594713657,
          0.9251101321585903,
          0.9251101321585903,
          0.9295154185022027,
          0.9295154185022027,
          0.9559471365638766,
          0.9559471365638766,
          0.960352422907489,
          0.960352422907489,
          0.9779735682819384,
          0.9779735682819384,
          0.9823788546255506,
          0.9823788546255506,
          0.986784140969163,
          0.986784140969163,
          1,
          1
         ]
        },
        {
         "line": {
          "color": "red",
          "dash": "dash"
         },
         "mode": "lines",
         "name": "Random",
         "type": "scatter",
         "x": [
          0,
          1
         ],
         "y": [
          0,
          1
         ]
        }
       ],
       "layout": {
        "height": 700,
        "legend": {
         "font": {
          "size": 16
         }
        },
        "showlegend": true,
        "template": {
         "data": {
          "bar": [
           {
            "error_x": {
             "color": "#2a3f5f"
            },
            "error_y": {
             "color": "#2a3f5f"
            },
            "marker": {
             "line": {
              "color": "#E5ECF6",
              "width": 0.5
             },
             "pattern": {
              "fillmode": "overlay",
              "size": 10,
              "solidity": 0.2
             }
            },
            "type": "bar"
           }
          ],
          "barpolar": [
           {
            "marker": {
             "line": {
              "color": "#E5ECF6",
              "width": 0.5
             },
             "pattern": {
              "fillmode": "overlay",
              "size": 10,
              "solidity": 0.2
             }
            },
            "type": "barpolar"
           }
          ],
          "carpet": [
           {
            "aaxis": {
             "endlinecolor": "#2a3f5f",
             "gridcolor": "white",
             "linecolor": "white",
             "minorgridcolor": "white",
             "startlinecolor": "#2a3f5f"
            },
            "baxis": {
             "endlinecolor": "#2a3f5f",
             "gridcolor": "white",
             "linecolor": "white",
             "minorgridcolor": "white",
             "startlinecolor": "#2a3f5f"
            },
            "type": "carpet"
           }
          ],
          "choropleth": [
           {
            "colorbar": {
             "outlinewidth": 0,
             "ticks": ""
            },
            "type": "choropleth"
           }
          ],
          "contour": [
           {
            "colorbar": {
             "outlinewidth": 0,
             "ticks": ""
            },
            "colorscale": [
             [
              0,
              "#0d0887"
             ],
             [
              0.1111111111111111,
              "#46039f"
             ],
             [
              0.2222222222222222,
              "#7201a8"
             ],
             [
              0.3333333333333333,
              "#9c179e"
             ],
             [
              0.4444444444444444,
              "#bd3786"
             ],
             [
              0.5555555555555556,
              "#d8576b"
             ],
             [
              0.6666666666666666,
              "#ed7953"
             ],
             [
              0.7777777777777778,
              "#fb9f3a"
             ],
             [
              0.8888888888888888,
              "#fdca26"
             ],
             [
              1,
              "#f0f921"
             ]
            ],
            "type": "contour"
           }
          ],
          "contourcarpet": [
           {
            "colorbar": {
             "outlinewidth": 0,
             "ticks": ""
            },
            "type": "contourcarpet"
           }
          ],
          "heatmap": [
           {
            "colorbar": {
             "outlinewidth": 0,
             "ticks": ""
            },
            "colorscale": [
             [
              0,
              "#0d0887"
             ],
             [
              0.1111111111111111,
              "#46039f"
             ],
             [
              0.2222222222222222,
              "#7201a8"
             ],
             [
              0.3333333333333333,
              "#9c179e"
             ],
             [
              0.4444444444444444,
              "#bd3786"
             ],
             [
              0.5555555555555556,
              "#d8576b"
             ],
             [
              0.6666666666666666,
              "#ed7953"
             ],
             [
              0.7777777777777778,
              "#fb9f3a"
             ],
             [
              0.8888888888888888,
              "#fdca26"
             ],
             [
              1,
              "#f0f921"
             ]
            ],
            "type": "heatmap"
           }
          ],
          "heatmapgl": [
           {
            "colorbar": {
             "outlinewidth": 0,
             "ticks": ""
            },
            "colorscale": [
             [
              0,
              "#0d0887"
             ],
             [
              0.1111111111111111,
              "#46039f"
             ],
             [
              0.2222222222222222,
              "#7201a8"
             ],
             [
              0.3333333333333333,
              "#9c179e"
             ],
             [
              0.4444444444444444,
              "#bd3786"
             ],
             [
              0.5555555555555556,
              "#d8576b"
             ],
             [
              0.6666666666666666,
              "#ed7953"
             ],
             [
              0.7777777777777778,
              "#fb9f3a"
             ],
             [
              0.8888888888888888,
              "#fdca26"
             ],
             [
              1,
              "#f0f921"
             ]
            ],
            "type": "heatmapgl"
           }
          ],
          "histogram": [
           {
            "marker": {
             "pattern": {
              "fillmode": "overlay",
              "size": 10,
              "solidity": 0.2
             }
            },
            "type": "histogram"
           }
          ],
          "histogram2d": [
           {
            "colorbar": {
             "outlinewidth": 0,
             "ticks": ""
            },
            "colorscale": [
             [
              0,
              "#0d0887"
             ],
             [
              0.1111111111111111,
              "#46039f"
             ],
             [
              0.2222222222222222,
              "#7201a8"
             ],
             [
              0.3333333333333333,
              "#9c179e"
             ],
             [
              0.4444444444444444,
              "#bd3786"
             ],
             [
              0.5555555555555556,
              "#d8576b"
             ],
             [
              0.6666666666666666,
              "#ed7953"
             ],
             [
              0.7777777777777778,
              "#fb9f3a"
             ],
             [
              0.8888888888888888,
              "#fdca26"
             ],
             [
              1,
              "#f0f921"
             ]
            ],
            "type": "histogram2d"
           }
          ],
          "histogram2dcontour": [
           {
            "colorbar": {
             "outlinewidth": 0,
             "ticks": ""
            },
            "colorscale": [
             [
              0,
              "#0d0887"
             ],
             [
              0.1111111111111111,
              "#46039f"
             ],
             [
              0.2222222222222222,
              "#7201a8"
             ],
             [
              0.3333333333333333,
              "#9c179e"
             ],
             [
              0.4444444444444444,
              "#bd3786"
             ],
             [
              0.5555555555555556,
              "#d8576b"
             ],
             [
              0.6666666666666666,
              "#ed7953"
             ],
             [
              0.7777777777777778,
              "#fb9f3a"
             ],
             [
              0.8888888888888888,
              "#fdca26"
             ],
             [
              1,
              "#f0f921"
             ]
            ],
            "type": "histogram2dcontour"
           }
          ],
          "mesh3d": [
           {
            "colorbar": {
             "outlinewidth": 0,
             "ticks": ""
            },
            "type": "mesh3d"
           }
          ],
          "parcoords": [
           {
            "line": {
             "colorbar": {
              "outlinewidth": 0,
              "ticks": ""
             }
            },
            "type": "parcoords"
           }
          ],
          "pie": [
           {
            "automargin": true,
            "type": "pie"
           }
          ],
          "scatter": [
           {
            "fillpattern": {
             "fillmode": "overlay",
             "size": 10,
             "solidity": 0.2
            },
            "type": "scatter"
           }
          ],
          "scatter3d": [
           {
            "line": {
             "colorbar": {
              "outlinewidth": 0,
              "ticks": ""
             }
            },
            "marker": {
             "colorbar": {
              "outlinewidth": 0,
              "ticks": ""
             }
            },
            "type": "scatter3d"
           }
          ],
          "scattercarpet": [
           {
            "marker": {
             "colorbar": {
              "outlinewidth": 0,
              "ticks": ""
             }
            },
            "type": "scattercarpet"
           }
          ],
          "scattergeo": [
           {
            "marker": {
             "colorbar": {
              "outlinewidth": 0,
              "ticks": ""
             }
            },
            "type": "scattergeo"
           }
          ],
          "scattergl": [
           {
            "marker": {
             "colorbar": {
              "outlinewidth": 0,
              "ticks": ""
             }
            },
            "type": "scattergl"
           }
          ],
          "scattermapbox": [
           {
            "marker": {
             "colorbar": {
              "outlinewidth": 0,
              "ticks": ""
             }
            },
            "type": "scattermapbox"
           }
          ],
          "scatterpolar": [
           {
            "marker": {
             "colorbar": {
              "outlinewidth": 0,
              "ticks": ""
             }
            },
            "type": "scatterpolar"
           }
          ],
          "scatterpolargl": [
           {
            "marker": {
             "colorbar": {
              "outlinewidth": 0,
              "ticks": ""
             }
            },
            "type": "scatterpolargl"
           }
          ],
          "scatterternary": [
           {
            "marker": {
             "colorbar": {
              "outlinewidth": 0,
              "ticks": ""
             }
            },
            "type": "scatterternary"
           }
          ],
          "surface": [
           {
            "colorbar": {
             "outlinewidth": 0,
             "ticks": ""
            },
            "colorscale": [
             [
              0,
              "#0d0887"
             ],
             [
              0.1111111111111111,
              "#46039f"
             ],
             [
              0.2222222222222222,
              "#7201a8"
             ],
             [
              0.3333333333333333,
              "#9c179e"
             ],
             [
              0.4444444444444444,
              "#bd3786"
             ],
             [
              0.5555555555555556,
              "#d8576b"
             ],
             [
              0.6666666666666666,
              "#ed7953"
             ],
             [
              0.7777777777777778,
              "#fb9f3a"
             ],
             [
              0.8888888888888888,
              "#fdca26"
             ],
             [
              1,
              "#f0f921"
             ]
            ],
            "type": "surface"
           }
          ],
          "table": [
           {
            "cells": {
             "fill": {
              "color": "#EBF0F8"
             },
             "line": {
              "color": "white"
             }
            },
            "header": {
             "fill": {
              "color": "#C8D4E3"
             },
             "line": {
              "color": "white"
             }
            },
            "type": "table"
           }
          ]
         },
         "layout": {
          "annotationdefaults": {
           "arrowcolor": "#2a3f5f",
           "arrowhead": 0,
           "arrowwidth": 1
          },
          "autotypenumbers": "strict",
          "coloraxis": {
           "colorbar": {
            "outlinewidth": 0,
            "ticks": ""
           }
          },
          "colorscale": {
           "diverging": [
            [
             0,
             "#8e0152"
            ],
            [
             0.1,
             "#c51b7d"
            ],
            [
             0.2,
             "#de77ae"
            ],
            [
             0.3,
             "#f1b6da"
            ],
            [
             0.4,
             "#fde0ef"
            ],
            [
             0.5,
             "#f7f7f7"
            ],
            [
             0.6,
             "#e6f5d0"
            ],
            [
             0.7,
             "#b8e186"
            ],
            [
             0.8,
             "#7fbc41"
            ],
            [
             0.9,
             "#4d9221"
            ],
            [
             1,
             "#276419"
            ]
           ],
           "sequential": [
            [
             0,
             "#0d0887"
            ],
            [
             0.1111111111111111,
             "#46039f"
            ],
            [
             0.2222222222222222,
             "#7201a8"
            ],
            [
             0.3333333333333333,
             "#9c179e"
            ],
            [
             0.4444444444444444,
             "#bd3786"
            ],
            [
             0.5555555555555556,
             "#d8576b"
            ],
            [
             0.6666666666666666,
             "#ed7953"
            ],
            [
             0.7777777777777778,
             "#fb9f3a"
            ],
            [
             0.8888888888888888,
             "#fdca26"
            ],
            [
             1,
             "#f0f921"
            ]
           ],
           "sequentialminus": [
            [
             0,
             "#0d0887"
            ],
            [
             0.1111111111111111,
             "#46039f"
            ],
            [
             0.2222222222222222,
             "#7201a8"
            ],
            [
             0.3333333333333333,
             "#9c179e"
            ],
            [
             0.4444444444444444,
             "#bd3786"
            ],
            [
             0.5555555555555556,
             "#d8576b"
            ],
            [
             0.6666666666666666,
             "#ed7953"
            ],
            [
             0.7777777777777778,
             "#fb9f3a"
            ],
            [
             0.8888888888888888,
             "#fdca26"
            ],
            [
             1,
             "#f0f921"
            ]
           ]
          },
          "colorway": [
           "#636efa",
           "#EF553B",
           "#00cc96",
           "#ab63fa",
           "#FFA15A",
           "#19d3f3",
           "#FF6692",
           "#B6E880",
           "#FF97FF",
           "#FECB52"
          ],
          "font": {
           "color": "#2a3f5f"
          },
          "geo": {
           "bgcolor": "white",
           "lakecolor": "white",
           "landcolor": "#E5ECF6",
           "showlakes": true,
           "showland": true,
           "subunitcolor": "white"
          },
          "hoverlabel": {
           "align": "left"
          },
          "hovermode": "closest",
          "mapbox": {
           "style": "light"
          },
          "paper_bgcolor": "white",
          "plot_bgcolor": "#E5ECF6",
          "polar": {
           "angularaxis": {
            "gridcolor": "white",
            "linecolor": "white",
            "ticks": ""
           },
           "bgcolor": "#E5ECF6",
           "radialaxis": {
            "gridcolor": "white",
            "linecolor": "white",
            "ticks": ""
           }
          },
          "scene": {
           "xaxis": {
            "backgroundcolor": "#E5ECF6",
            "gridcolor": "white",
            "gridwidth": 2,
            "linecolor": "white",
            "showbackground": true,
            "ticks": "",
            "zerolinecolor": "white"
           },
           "yaxis": {
            "backgroundcolor": "#E5ECF6",
            "gridcolor": "white",
            "gridwidth": 2,
            "linecolor": "white",
            "showbackground": true,
            "ticks": "",
            "zerolinecolor": "white"
           },
           "zaxis": {
            "backgroundcolor": "#E5ECF6",
            "gridcolor": "white",
            "gridwidth": 2,
            "linecolor": "white",
            "showbackground": true,
            "ticks": "",
            "zerolinecolor": "white"
           }
          },
          "shapedefaults": {
           "line": {
            "color": "#2a3f5f"
           }
          },
          "ternary": {
           "aaxis": {
            "gridcolor": "white",
            "linecolor": "white",
            "ticks": ""
           },
           "baxis": {
            "gridcolor": "white",
            "linecolor": "white",
            "ticks": ""
           },
           "bgcolor": "#E5ECF6",
           "caxis": {
            "gridcolor": "white",
            "linecolor": "white",
            "ticks": ""
           }
          },
          "title": {
           "x": 0.05
          },
          "xaxis": {
           "automargin": true,
           "gridcolor": "white",
           "linecolor": "white",
           "ticks": "",
           "title": {
            "standoff": 15
           },
           "zerolinecolor": "white",
           "zerolinewidth": 2
          },
          "yaxis": {
           "automargin": true,
           "gridcolor": "white",
           "linecolor": "white",
           "ticks": "",
           "title": {
            "standoff": 15
           },
           "zerolinecolor": "white",
           "zerolinewidth": 2
          }
         }
        },
        "title": {
         "font": {
          "size": 24
         },
         "text": "ROC Curve for Logistic_Regression_with_ridge_penalty of approach_3",
         "x": 0.5,
         "xanchor": "center",
         "yanchor": "top"
        },
        "width": 1100,
        "xaxis": {
         "title": {
          "font": {
           "size": 20
          },
          "text": "False Positive Rate"
         }
        },
        "yaxis": {
         "title": {
          "font": {
           "size": 20
          },
          "text": "True Positive Rate"
         }
        }
       }
      }
     },
     "metadata": {},
     "output_type": "display_data"
    }
   ],
   "source": [
    "### 1. Define hyperparameter distributions for each model\n",
    "log_reg_params = {\n",
    "    \"C\": uniform(0.01, 10),\n",
    "    \"penalty\": [\"l2\"],\n",
    "    \"solver\": [\"sag\"],\n",
    "}\n",
    "\n",
    "### 2. Train Logistic Regression\n",
    "log_reg = LogisticRegression(max_iter=1000)\n",
    "log_reg_best, log_reg_auc, log_reg_acc, log_reg_f1, report = (\n",
    "    model_training.tune_and_evaluate_model(\n",
    "        log_reg,\n",
    "        log_reg_params,\n",
    "        X_train,\n",
    "        y_train,\n",
    "        X_test,\n",
    "        y_test,\n",
    "        model_name=\"Logistic_Regression_with_ridge_penalty\",\n",
    "        log_dir=\"models/logs/approach_3\",\n",
    "        model_dir=\"models/saved_models/approach_3\",\n",
    "        approach=\"approach_3\",\n",
    "    )\n",
    ")"
   ]
  },
  {
   "cell_type": "code",
   "execution_count": 43,
   "metadata": {},
   "outputs": [
    {
     "name": "stdout",
     "output_type": "stream",
     "text": [
      "shape: (3, 2)\n",
      "┌─────────────┬────────────────────────────┐\n",
      "│ metrics     ┆ approach_3_log_reg_metrics │\n",
      "│ ---         ┆ ---                        │\n",
      "│ str         ┆ f64                        │\n",
      "╞═════════════╪════════════════════════════╡\n",
      "│ accuracy, % ┆ 75.0                       │\n",
      "│ f1_score    ┆ 0.855                      │\n",
      "│ auc         ┆ 0.66                       │\n",
      "└─────────────┴────────────────────────────┘\n"
     ]
    }
   ],
   "source": [
    "### 1. create dataframe from metrics add to metrics dictionary\n",
    "approach_3_log_reg_metrics = pl.DataFrame(\n",
    "    {\n",
    "        \"metrics\": [\"accuracy, %\", \"f1_score\", \"auc\"],\n",
    "        \"approach_3_log_reg_metrics\": [\n",
    "            np.round(log_reg_acc * 100),\n",
    "            np.round(log_reg_f1, 3),\n",
    "            np.round(log_reg_auc, 3),\n",
    "        ],\n",
    "    }\n",
    ")\n",
    "METRICS_DICT[\"approach_3_log_reg_metrics\"] = approach_3_log_reg_metrics\n",
    "print(approach_3_log_reg_metrics)"
   ]
  },
  {
   "cell_type": "code",
   "execution_count": 44,
   "metadata": {},
   "outputs": [
    {
     "name": "stdout",
     "output_type": "stream",
     "text": [
      "shape: (2, 5)\n",
      "┌──────────┬───────────┬────────┬──────────┬───────┐\n",
      "│ category ┆ precision ┆ recall ┆ f1-score ┆ count │\n",
      "│ ---      ┆ ---       ┆ ---    ┆ ---      ┆ ---   │\n",
      "│ str      ┆ f64       ┆ f64    ┆ f64      ┆ i64   │\n",
      "╞══════════╪═══════════╪════════╪══════════╪═══════╡\n",
      "│ 0        ┆ 1.0       ┆ 0.01   ┆ 0.03     ┆ 78    │\n",
      "│ 1        ┆ 0.75      ┆ 1.0    ┆ 0.85     ┆ 227   │\n",
      "└──────────┴───────────┴────────┴──────────┴───────┘\n"
     ]
    }
   ],
   "source": [
    "### 1. convert report to polars dataframe\n",
    "approach_3_log_reg_report = model_training.classification_report_to_polars(report)\n",
    "\n",
    "### 2. save report\n",
    "approach_3_log_reg_report.write_excel(\n",
    "    \"reports/approach_3/approach_3_log_reg_report.xlsx\"\n",
    ")\n",
    "print(approach_3_log_reg_report)"
   ]
  },
  {
   "cell_type": "markdown",
   "metadata": {},
   "source": [
    "### <a id='toc1_3_2_'></a>[3.2 Random Forest](#toc0_)"
   ]
  },
  {
   "cell_type": "code",
   "execution_count": 45,
   "metadata": {},
   "outputs": [
    {
     "name": "stdout",
     "output_type": "stream",
     "text": [
      "Fitting 5 folds for each of 50 candidates, totalling 250 fits\n",
      "Random_Forest Best Hyperparameters: {'max_depth': 5, 'min_samples_leaf': 15, 'min_samples_split': 21, 'n_estimators': 53}\n",
      "Random_Forest Test Metrics:\n",
      "AUC: 0.5999\n",
      "Accuracy: 0.7508\n",
      "F1-Score: 0.8555\n"
     ]
    },
    {
     "data": {
      "application/vnd.plotly.v1+json": {
       "config": {
        "plotlyServerURL": "https://plot.ly"
       },
       "data": [
        {
         "line": {
          "color": "blue"
         },
         "mode": "lines",
         "name": "Random_Forest (AUC = 0.5999)",
         "type": "scatter",
         "x": [
          0,
          0,
          0,
          0.01282051282051282,
          0.01282051282051282,
          0.02564102564102564,
          0.02564102564102564,
          0.038461538461538464,
          0.038461538461538464,
          0.05128205128205128,
          0.05128205128205128,
          0.0641025641025641,
          0.0641025641025641,
          0.08974358974358974,
          0.08974358974358974,
          0.10256410256410256,
          0.10256410256410256,
          0.11538461538461539,
          0.11538461538461539,
          0.1282051282051282,
          0.1282051282051282,
          0.15384615384615385,
          0.15384615384615385,
          0.16666666666666666,
          0.16666666666666666,
          0.19230769230769232,
          0.19230769230769232,
          0.21794871794871795,
          0.21794871794871795,
          0.23076923076923078,
          0.23076923076923078,
          0.24358974358974358,
          0.24358974358974358,
          0.2564102564102564,
          0.2564102564102564,
          0.2692307692307692,
          0.2692307692307692,
          0.2948717948717949,
          0.2948717948717949,
          0.3076923076923077,
          0.3076923076923077,
          0.32051282051282054,
          0.32051282051282054,
          0.34615384615384615,
          0.34615384615384615,
          0.358974358974359,
          0.358974358974359,
          0.38461538461538464,
          0.38461538461538464,
          0.3974358974358974,
          0.3974358974358974,
          0.41025641025641024,
          0.41025641025641024,
          0.4230769230769231,
          0.4230769230769231,
          0.4358974358974359,
          0.4358974358974359,
          0.44871794871794873,
          0.44871794871794873,
          0.46153846153846156,
          0.46153846153846156,
          0.47435897435897434,
          0.47435897435897434,
          0.48717948717948717,
          0.48717948717948717,
          0.5,
          0.5,
          0.5128205128205128,
          0.5128205128205128,
          0.5256410256410257,
          0.5256410256410257,
          0.5384615384615384,
          0.5384615384615384,
          0.5512820512820513,
          0.5512820512820513,
          0.6025641025641025,
          0.6025641025641025,
          0.6282051282051282,
          0.6282051282051282,
          0.6410256410256411,
          0.6410256410256411,
          0.6538461538461539,
          0.6538461538461539,
          0.6666666666666666,
          0.6666666666666666,
          0.6794871794871795,
          0.6794871794871795,
          0.6923076923076923,
          0.6923076923076923,
          0.7051282051282052,
          0.7051282051282052,
          0.717948717948718,
          0.717948717948718,
          0.7435897435897436,
          0.7435897435897436,
          0.7564102564102564,
          0.7564102564102564,
          0.7692307692307693,
          0.7692307692307693,
          0.782051282051282,
          0.782051282051282,
          0.8205128205128205,
          0.8205128205128205,
          0.8333333333333334,
          0.8333333333333334,
          0.8461538461538461,
          0.8461538461538461,
          0.8589743589743589,
          0.8589743589743589,
          0.8717948717948718,
          0.8717948717948718,
          0.8846153846153846,
          0.8846153846153846,
          0.8974358974358975,
          0.8974358974358975,
          0.9102564102564102,
          0.9102564102564102,
          0.9487179487179487,
          0.9487179487179487,
          1
         ],
         "y": [
          0,
          0.004405286343612335,
          0.01762114537444934,
          0.01762114537444934,
          0.07048458149779736,
          0.07048458149779736,
          0.07929515418502203,
          0.07929515418502203,
          0.1145374449339207,
          0.1145374449339207,
          0.11894273127753303,
          0.11894273127753303,
          0.1277533039647577,
          0.1277533039647577,
          0.14977973568281938,
          0.14977973568281938,
          0.17180616740088106,
          0.17180616740088106,
          0.18502202643171806,
          0.18502202643171806,
          0.21145374449339208,
          0.21145374449339208,
          0.22466960352422907,
          0.22466960352422907,
          0.2290748898678414,
          0.2290748898678414,
          0.28193832599118945,
          0.28193832599118945,
          0.30837004405286345,
          0.30837004405286345,
          0.32158590308370044,
          0.32158590308370044,
          0.3656387665198238,
          0.3656387665198238,
          0.3832599118942731,
          0.3832599118942731,
          0.4008810572687225,
          0.4008810572687225,
          0.41409691629955947,
          0.41409691629955947,
          0.44052863436123346,
          0.44052863436123346,
          0.4669603524229075,
          0.4669603524229075,
          0.47577092511013214,
          0.47577092511013214,
          0.4977973568281938,
          0.4977973568281938,
          0.5022026431718062,
          0.5022026431718062,
          0.5154185022026432,
          0.5154185022026432,
          0.5198237885462555,
          0.5198237885462555,
          0.5506607929515418,
          0.5506607929515418,
          0.5682819383259912,
          0.5682819383259912,
          0.5903083700440529,
          0.5903083700440529,
          0.6079295154185022,
          0.6079295154185022,
          0.6387665198237885,
          0.6387665198237885,
          0.6519823788546255,
          0.6519823788546255,
          0.6696035242290749,
          0.6696035242290749,
          0.6784140969162996,
          0.6784140969162996,
          0.6828193832599119,
          0.6828193832599119,
          0.6872246696035242,
          0.6872246696035242,
          0.7004405286343612,
          0.7004405286343612,
          0.73568281938326,
          0.73568281938326,
          0.7797356828193832,
          0.7797356828193832,
          0.788546255506608,
          0.788546255506608,
          0.8281938325991189,
          0.8281938325991189,
          0.8325991189427313,
          0.8325991189427313,
          0.8414096916299559,
          0.8414096916299559,
          0.8458149779735683,
          0.8458149779735683,
          0.8634361233480177,
          0.8634361233480177,
          0.8678414096916299,
          0.8678414096916299,
          0.8722466960352423,
          0.8722466960352423,
          0.8766519823788547,
          0.8766519823788547,
          0.8854625550660793,
          0.8854625550660793,
          0.8898678414096917,
          0.8898678414096917,
          0.8986784140969163,
          0.8986784140969163,
          0.9251101321585903,
          0.9251101321585903,
          0.933920704845815,
          0.933920704845815,
          0.947136563876652,
          0.947136563876652,
          0.960352422907489,
          0.960352422907489,
          0.9647577092511013,
          0.9647577092511013,
          0.9691629955947136,
          0.9691629955947136,
          0.986784140969163,
          0.986784140969163,
          1,
          1
         ]
        },
        {
         "line": {
          "color": "red",
          "dash": "dash"
         },
         "mode": "lines",
         "name": "Random",
         "type": "scatter",
         "x": [
          0,
          1
         ],
         "y": [
          0,
          1
         ]
        }
       ],
       "layout": {
        "height": 700,
        "legend": {
         "font": {
          "size": 16
         }
        },
        "showlegend": true,
        "template": {
         "data": {
          "bar": [
           {
            "error_x": {
             "color": "#2a3f5f"
            },
            "error_y": {
             "color": "#2a3f5f"
            },
            "marker": {
             "line": {
              "color": "#E5ECF6",
              "width": 0.5
             },
             "pattern": {
              "fillmode": "overlay",
              "size": 10,
              "solidity": 0.2
             }
            },
            "type": "bar"
           }
          ],
          "barpolar": [
           {
            "marker": {
             "line": {
              "color": "#E5ECF6",
              "width": 0.5
             },
             "pattern": {
              "fillmode": "overlay",
              "size": 10,
              "solidity": 0.2
             }
            },
            "type": "barpolar"
           }
          ],
          "carpet": [
           {
            "aaxis": {
             "endlinecolor": "#2a3f5f",
             "gridcolor": "white",
             "linecolor": "white",
             "minorgridcolor": "white",
             "startlinecolor": "#2a3f5f"
            },
            "baxis": {
             "endlinecolor": "#2a3f5f",
             "gridcolor": "white",
             "linecolor": "white",
             "minorgridcolor": "white",
             "startlinecolor": "#2a3f5f"
            },
            "type": "carpet"
           }
          ],
          "choropleth": [
           {
            "colorbar": {
             "outlinewidth": 0,
             "ticks": ""
            },
            "type": "choropleth"
           }
          ],
          "contour": [
           {
            "colorbar": {
             "outlinewidth": 0,
             "ticks": ""
            },
            "colorscale": [
             [
              0,
              "#0d0887"
             ],
             [
              0.1111111111111111,
              "#46039f"
             ],
             [
              0.2222222222222222,
              "#7201a8"
             ],
             [
              0.3333333333333333,
              "#9c179e"
             ],
             [
              0.4444444444444444,
              "#bd3786"
             ],
             [
              0.5555555555555556,
              "#d8576b"
             ],
             [
              0.6666666666666666,
              "#ed7953"
             ],
             [
              0.7777777777777778,
              "#fb9f3a"
             ],
             [
              0.8888888888888888,
              "#fdca26"
             ],
             [
              1,
              "#f0f921"
             ]
            ],
            "type": "contour"
           }
          ],
          "contourcarpet": [
           {
            "colorbar": {
             "outlinewidth": 0,
             "ticks": ""
            },
            "type": "contourcarpet"
           }
          ],
          "heatmap": [
           {
            "colorbar": {
             "outlinewidth": 0,
             "ticks": ""
            },
            "colorscale": [
             [
              0,
              "#0d0887"
             ],
             [
              0.1111111111111111,
              "#46039f"
             ],
             [
              0.2222222222222222,
              "#7201a8"
             ],
             [
              0.3333333333333333,
              "#9c179e"
             ],
             [
              0.4444444444444444,
              "#bd3786"
             ],
             [
              0.5555555555555556,
              "#d8576b"
             ],
             [
              0.6666666666666666,
              "#ed7953"
             ],
             [
              0.7777777777777778,
              "#fb9f3a"
             ],
             [
              0.8888888888888888,
              "#fdca26"
             ],
             [
              1,
              "#f0f921"
             ]
            ],
            "type": "heatmap"
           }
          ],
          "heatmapgl": [
           {
            "colorbar": {
             "outlinewidth": 0,
             "ticks": ""
            },
            "colorscale": [
             [
              0,
              "#0d0887"
             ],
             [
              0.1111111111111111,
              "#46039f"
             ],
             [
              0.2222222222222222,
              "#7201a8"
             ],
             [
              0.3333333333333333,
              "#9c179e"
             ],
             [
              0.4444444444444444,
              "#bd3786"
             ],
             [
              0.5555555555555556,
              "#d8576b"
             ],
             [
              0.6666666666666666,
              "#ed7953"
             ],
             [
              0.7777777777777778,
              "#fb9f3a"
             ],
             [
              0.8888888888888888,
              "#fdca26"
             ],
             [
              1,
              "#f0f921"
             ]
            ],
            "type": "heatmapgl"
           }
          ],
          "histogram": [
           {
            "marker": {
             "pattern": {
              "fillmode": "overlay",
              "size": 10,
              "solidity": 0.2
             }
            },
            "type": "histogram"
           }
          ],
          "histogram2d": [
           {
            "colorbar": {
             "outlinewidth": 0,
             "ticks": ""
            },
            "colorscale": [
             [
              0,
              "#0d0887"
             ],
             [
              0.1111111111111111,
              "#46039f"
             ],
             [
              0.2222222222222222,
              "#7201a8"
             ],
             [
              0.3333333333333333,
              "#9c179e"
             ],
             [
              0.4444444444444444,
              "#bd3786"
             ],
             [
              0.5555555555555556,
              "#d8576b"
             ],
             [
              0.6666666666666666,
              "#ed7953"
             ],
             [
              0.7777777777777778,
              "#fb9f3a"
             ],
             [
              0.8888888888888888,
              "#fdca26"
             ],
             [
              1,
              "#f0f921"
             ]
            ],
            "type": "histogram2d"
           }
          ],
          "histogram2dcontour": [
           {
            "colorbar": {
             "outlinewidth": 0,
             "ticks": ""
            },
            "colorscale": [
             [
              0,
              "#0d0887"
             ],
             [
              0.1111111111111111,
              "#46039f"
             ],
             [
              0.2222222222222222,
              "#7201a8"
             ],
             [
              0.3333333333333333,
              "#9c179e"
             ],
             [
              0.4444444444444444,
              "#bd3786"
             ],
             [
              0.5555555555555556,
              "#d8576b"
             ],
             [
              0.6666666666666666,
              "#ed7953"
             ],
             [
              0.7777777777777778,
              "#fb9f3a"
             ],
             [
              0.8888888888888888,
              "#fdca26"
             ],
             [
              1,
              "#f0f921"
             ]
            ],
            "type": "histogram2dcontour"
           }
          ],
          "mesh3d": [
           {
            "colorbar": {
             "outlinewidth": 0,
             "ticks": ""
            },
            "type": "mesh3d"
           }
          ],
          "parcoords": [
           {
            "line": {
             "colorbar": {
              "outlinewidth": 0,
              "ticks": ""
             }
            },
            "type": "parcoords"
           }
          ],
          "pie": [
           {
            "automargin": true,
            "type": "pie"
           }
          ],
          "scatter": [
           {
            "fillpattern": {
             "fillmode": "overlay",
             "size": 10,
             "solidity": 0.2
            },
            "type": "scatter"
           }
          ],
          "scatter3d": [
           {
            "line": {
             "colorbar": {
              "outlinewidth": 0,
              "ticks": ""
             }
            },
            "marker": {
             "colorbar": {
              "outlinewidth": 0,
              "ticks": ""
             }
            },
            "type": "scatter3d"
           }
          ],
          "scattercarpet": [
           {
            "marker": {
             "colorbar": {
              "outlinewidth": 0,
              "ticks": ""
             }
            },
            "type": "scattercarpet"
           }
          ],
          "scattergeo": [
           {
            "marker": {
             "colorbar": {
              "outlinewidth": 0,
              "ticks": ""
             }
            },
            "type": "scattergeo"
           }
          ],
          "scattergl": [
           {
            "marker": {
             "colorbar": {
              "outlinewidth": 0,
              "ticks": ""
             }
            },
            "type": "scattergl"
           }
          ],
          "scattermapbox": [
           {
            "marker": {
             "colorbar": {
              "outlinewidth": 0,
              "ticks": ""
             }
            },
            "type": "scattermapbox"
           }
          ],
          "scatterpolar": [
           {
            "marker": {
             "colorbar": {
              "outlinewidth": 0,
              "ticks": ""
             }
            },
            "type": "scatterpolar"
           }
          ],
          "scatterpolargl": [
           {
            "marker": {
             "colorbar": {
              "outlinewidth": 0,
              "ticks": ""
             }
            },
            "type": "scatterpolargl"
           }
          ],
          "scatterternary": [
           {
            "marker": {
             "colorbar": {
              "outlinewidth": 0,
              "ticks": ""
             }
            },
            "type": "scatterternary"
           }
          ],
          "surface": [
           {
            "colorbar": {
             "outlinewidth": 0,
             "ticks": ""
            },
            "colorscale": [
             [
              0,
              "#0d0887"
             ],
             [
              0.1111111111111111,
              "#46039f"
             ],
             [
              0.2222222222222222,
              "#7201a8"
             ],
             [
              0.3333333333333333,
              "#9c179e"
             ],
             [
              0.4444444444444444,
              "#bd3786"
             ],
             [
              0.5555555555555556,
              "#d8576b"
             ],
             [
              0.6666666666666666,
              "#ed7953"
             ],
             [
              0.7777777777777778,
              "#fb9f3a"
             ],
             [
              0.8888888888888888,
              "#fdca26"
             ],
             [
              1,
              "#f0f921"
             ]
            ],
            "type": "surface"
           }
          ],
          "table": [
           {
            "cells": {
             "fill": {
              "color": "#EBF0F8"
             },
             "line": {
              "color": "white"
             }
            },
            "header": {
             "fill": {
              "color": "#C8D4E3"
             },
             "line": {
              "color": "white"
             }
            },
            "type": "table"
           }
          ]
         },
         "layout": {
          "annotationdefaults": {
           "arrowcolor": "#2a3f5f",
           "arrowhead": 0,
           "arrowwidth": 1
          },
          "autotypenumbers": "strict",
          "coloraxis": {
           "colorbar": {
            "outlinewidth": 0,
            "ticks": ""
           }
          },
          "colorscale": {
           "diverging": [
            [
             0,
             "#8e0152"
            ],
            [
             0.1,
             "#c51b7d"
            ],
            [
             0.2,
             "#de77ae"
            ],
            [
             0.3,
             "#f1b6da"
            ],
            [
             0.4,
             "#fde0ef"
            ],
            [
             0.5,
             "#f7f7f7"
            ],
            [
             0.6,
             "#e6f5d0"
            ],
            [
             0.7,
             "#b8e186"
            ],
            [
             0.8,
             "#7fbc41"
            ],
            [
             0.9,
             "#4d9221"
            ],
            [
             1,
             "#276419"
            ]
           ],
           "sequential": [
            [
             0,
             "#0d0887"
            ],
            [
             0.1111111111111111,
             "#46039f"
            ],
            [
             0.2222222222222222,
             "#7201a8"
            ],
            [
             0.3333333333333333,
             "#9c179e"
            ],
            [
             0.4444444444444444,
             "#bd3786"
            ],
            [
             0.5555555555555556,
             "#d8576b"
            ],
            [
             0.6666666666666666,
             "#ed7953"
            ],
            [
             0.7777777777777778,
             "#fb9f3a"
            ],
            [
             0.8888888888888888,
             "#fdca26"
            ],
            [
             1,
             "#f0f921"
            ]
           ],
           "sequentialminus": [
            [
             0,
             "#0d0887"
            ],
            [
             0.1111111111111111,
             "#46039f"
            ],
            [
             0.2222222222222222,
             "#7201a8"
            ],
            [
             0.3333333333333333,
             "#9c179e"
            ],
            [
             0.4444444444444444,
             "#bd3786"
            ],
            [
             0.5555555555555556,
             "#d8576b"
            ],
            [
             0.6666666666666666,
             "#ed7953"
            ],
            [
             0.7777777777777778,
             "#fb9f3a"
            ],
            [
             0.8888888888888888,
             "#fdca26"
            ],
            [
             1,
             "#f0f921"
            ]
           ]
          },
          "colorway": [
           "#636efa",
           "#EF553B",
           "#00cc96",
           "#ab63fa",
           "#FFA15A",
           "#19d3f3",
           "#FF6692",
           "#B6E880",
           "#FF97FF",
           "#FECB52"
          ],
          "font": {
           "color": "#2a3f5f"
          },
          "geo": {
           "bgcolor": "white",
           "lakecolor": "white",
           "landcolor": "#E5ECF6",
           "showlakes": true,
           "showland": true,
           "subunitcolor": "white"
          },
          "hoverlabel": {
           "align": "left"
          },
          "hovermode": "closest",
          "mapbox": {
           "style": "light"
          },
          "paper_bgcolor": "white",
          "plot_bgcolor": "#E5ECF6",
          "polar": {
           "angularaxis": {
            "gridcolor": "white",
            "linecolor": "white",
            "ticks": ""
           },
           "bgcolor": "#E5ECF6",
           "radialaxis": {
            "gridcolor": "white",
            "linecolor": "white",
            "ticks": ""
           }
          },
          "scene": {
           "xaxis": {
            "backgroundcolor": "#E5ECF6",
            "gridcolor": "white",
            "gridwidth": 2,
            "linecolor": "white",
            "showbackground": true,
            "ticks": "",
            "zerolinecolor": "white"
           },
           "yaxis": {
            "backgroundcolor": "#E5ECF6",
            "gridcolor": "white",
            "gridwidth": 2,
            "linecolor": "white",
            "showbackground": true,
            "ticks": "",
            "zerolinecolor": "white"
           },
           "zaxis": {
            "backgroundcolor": "#E5ECF6",
            "gridcolor": "white",
            "gridwidth": 2,
            "linecolor": "white",
            "showbackground": true,
            "ticks": "",
            "zerolinecolor": "white"
           }
          },
          "shapedefaults": {
           "line": {
            "color": "#2a3f5f"
           }
          },
          "ternary": {
           "aaxis": {
            "gridcolor": "white",
            "linecolor": "white",
            "ticks": ""
           },
           "baxis": {
            "gridcolor": "white",
            "linecolor": "white",
            "ticks": ""
           },
           "bgcolor": "#E5ECF6",
           "caxis": {
            "gridcolor": "white",
            "linecolor": "white",
            "ticks": ""
           }
          },
          "title": {
           "x": 0.05
          },
          "xaxis": {
           "automargin": true,
           "gridcolor": "white",
           "linecolor": "white",
           "ticks": "",
           "title": {
            "standoff": 15
           },
           "zerolinecolor": "white",
           "zerolinewidth": 2
          },
          "yaxis": {
           "automargin": true,
           "gridcolor": "white",
           "linecolor": "white",
           "ticks": "",
           "title": {
            "standoff": 15
           },
           "zerolinecolor": "white",
           "zerolinewidth": 2
          }
         }
        },
        "title": {
         "font": {
          "size": 24
         },
         "text": "ROC Curve for Random_Forest of approach_3",
         "x": 0.5,
         "xanchor": "center",
         "yanchor": "top"
        },
        "width": 1100,
        "xaxis": {
         "title": {
          "font": {
           "size": 20
          },
          "text": "False Positive Rate"
         }
        },
        "yaxis": {
         "title": {
          "font": {
           "size": 20
          },
          "text": "True Positive Rate"
         }
        }
       }
      }
     },
     "metadata": {},
     "output_type": "display_data"
    }
   ],
   "source": [
    "### 1. Define hyperparameter distributions for each model\n",
    "rf_params = {\n",
    "    \"n_estimators\": randint(10, 150),\n",
    "    \"max_depth\": [3, 5, 10, 15],\n",
    "    \"min_samples_split\": randint(10, 30),\n",
    "    \"min_samples_leaf\": randint(10, 30),\n",
    "}\n",
    "\n",
    "### 2. Train Random Forest\n",
    "rf = RandomForestClassifier(random_state=42)\n",
    "rf_best, rf_auc, rf_acc, rf_f1, report = model_training.tune_and_evaluate_model(\n",
    "    rf,\n",
    "    rf_params,\n",
    "    X_train,\n",
    "    y_train,\n",
    "    X_test,\n",
    "    y_test,\n",
    "    model_name=\"Random_Forest\",\n",
    "    log_dir=\"models/logs/approach_3\",\n",
    "    model_dir=\"models/saved_models/approach_3\",\n",
    "    approach=\"approach_3\",\n",
    ")"
   ]
  },
  {
   "cell_type": "code",
   "execution_count": 46,
   "metadata": {},
   "outputs": [
    {
     "name": "stdout",
     "output_type": "stream",
     "text": [
      "shape: (3, 2)\n",
      "┌─────────────┬───────────────────────┐\n",
      "│ metrics     ┆ approach_3_rf_metrics │\n",
      "│ ---         ┆ ---                   │\n",
      "│ str         ┆ f64                   │\n",
      "╞═════════════╪═══════════════════════╡\n",
      "│ accuracy, % ┆ 75.0                  │\n",
      "│ f1_score    ┆ 0.856                 │\n",
      "│ auc         ┆ 0.6                   │\n",
      "└─────────────┴───────────────────────┘\n"
     ]
    }
   ],
   "source": [
    "### 1. create dataframe from metrics add to metrics dictionary\n",
    "approach_3_rf_metrics = pl.DataFrame(\n",
    "    {\n",
    "        \"metrics\": [\"accuracy, %\", \"f1_score\", \"auc\"],\n",
    "        \"approach_3_rf_metrics\": [\n",
    "            np.round(rf_acc * 100),\n",
    "            np.round(rf_f1, 3),\n",
    "            np.round(rf_auc, 3),\n",
    "        ],\n",
    "    }\n",
    ")\n",
    "METRICS_DICT[\"approach_3_rf_metrics\"] = approach_3_rf_metrics\n",
    "print(approach_3_rf_metrics)"
   ]
  },
  {
   "cell_type": "code",
   "execution_count": 47,
   "metadata": {},
   "outputs": [
    {
     "name": "stdout",
     "output_type": "stream",
     "text": [
      "shape: (2, 5)\n",
      "┌──────────┬───────────┬────────┬──────────┬───────┐\n",
      "│ category ┆ precision ┆ recall ┆ f1-score ┆ count │\n",
      "│ ---      ┆ ---       ┆ ---    ┆ ---      ┆ ---   │\n",
      "│ str      ┆ f64       ┆ f64    ┆ f64      ┆ i64   │\n",
      "╞══════════╪═══════════╪════════╪══════════╪═══════╡\n",
      "│ 0        ┆ 0.67      ┆ 0.05   ┆ 0.1      ┆ 78    │\n",
      "│ 1        ┆ 0.75      ┆ 0.99   ┆ 0.86     ┆ 227   │\n",
      "└──────────┴───────────┴────────┴──────────┴───────┘\n"
     ]
    }
   ],
   "source": [
    "### 1. convert report to polars dataframe\n",
    "approach_3_rf_report = model_training.classification_report_to_polars(report)\n",
    "\n",
    "### 2. save report\n",
    "approach_3_rf_report.write_excel(\"reports/approach_3/approach_3_rf_report.xlsx\")\n",
    "print(approach_3_rf_report)"
   ]
  },
  {
   "cell_type": "markdown",
   "metadata": {},
   "source": [
    "### <a id='toc1_3_3_'></a>[3.3 XGboost](#toc0_)"
   ]
  },
  {
   "cell_type": "code",
   "execution_count": 48,
   "metadata": {},
   "outputs": [
    {
     "name": "stdout",
     "output_type": "stream",
     "text": [
      "Fitting 5 folds for each of 50 candidates, totalling 250 fits\n",
      "XGBoost Best Hyperparameters: {'colsample_bytree': 0.7652669390630025, 'learning_rate': 0.01469092202235818, 'max_depth': 3, 'n_estimators': 137, 'subsample': 0.7579526072702278}\n",
      "XGBoost Test Metrics:\n",
      "AUC: 0.6487\n",
      "Accuracy: 0.6918\n",
      "F1-Score: 0.7902\n"
     ]
    },
    {
     "data": {
      "application/vnd.plotly.v1+json": {
       "config": {
        "plotlyServerURL": "https://plot.ly"
       },
       "data": [
        {
         "line": {
          "color": "blue"
         },
         "mode": "lines",
         "name": "XGBoost (AUC = 0.6487)",
         "type": "scatter",
         "x": [
          0,
          0,
          0,
          0.01282051282051282,
          0.01282051282051282,
          0.02564102564102564,
          0.02564102564102564,
          0.038461538461538464,
          0.038461538461538464,
          0.05128205128205128,
          0.05128205128205128,
          0.0641025641025641,
          0.0641025641025641,
          0.07692307692307693,
          0.07692307692307693,
          0.08974358974358974,
          0.08974358974358974,
          0.11538461538461539,
          0.11538461538461539,
          0.1282051282051282,
          0.1282051282051282,
          0.14102564102564102,
          0.14102564102564102,
          0.16666666666666666,
          0.16666666666666666,
          0.1794871794871795,
          0.1794871794871795,
          0.20512820512820512,
          0.20512820512820512,
          0.23076923076923078,
          0.23076923076923078,
          0.24358974358974358,
          0.24358974358974358,
          0.2564102564102564,
          0.2564102564102564,
          0.2692307692307692,
          0.2692307692307692,
          0.28205128205128205,
          0.28205128205128205,
          0.2948717948717949,
          0.2948717948717949,
          0.3076923076923077,
          0.3076923076923077,
          0.32051282051282054,
          0.32051282051282054,
          0.34615384615384615,
          0.34615384615384615,
          0.358974358974359,
          0.358974358974359,
          0.3717948717948718,
          0.3717948717948718,
          0.38461538461538464,
          0.38461538461538464,
          0.41025641025641024,
          0.41025641025641024,
          0.4230769230769231,
          0.4230769230769231,
          0.4358974358974359,
          0.4358974358974359,
          0.44871794871794873,
          0.44871794871794873,
          0.46153846153846156,
          0.46153846153846156,
          0.47435897435897434,
          0.47435897435897434,
          0.5,
          0.5,
          0.5128205128205128,
          0.5128205128205128,
          0.5384615384615384,
          0.5384615384615384,
          0.5512820512820513,
          0.5512820512820513,
          0.5641025641025641,
          0.5641025641025641,
          0.5769230769230769,
          0.5769230769230769,
          0.5897435897435898,
          0.5897435897435898,
          0.6025641025641025,
          0.6025641025641025,
          0.6282051282051282,
          0.6282051282051282,
          0.6794871794871795,
          0.6794871794871795,
          0.7051282051282052,
          0.7051282051282052,
          0.7307692307692307,
          0.7307692307692307,
          0.7564102564102564,
          0.7564102564102564,
          0.7692307692307693,
          0.7692307692307693,
          0.782051282051282,
          0.782051282051282,
          0.7948717948717948,
          0.7948717948717948,
          0.8076923076923077,
          0.8076923076923077,
          0.8205128205128205,
          0.8205128205128205,
          0.8333333333333334,
          0.8333333333333334,
          0.8461538461538461,
          0.8461538461538461,
          0.8846153846153846,
          0.8846153846153846,
          0.8974358974358975,
          0.8974358974358975,
          0.9102564102564102,
          0.9102564102564102,
          0.9358974358974359,
          0.9358974358974359,
          1
         ],
         "y": [
          0,
          0.004405286343612335,
          0.039647577092511016,
          0.039647577092511016,
          0.06167400881057269,
          0.06167400881057269,
          0.07048458149779736,
          0.07048458149779736,
          0.07488986784140969,
          0.07488986784140969,
          0.13215859030837004,
          0.13215859030837004,
          0.15859030837004406,
          0.15859030837004406,
          0.1762114537444934,
          0.1762114537444934,
          0.22466960352422907,
          0.22466960352422907,
          0.23348017621145375,
          0.23348017621145375,
          0.28193832599118945,
          0.28193832599118945,
          0.31277533039647576,
          0.31277533039647576,
          0.31718061674008813,
          0.31718061674008813,
          0.32599118942731276,
          0.32599118942731276,
          0.34801762114537443,
          0.34801762114537443,
          0.36123348017621143,
          0.36123348017621143,
          0.3920704845814978,
          0.3920704845814978,
          0.43171806167400884,
          0.43171806167400884,
          0.46255506607929514,
          0.46255506607929514,
          0.4669603524229075,
          0.4669603524229075,
          0.4801762114537445,
          0.4801762114537445,
          0.5286343612334802,
          0.5286343612334802,
          0.5550660792951542,
          0.5550660792951542,
          0.5594713656387665,
          0.5594713656387665,
          0.6123348017621145,
          0.6123348017621145,
          0.6167400881057269,
          0.6167400881057269,
          0.6519823788546255,
          0.6519823788546255,
          0.6651982378854625,
          0.6651982378854625,
          0.6696035242290749,
          0.6696035242290749,
          0.6740088105726872,
          0.6740088105726872,
          0.6916299559471366,
          0.6916299559471366,
          0.7048458149779736,
          0.7048458149779736,
          0.7092511013215859,
          0.7092511013215859,
          0.7136563876651982,
          0.7136563876651982,
          0.7444933920704846,
          0.7444933920704846,
          0.7577092511013216,
          0.7577092511013216,
          0.775330396475771,
          0.775330396475771,
          0.7797356828193832,
          0.7797356828193832,
          0.788546255506608,
          0.788546255506608,
          0.8193832599118943,
          0.8193832599118943,
          0.8370044052863436,
          0.8370044052863436,
          0.8458149779735683,
          0.8458149779735683,
          0.8546255506607929,
          0.8546255506607929,
          0.8590308370044053,
          0.8590308370044053,
          0.8678414096916299,
          0.8678414096916299,
          0.8766519823788547,
          0.8766519823788547,
          0.8854625550660793,
          0.8854625550660793,
          0.9118942731277533,
          0.9118942731277533,
          0.9162995594713657,
          0.9162995594713657,
          0.920704845814978,
          0.920704845814978,
          0.933920704845815,
          0.933920704845815,
          0.9383259911894273,
          0.9383259911894273,
          0.9427312775330396,
          0.9427312775330396,
          0.947136563876652,
          0.947136563876652,
          0.9823788546255506,
          0.9823788546255506,
          0.9955947136563876,
          0.9955947136563876,
          1,
          1
         ]
        },
        {
         "line": {
          "color": "red",
          "dash": "dash"
         },
         "mode": "lines",
         "name": "Random",
         "type": "scatter",
         "x": [
          0,
          1
         ],
         "y": [
          0,
          1
         ]
        }
       ],
       "layout": {
        "height": 700,
        "legend": {
         "font": {
          "size": 16
         }
        },
        "showlegend": true,
        "template": {
         "data": {
          "bar": [
           {
            "error_x": {
             "color": "#2a3f5f"
            },
            "error_y": {
             "color": "#2a3f5f"
            },
            "marker": {
             "line": {
              "color": "#E5ECF6",
              "width": 0.5
             },
             "pattern": {
              "fillmode": "overlay",
              "size": 10,
              "solidity": 0.2
             }
            },
            "type": "bar"
           }
          ],
          "barpolar": [
           {
            "marker": {
             "line": {
              "color": "#E5ECF6",
              "width": 0.5
             },
             "pattern": {
              "fillmode": "overlay",
              "size": 10,
              "solidity": 0.2
             }
            },
            "type": "barpolar"
           }
          ],
          "carpet": [
           {
            "aaxis": {
             "endlinecolor": "#2a3f5f",
             "gridcolor": "white",
             "linecolor": "white",
             "minorgridcolor": "white",
             "startlinecolor": "#2a3f5f"
            },
            "baxis": {
             "endlinecolor": "#2a3f5f",
             "gridcolor": "white",
             "linecolor": "white",
             "minorgridcolor": "white",
             "startlinecolor": "#2a3f5f"
            },
            "type": "carpet"
           }
          ],
          "choropleth": [
           {
            "colorbar": {
             "outlinewidth": 0,
             "ticks": ""
            },
            "type": "choropleth"
           }
          ],
          "contour": [
           {
            "colorbar": {
             "outlinewidth": 0,
             "ticks": ""
            },
            "colorscale": [
             [
              0,
              "#0d0887"
             ],
             [
              0.1111111111111111,
              "#46039f"
             ],
             [
              0.2222222222222222,
              "#7201a8"
             ],
             [
              0.3333333333333333,
              "#9c179e"
             ],
             [
              0.4444444444444444,
              "#bd3786"
             ],
             [
              0.5555555555555556,
              "#d8576b"
             ],
             [
              0.6666666666666666,
              "#ed7953"
             ],
             [
              0.7777777777777778,
              "#fb9f3a"
             ],
             [
              0.8888888888888888,
              "#fdca26"
             ],
             [
              1,
              "#f0f921"
             ]
            ],
            "type": "contour"
           }
          ],
          "contourcarpet": [
           {
            "colorbar": {
             "outlinewidth": 0,
             "ticks": ""
            },
            "type": "contourcarpet"
           }
          ],
          "heatmap": [
           {
            "colorbar": {
             "outlinewidth": 0,
             "ticks": ""
            },
            "colorscale": [
             [
              0,
              "#0d0887"
             ],
             [
              0.1111111111111111,
              "#46039f"
             ],
             [
              0.2222222222222222,
              "#7201a8"
             ],
             [
              0.3333333333333333,
              "#9c179e"
             ],
             [
              0.4444444444444444,
              "#bd3786"
             ],
             [
              0.5555555555555556,
              "#d8576b"
             ],
             [
              0.6666666666666666,
              "#ed7953"
             ],
             [
              0.7777777777777778,
              "#fb9f3a"
             ],
             [
              0.8888888888888888,
              "#fdca26"
             ],
             [
              1,
              "#f0f921"
             ]
            ],
            "type": "heatmap"
           }
          ],
          "heatmapgl": [
           {
            "colorbar": {
             "outlinewidth": 0,
             "ticks": ""
            },
            "colorscale": [
             [
              0,
              "#0d0887"
             ],
             [
              0.1111111111111111,
              "#46039f"
             ],
             [
              0.2222222222222222,
              "#7201a8"
             ],
             [
              0.3333333333333333,
              "#9c179e"
             ],
             [
              0.4444444444444444,
              "#bd3786"
             ],
             [
              0.5555555555555556,
              "#d8576b"
             ],
             [
              0.6666666666666666,
              "#ed7953"
             ],
             [
              0.7777777777777778,
              "#fb9f3a"
             ],
             [
              0.8888888888888888,
              "#fdca26"
             ],
             [
              1,
              "#f0f921"
             ]
            ],
            "type": "heatmapgl"
           }
          ],
          "histogram": [
           {
            "marker": {
             "pattern": {
              "fillmode": "overlay",
              "size": 10,
              "solidity": 0.2
             }
            },
            "type": "histogram"
           }
          ],
          "histogram2d": [
           {
            "colorbar": {
             "outlinewidth": 0,
             "ticks": ""
            },
            "colorscale": [
             [
              0,
              "#0d0887"
             ],
             [
              0.1111111111111111,
              "#46039f"
             ],
             [
              0.2222222222222222,
              "#7201a8"
             ],
             [
              0.3333333333333333,
              "#9c179e"
             ],
             [
              0.4444444444444444,
              "#bd3786"
             ],
             [
              0.5555555555555556,
              "#d8576b"
             ],
             [
              0.6666666666666666,
              "#ed7953"
             ],
             [
              0.7777777777777778,
              "#fb9f3a"
             ],
             [
              0.8888888888888888,
              "#fdca26"
             ],
             [
              1,
              "#f0f921"
             ]
            ],
            "type": "histogram2d"
           }
          ],
          "histogram2dcontour": [
           {
            "colorbar": {
             "outlinewidth": 0,
             "ticks": ""
            },
            "colorscale": [
             [
              0,
              "#0d0887"
             ],
             [
              0.1111111111111111,
              "#46039f"
             ],
             [
              0.2222222222222222,
              "#7201a8"
             ],
             [
              0.3333333333333333,
              "#9c179e"
             ],
             [
              0.4444444444444444,
              "#bd3786"
             ],
             [
              0.5555555555555556,
              "#d8576b"
             ],
             [
              0.6666666666666666,
              "#ed7953"
             ],
             [
              0.7777777777777778,
              "#fb9f3a"
             ],
             [
              0.8888888888888888,
              "#fdca26"
             ],
             [
              1,
              "#f0f921"
             ]
            ],
            "type": "histogram2dcontour"
           }
          ],
          "mesh3d": [
           {
            "colorbar": {
             "outlinewidth": 0,
             "ticks": ""
            },
            "type": "mesh3d"
           }
          ],
          "parcoords": [
           {
            "line": {
             "colorbar": {
              "outlinewidth": 0,
              "ticks": ""
             }
            },
            "type": "parcoords"
           }
          ],
          "pie": [
           {
            "automargin": true,
            "type": "pie"
           }
          ],
          "scatter": [
           {
            "fillpattern": {
             "fillmode": "overlay",
             "size": 10,
             "solidity": 0.2
            },
            "type": "scatter"
           }
          ],
          "scatter3d": [
           {
            "line": {
             "colorbar": {
              "outlinewidth": 0,
              "ticks": ""
             }
            },
            "marker": {
             "colorbar": {
              "outlinewidth": 0,
              "ticks": ""
             }
            },
            "type": "scatter3d"
           }
          ],
          "scattercarpet": [
           {
            "marker": {
             "colorbar": {
              "outlinewidth": 0,
              "ticks": ""
             }
            },
            "type": "scattercarpet"
           }
          ],
          "scattergeo": [
           {
            "marker": {
             "colorbar": {
              "outlinewidth": 0,
              "ticks": ""
             }
            },
            "type": "scattergeo"
           }
          ],
          "scattergl": [
           {
            "marker": {
             "colorbar": {
              "outlinewidth": 0,
              "ticks": ""
             }
            },
            "type": "scattergl"
           }
          ],
          "scattermapbox": [
           {
            "marker": {
             "colorbar": {
              "outlinewidth": 0,
              "ticks": ""
             }
            },
            "type": "scattermapbox"
           }
          ],
          "scatterpolar": [
           {
            "marker": {
             "colorbar": {
              "outlinewidth": 0,
              "ticks": ""
             }
            },
            "type": "scatterpolar"
           }
          ],
          "scatterpolargl": [
           {
            "marker": {
             "colorbar": {
              "outlinewidth": 0,
              "ticks": ""
             }
            },
            "type": "scatterpolargl"
           }
          ],
          "scatterternary": [
           {
            "marker": {
             "colorbar": {
              "outlinewidth": 0,
              "ticks": ""
             }
            },
            "type": "scatterternary"
           }
          ],
          "surface": [
           {
            "colorbar": {
             "outlinewidth": 0,
             "ticks": ""
            },
            "colorscale": [
             [
              0,
              "#0d0887"
             ],
             [
              0.1111111111111111,
              "#46039f"
             ],
             [
              0.2222222222222222,
              "#7201a8"
             ],
             [
              0.3333333333333333,
              "#9c179e"
             ],
             [
              0.4444444444444444,
              "#bd3786"
             ],
             [
              0.5555555555555556,
              "#d8576b"
             ],
             [
              0.6666666666666666,
              "#ed7953"
             ],
             [
              0.7777777777777778,
              "#fb9f3a"
             ],
             [
              0.8888888888888888,
              "#fdca26"
             ],
             [
              1,
              "#f0f921"
             ]
            ],
            "type": "surface"
           }
          ],
          "table": [
           {
            "cells": {
             "fill": {
              "color": "#EBF0F8"
             },
             "line": {
              "color": "white"
             }
            },
            "header": {
             "fill": {
              "color": "#C8D4E3"
             },
             "line": {
              "color": "white"
             }
            },
            "type": "table"
           }
          ]
         },
         "layout": {
          "annotationdefaults": {
           "arrowcolor": "#2a3f5f",
           "arrowhead": 0,
           "arrowwidth": 1
          },
          "autotypenumbers": "strict",
          "coloraxis": {
           "colorbar": {
            "outlinewidth": 0,
            "ticks": ""
           }
          },
          "colorscale": {
           "diverging": [
            [
             0,
             "#8e0152"
            ],
            [
             0.1,
             "#c51b7d"
            ],
            [
             0.2,
             "#de77ae"
            ],
            [
             0.3,
             "#f1b6da"
            ],
            [
             0.4,
             "#fde0ef"
            ],
            [
             0.5,
             "#f7f7f7"
            ],
            [
             0.6,
             "#e6f5d0"
            ],
            [
             0.7,
             "#b8e186"
            ],
            [
             0.8,
             "#7fbc41"
            ],
            [
             0.9,
             "#4d9221"
            ],
            [
             1,
             "#276419"
            ]
           ],
           "sequential": [
            [
             0,
             "#0d0887"
            ],
            [
             0.1111111111111111,
             "#46039f"
            ],
            [
             0.2222222222222222,
             "#7201a8"
            ],
            [
             0.3333333333333333,
             "#9c179e"
            ],
            [
             0.4444444444444444,
             "#bd3786"
            ],
            [
             0.5555555555555556,
             "#d8576b"
            ],
            [
             0.6666666666666666,
             "#ed7953"
            ],
            [
             0.7777777777777778,
             "#fb9f3a"
            ],
            [
             0.8888888888888888,
             "#fdca26"
            ],
            [
             1,
             "#f0f921"
            ]
           ],
           "sequentialminus": [
            [
             0,
             "#0d0887"
            ],
            [
             0.1111111111111111,
             "#46039f"
            ],
            [
             0.2222222222222222,
             "#7201a8"
            ],
            [
             0.3333333333333333,
             "#9c179e"
            ],
            [
             0.4444444444444444,
             "#bd3786"
            ],
            [
             0.5555555555555556,
             "#d8576b"
            ],
            [
             0.6666666666666666,
             "#ed7953"
            ],
            [
             0.7777777777777778,
             "#fb9f3a"
            ],
            [
             0.8888888888888888,
             "#fdca26"
            ],
            [
             1,
             "#f0f921"
            ]
           ]
          },
          "colorway": [
           "#636efa",
           "#EF553B",
           "#00cc96",
           "#ab63fa",
           "#FFA15A",
           "#19d3f3",
           "#FF6692",
           "#B6E880",
           "#FF97FF",
           "#FECB52"
          ],
          "font": {
           "color": "#2a3f5f"
          },
          "geo": {
           "bgcolor": "white",
           "lakecolor": "white",
           "landcolor": "#E5ECF6",
           "showlakes": true,
           "showland": true,
           "subunitcolor": "white"
          },
          "hoverlabel": {
           "align": "left"
          },
          "hovermode": "closest",
          "mapbox": {
           "style": "light"
          },
          "paper_bgcolor": "white",
          "plot_bgcolor": "#E5ECF6",
          "polar": {
           "angularaxis": {
            "gridcolor": "white",
            "linecolor": "white",
            "ticks": ""
           },
           "bgcolor": "#E5ECF6",
           "radialaxis": {
            "gridcolor": "white",
            "linecolor": "white",
            "ticks": ""
           }
          },
          "scene": {
           "xaxis": {
            "backgroundcolor": "#E5ECF6",
            "gridcolor": "white",
            "gridwidth": 2,
            "linecolor": "white",
            "showbackground": true,
            "ticks": "",
            "zerolinecolor": "white"
           },
           "yaxis": {
            "backgroundcolor": "#E5ECF6",
            "gridcolor": "white",
            "gridwidth": 2,
            "linecolor": "white",
            "showbackground": true,
            "ticks": "",
            "zerolinecolor": "white"
           },
           "zaxis": {
            "backgroundcolor": "#E5ECF6",
            "gridcolor": "white",
            "gridwidth": 2,
            "linecolor": "white",
            "showbackground": true,
            "ticks": "",
            "zerolinecolor": "white"
           }
          },
          "shapedefaults": {
           "line": {
            "color": "#2a3f5f"
           }
          },
          "ternary": {
           "aaxis": {
            "gridcolor": "white",
            "linecolor": "white",
            "ticks": ""
           },
           "baxis": {
            "gridcolor": "white",
            "linecolor": "white",
            "ticks": ""
           },
           "bgcolor": "#E5ECF6",
           "caxis": {
            "gridcolor": "white",
            "linecolor": "white",
            "ticks": ""
           }
          },
          "title": {
           "x": 0.05
          },
          "xaxis": {
           "automargin": true,
           "gridcolor": "white",
           "linecolor": "white",
           "ticks": "",
           "title": {
            "standoff": 15
           },
           "zerolinecolor": "white",
           "zerolinewidth": 2
          },
          "yaxis": {
           "automargin": true,
           "gridcolor": "white",
           "linecolor": "white",
           "ticks": "",
           "title": {
            "standoff": 15
           },
           "zerolinecolor": "white",
           "zerolinewidth": 2
          }
         }
        },
        "title": {
         "font": {
          "size": 24
         },
         "text": "ROC Curve for XGBoost of approach_3",
         "x": 0.5,
         "xanchor": "center",
         "yanchor": "top"
        },
        "width": 1100,
        "xaxis": {
         "title": {
          "font": {
           "size": 20
          },
          "text": "False Positive Rate"
         }
        },
        "yaxis": {
         "title": {
          "font": {
           "size": 20
          },
          "text": "True Positive Rate"
         }
        }
       }
      }
     },
     "metadata": {},
     "output_type": "display_data"
    }
   ],
   "source": [
    "### 1. Define hyperparameter distributions for each model\n",
    "xgb_params = {\n",
    "    \"n_estimators\": randint(50, 150),\n",
    "    \"max_depth\": randint(3, 10),\n",
    "    \"learning_rate\": uniform(0.01, 0.3),\n",
    "    \"subsample\": uniform(0.6, 0.4),\n",
    "    \"colsample_bytree\": uniform(0.6, 1.0),\n",
    "}\n",
    "# Compute class distribution\n",
    "counter = Counter(y_train)\n",
    "scale_pos_weight = counter[0] / counter[1]  # Majority / Minority class ratio\n",
    "\n",
    "### 2.Train XGBoost\n",
    "xgb = XGBClassifier(\n",
    "    use_label_encoder=False,\n",
    "    eval_metric=\"aucpr\",\n",
    "    random_state=42,\n",
    "    scale_pos_weight=scale_pos_weight,\n",
    ")  # Balance classes)\n",
    "xgb_best, xgb_auc, xgb_acc, xgb_f1, report = model_training.tune_and_evaluate_model(\n",
    "    xgb,\n",
    "    xgb_params,\n",
    "    X_train,\n",
    "    y_train,\n",
    "    X_test,\n",
    "    y_test,\n",
    "    model_name=\"XGBoost\",\n",
    "    log_dir=\"models/logs/approach_3\",\n",
    "    model_dir=\"models/saved_models/approach_3\",\n",
    "    approach=\"approach_3\",\n",
    ")"
   ]
  },
  {
   "cell_type": "code",
   "execution_count": 49,
   "metadata": {},
   "outputs": [
    {
     "name": "stdout",
     "output_type": "stream",
     "text": [
      "shape: (3, 2)\n",
      "┌─────────────┬────────────────────────────┐\n",
      "│ metrics     ┆ approach_3_xgboost_metrics │\n",
      "│ ---         ┆ ---                        │\n",
      "│ str         ┆ f64                        │\n",
      "╞═════════════╪════════════════════════════╡\n",
      "│ accuracy, % ┆ 69.0                       │\n",
      "│ f1_score    ┆ 0.79                       │\n",
      "│ auc         ┆ 0.649                      │\n",
      "└─────────────┴────────────────────────────┘\n"
     ]
    }
   ],
   "source": [
    "### 1. create dataframe from metrics add to metrics dictionary\n",
    "approach_3_xgboost_metrics = pl.DataFrame(\n",
    "    {\n",
    "        \"metrics\": [\"accuracy, %\", \"f1_score\", \"auc\"],\n",
    "        \"approach_3_xgboost_metrics\": [\n",
    "            np.round(xgb_acc * 100),\n",
    "            np.round(xgb_f1, 3),\n",
    "            np.round(xgb_auc, 3),\n",
    "        ],\n",
    "    }\n",
    ")\n",
    "METRICS_DICT[\"approach_3_xgboost_metrics\"] = approach_3_xgboost_metrics\n",
    "print(approach_3_xgboost_metrics)"
   ]
  },
  {
   "cell_type": "code",
   "execution_count": 50,
   "metadata": {},
   "outputs": [
    {
     "name": "stdout",
     "output_type": "stream",
     "text": [
      "shape: (2, 5)\n",
      "┌──────────┬───────────┬────────┬──────────┬───────┐\n",
      "│ category ┆ precision ┆ recall ┆ f1-score ┆ count │\n",
      "│ ---      ┆ ---       ┆ ---    ┆ ---      ┆ ---   │\n",
      "│ str      ┆ f64       ┆ f64    ┆ f64      ┆ i64   │\n",
      "╞══════════╪═══════════╪════════╪══════════╪═══════╡\n",
      "│ 0        ┆ 0.4       ┆ 0.44   ┆ 0.42     ┆ 78    │\n",
      "│ 1        ┆ 0.8       ┆ 0.78   ┆ 0.79     ┆ 227   │\n",
      "└──────────┴───────────┴────────┴──────────┴───────┘\n"
     ]
    }
   ],
   "source": [
    "### 1. convert report to polars dataframe\n",
    "approach_3_xgboost_report = model_training.classification_report_to_polars(report)\n",
    "\n",
    "### 2. save report\n",
    "approach_3_xgboost_report.write_excel(\n",
    "    \"reports/approach_3/approach_3_xgboost_report.xlsx\"\n",
    ")\n",
    "print(approach_3_xgboost_report)"
   ]
  },
  {
   "cell_type": "markdown",
   "metadata": {},
   "source": [
    "## <a id='toc1_4_'></a>[4. Approach 4: Non-Linear Dimensionality Reduction & Scaling](#toc0_)"
   ]
  },
  {
   "cell_type": "code",
   "execution_count": 51,
   "metadata": {},
   "outputs": [],
   "source": [
    "### 1. download train and test sets\n",
    "train_set = pl.read_excel(\n",
    "    \"dataset/processed/approach_4/train_processed_approach_4.xlsx\"\n",
    ")\n",
    "test_set = pl.read_excel(\"dataset/processed/approach_4/test_processed_approach_4.xlsx\")\n",
    "\n",
    "### 2. Drop \"Patient ID\" and handle \"ER\" as the target and Separate features and target\n",
    "X_train = train_set.drop(\"Patient ID\", \"ER\").to_numpy()\n",
    "y_train = train_set[\"ER\"].to_numpy()\n",
    "X_test = test_set.drop(\"Patient ID\", \"ER\").to_numpy()\n",
    "y_test = test_set[\"ER\"].to_numpy()"
   ]
  },
  {
   "cell_type": "markdown",
   "metadata": {},
   "source": [
    "### <a id='toc1_4_1_'></a>[4.1 Logistics regression](#toc0_)"
   ]
  },
  {
   "cell_type": "code",
   "execution_count": 52,
   "metadata": {},
   "outputs": [
    {
     "name": "stdout",
     "output_type": "stream",
     "text": [
      "Fitting 5 folds for each of 50 candidates, totalling 250 fits\n",
      "Logistic_Regression_with_ridge_penalty Best Hyperparameters: {'C': 9.666320330745593, 'penalty': 'l2', 'solver': 'sag'}\n",
      "Logistic_Regression_with_ridge_penalty Test Metrics:\n",
      "AUC: 0.5533\n",
      "Accuracy: 0.4754\n",
      "F1-Score: 0.5349\n"
     ]
    },
    {
     "data": {
      "application/vnd.plotly.v1+json": {
       "config": {
        "plotlyServerURL": "https://plot.ly"
       },
       "data": [
        {
         "line": {
          "color": "blue"
         },
         "mode": "lines",
         "name": "Logistic_Regression_with_ridge_penalty (AUC = 0.5533)",
         "type": "scatter",
         "x": [
          0,
          0.01282051282051282,
          0.01282051282051282,
          0.02564102564102564,
          0.02564102564102564,
          0.038461538461538464,
          0.038461538461538464,
          0.05128205128205128,
          0.05128205128205128,
          0.0641025641025641,
          0.0641025641025641,
          0.07692307692307693,
          0.07692307692307693,
          0.08974358974358974,
          0.08974358974358974,
          0.10256410256410256,
          0.10256410256410256,
          0.1282051282051282,
          0.1282051282051282,
          0.15384615384615385,
          0.15384615384615385,
          0.16666666666666666,
          0.16666666666666666,
          0.1794871794871795,
          0.1794871794871795,
          0.20512820512820512,
          0.20512820512820512,
          0.23076923076923078,
          0.23076923076923078,
          0.24358974358974358,
          0.24358974358974358,
          0.2564102564102564,
          0.2564102564102564,
          0.2692307692307692,
          0.2692307692307692,
          0.28205128205128205,
          0.28205128205128205,
          0.3076923076923077,
          0.3076923076923077,
          0.32051282051282054,
          0.32051282051282054,
          0.358974358974359,
          0.358974358974359,
          0.3717948717948718,
          0.3717948717948718,
          0.38461538461538464,
          0.38461538461538464,
          0.3974358974358974,
          0.3974358974358974,
          0.41025641025641024,
          0.41025641025641024,
          0.4230769230769231,
          0.4230769230769231,
          0.4358974358974359,
          0.4358974358974359,
          0.44871794871794873,
          0.44871794871794873,
          0.46153846153846156,
          0.46153846153846156,
          0.47435897435897434,
          0.47435897435897434,
          0.5,
          0.5,
          0.5128205128205128,
          0.5128205128205128,
          0.5256410256410257,
          0.5256410256410257,
          0.5384615384615384,
          0.5384615384615384,
          0.5641025641025641,
          0.5641025641025641,
          0.5769230769230769,
          0.5769230769230769,
          0.5897435897435898,
          0.5897435897435898,
          0.6282051282051282,
          0.6282051282051282,
          0.6410256410256411,
          0.6410256410256411,
          0.6538461538461539,
          0.6538461538461539,
          0.6794871794871795,
          0.6794871794871795,
          0.6923076923076923,
          0.6923076923076923,
          0.7051282051282052,
          0.7051282051282052,
          0.717948717948718,
          0.717948717948718,
          0.7307692307692307,
          0.7307692307692307,
          0.782051282051282,
          0.782051282051282,
          0.7948717948717948,
          0.7948717948717948,
          0.8076923076923077,
          0.8076923076923077,
          0.8205128205128205,
          0.8205128205128205,
          0.8333333333333334,
          0.8333333333333334,
          0.8461538461538461,
          0.8461538461538461,
          0.8589743589743589,
          0.8589743589743589,
          0.9102564102564102,
          0.9102564102564102,
          0.9230769230769231,
          0.9230769230769231,
          0.9358974358974359,
          0.9358974358974359,
          0.9615384615384616,
          0.9615384615384616,
          0.9871794871794872,
          0.9871794871794872,
          1,
          1
         ],
         "y": [
          0,
          0,
          0.030837004405286344,
          0.030837004405286344,
          0.04405286343612335,
          0.04405286343612335,
          0.048458149779735685,
          0.048458149779735685,
          0.05726872246696035,
          0.05726872246696035,
          0.09691629955947137,
          0.09691629955947137,
          0.1013215859030837,
          0.1013215859030837,
          0.11013215859030837,
          0.11013215859030837,
          0.11894273127753303,
          0.11894273127753303,
          0.1277533039647577,
          0.1277533039647577,
          0.14977973568281938,
          0.14977973568281938,
          0.23788546255506607,
          0.23788546255506607,
          0.2511013215859031,
          0.2511013215859031,
          0.27312775330396477,
          0.27312775330396477,
          0.28634361233480177,
          0.28634361233480177,
          0.2907488986784141,
          0.2907488986784141,
          0.29955947136563876,
          0.29955947136563876,
          0.31718061674008813,
          0.31718061674008813,
          0.3392070484581498,
          0.3392070484581498,
          0.36123348017621143,
          0.36123348017621143,
          0.43171806167400884,
          0.43171806167400884,
          0.43612334801762115,
          0.43612334801762115,
          0.44493392070484583,
          0.44493392070484583,
          0.4581497797356828,
          0.4581497797356828,
          0.4713656387665198,
          0.4713656387665198,
          0.4889867841409692,
          0.4889867841409692,
          0.5110132158590308,
          0.5110132158590308,
          0.5198237885462555,
          0.5198237885462555,
          0.5374449339207048,
          0.5374449339207048,
          0.5462555066079295,
          0.5462555066079295,
          0.5903083700440529,
          0.5903083700440529,
          0.5947136563876652,
          0.5947136563876652,
          0.6167400881057269,
          0.6167400881057269,
          0.6475770925110133,
          0.6475770925110133,
          0.6651982378854625,
          0.6651982378854625,
          0.6696035242290749,
          0.6696035242290749,
          0.6740088105726872,
          0.6740088105726872,
          0.6916299559471366,
          0.6916299559471366,
          0.6960352422907489,
          0.6960352422907489,
          0.7180616740088106,
          0.7180616740088106,
          0.7268722466960352,
          0.7268722466960352,
          0.7400881057268722,
          0.7400881057268722,
          0.748898678414097,
          0.748898678414097,
          0.7533039647577092,
          0.7533039647577092,
          0.8281938325991189,
          0.8281938325991189,
          0.8414096916299559,
          0.8414096916299559,
          0.8458149779735683,
          0.8458149779735683,
          0.8502202643171806,
          0.8502202643171806,
          0.8766519823788547,
          0.8766519823788547,
          0.8898678414096917,
          0.8898678414096917,
          0.8942731277533039,
          0.8942731277533039,
          0.9074889867841409,
          0.9074889867841409,
          0.933920704845815,
          0.933920704845815,
          0.9427312775330396,
          0.9427312775330396,
          0.947136563876652,
          0.947136563876652,
          0.9515418502202643,
          0.9515418502202643,
          0.9647577092511013,
          0.9647577092511013,
          0.9779735682819384,
          0.9779735682819384,
          1
         ]
        },
        {
         "line": {
          "color": "red",
          "dash": "dash"
         },
         "mode": "lines",
         "name": "Random",
         "type": "scatter",
         "x": [
          0,
          1
         ],
         "y": [
          0,
          1
         ]
        }
       ],
       "layout": {
        "height": 700,
        "legend": {
         "font": {
          "size": 16
         }
        },
        "showlegend": true,
        "template": {
         "data": {
          "bar": [
           {
            "error_x": {
             "color": "#2a3f5f"
            },
            "error_y": {
             "color": "#2a3f5f"
            },
            "marker": {
             "line": {
              "color": "#E5ECF6",
              "width": 0.5
             },
             "pattern": {
              "fillmode": "overlay",
              "size": 10,
              "solidity": 0.2
             }
            },
            "type": "bar"
           }
          ],
          "barpolar": [
           {
            "marker": {
             "line": {
              "color": "#E5ECF6",
              "width": 0.5
             },
             "pattern": {
              "fillmode": "overlay",
              "size": 10,
              "solidity": 0.2
             }
            },
            "type": "barpolar"
           }
          ],
          "carpet": [
           {
            "aaxis": {
             "endlinecolor": "#2a3f5f",
             "gridcolor": "white",
             "linecolor": "white",
             "minorgridcolor": "white",
             "startlinecolor": "#2a3f5f"
            },
            "baxis": {
             "endlinecolor": "#2a3f5f",
             "gridcolor": "white",
             "linecolor": "white",
             "minorgridcolor": "white",
             "startlinecolor": "#2a3f5f"
            },
            "type": "carpet"
           }
          ],
          "choropleth": [
           {
            "colorbar": {
             "outlinewidth": 0,
             "ticks": ""
            },
            "type": "choropleth"
           }
          ],
          "contour": [
           {
            "colorbar": {
             "outlinewidth": 0,
             "ticks": ""
            },
            "colorscale": [
             [
              0,
              "#0d0887"
             ],
             [
              0.1111111111111111,
              "#46039f"
             ],
             [
              0.2222222222222222,
              "#7201a8"
             ],
             [
              0.3333333333333333,
              "#9c179e"
             ],
             [
              0.4444444444444444,
              "#bd3786"
             ],
             [
              0.5555555555555556,
              "#d8576b"
             ],
             [
              0.6666666666666666,
              "#ed7953"
             ],
             [
              0.7777777777777778,
              "#fb9f3a"
             ],
             [
              0.8888888888888888,
              "#fdca26"
             ],
             [
              1,
              "#f0f921"
             ]
            ],
            "type": "contour"
           }
          ],
          "contourcarpet": [
           {
            "colorbar": {
             "outlinewidth": 0,
             "ticks": ""
            },
            "type": "contourcarpet"
           }
          ],
          "heatmap": [
           {
            "colorbar": {
             "outlinewidth": 0,
             "ticks": ""
            },
            "colorscale": [
             [
              0,
              "#0d0887"
             ],
             [
              0.1111111111111111,
              "#46039f"
             ],
             [
              0.2222222222222222,
              "#7201a8"
             ],
             [
              0.3333333333333333,
              "#9c179e"
             ],
             [
              0.4444444444444444,
              "#bd3786"
             ],
             [
              0.5555555555555556,
              "#d8576b"
             ],
             [
              0.6666666666666666,
              "#ed7953"
             ],
             [
              0.7777777777777778,
              "#fb9f3a"
             ],
             [
              0.8888888888888888,
              "#fdca26"
             ],
             [
              1,
              "#f0f921"
             ]
            ],
            "type": "heatmap"
           }
          ],
          "heatmapgl": [
           {
            "colorbar": {
             "outlinewidth": 0,
             "ticks": ""
            },
            "colorscale": [
             [
              0,
              "#0d0887"
             ],
             [
              0.1111111111111111,
              "#46039f"
             ],
             [
              0.2222222222222222,
              "#7201a8"
             ],
             [
              0.3333333333333333,
              "#9c179e"
             ],
             [
              0.4444444444444444,
              "#bd3786"
             ],
             [
              0.5555555555555556,
              "#d8576b"
             ],
             [
              0.6666666666666666,
              "#ed7953"
             ],
             [
              0.7777777777777778,
              "#fb9f3a"
             ],
             [
              0.8888888888888888,
              "#fdca26"
             ],
             [
              1,
              "#f0f921"
             ]
            ],
            "type": "heatmapgl"
           }
          ],
          "histogram": [
           {
            "marker": {
             "pattern": {
              "fillmode": "overlay",
              "size": 10,
              "solidity": 0.2
             }
            },
            "type": "histogram"
           }
          ],
          "histogram2d": [
           {
            "colorbar": {
             "outlinewidth": 0,
             "ticks": ""
            },
            "colorscale": [
             [
              0,
              "#0d0887"
             ],
             [
              0.1111111111111111,
              "#46039f"
             ],
             [
              0.2222222222222222,
              "#7201a8"
             ],
             [
              0.3333333333333333,
              "#9c179e"
             ],
             [
              0.4444444444444444,
              "#bd3786"
             ],
             [
              0.5555555555555556,
              "#d8576b"
             ],
             [
              0.6666666666666666,
              "#ed7953"
             ],
             [
              0.7777777777777778,
              "#fb9f3a"
             ],
             [
              0.8888888888888888,
              "#fdca26"
             ],
             [
              1,
              "#f0f921"
             ]
            ],
            "type": "histogram2d"
           }
          ],
          "histogram2dcontour": [
           {
            "colorbar": {
             "outlinewidth": 0,
             "ticks": ""
            },
            "colorscale": [
             [
              0,
              "#0d0887"
             ],
             [
              0.1111111111111111,
              "#46039f"
             ],
             [
              0.2222222222222222,
              "#7201a8"
             ],
             [
              0.3333333333333333,
              "#9c179e"
             ],
             [
              0.4444444444444444,
              "#bd3786"
             ],
             [
              0.5555555555555556,
              "#d8576b"
             ],
             [
              0.6666666666666666,
              "#ed7953"
             ],
             [
              0.7777777777777778,
              "#fb9f3a"
             ],
             [
              0.8888888888888888,
              "#fdca26"
             ],
             [
              1,
              "#f0f921"
             ]
            ],
            "type": "histogram2dcontour"
           }
          ],
          "mesh3d": [
           {
            "colorbar": {
             "outlinewidth": 0,
             "ticks": ""
            },
            "type": "mesh3d"
           }
          ],
          "parcoords": [
           {
            "line": {
             "colorbar": {
              "outlinewidth": 0,
              "ticks": ""
             }
            },
            "type": "parcoords"
           }
          ],
          "pie": [
           {
            "automargin": true,
            "type": "pie"
           }
          ],
          "scatter": [
           {
            "fillpattern": {
             "fillmode": "overlay",
             "size": 10,
             "solidity": 0.2
            },
            "type": "scatter"
           }
          ],
          "scatter3d": [
           {
            "line": {
             "colorbar": {
              "outlinewidth": 0,
              "ticks": ""
             }
            },
            "marker": {
             "colorbar": {
              "outlinewidth": 0,
              "ticks": ""
             }
            },
            "type": "scatter3d"
           }
          ],
          "scattercarpet": [
           {
            "marker": {
             "colorbar": {
              "outlinewidth": 0,
              "ticks": ""
             }
            },
            "type": "scattercarpet"
           }
          ],
          "scattergeo": [
           {
            "marker": {
             "colorbar": {
              "outlinewidth": 0,
              "ticks": ""
             }
            },
            "type": "scattergeo"
           }
          ],
          "scattergl": [
           {
            "marker": {
             "colorbar": {
              "outlinewidth": 0,
              "ticks": ""
             }
            },
            "type": "scattergl"
           }
          ],
          "scattermapbox": [
           {
            "marker": {
             "colorbar": {
              "outlinewidth": 0,
              "ticks": ""
             }
            },
            "type": "scattermapbox"
           }
          ],
          "scatterpolar": [
           {
            "marker": {
             "colorbar": {
              "outlinewidth": 0,
              "ticks": ""
             }
            },
            "type": "scatterpolar"
           }
          ],
          "scatterpolargl": [
           {
            "marker": {
             "colorbar": {
              "outlinewidth": 0,
              "ticks": ""
             }
            },
            "type": "scatterpolargl"
           }
          ],
          "scatterternary": [
           {
            "marker": {
             "colorbar": {
              "outlinewidth": 0,
              "ticks": ""
             }
            },
            "type": "scatterternary"
           }
          ],
          "surface": [
           {
            "colorbar": {
             "outlinewidth": 0,
             "ticks": ""
            },
            "colorscale": [
             [
              0,
              "#0d0887"
             ],
             [
              0.1111111111111111,
              "#46039f"
             ],
             [
              0.2222222222222222,
              "#7201a8"
             ],
             [
              0.3333333333333333,
              "#9c179e"
             ],
             [
              0.4444444444444444,
              "#bd3786"
             ],
             [
              0.5555555555555556,
              "#d8576b"
             ],
             [
              0.6666666666666666,
              "#ed7953"
             ],
             [
              0.7777777777777778,
              "#fb9f3a"
             ],
             [
              0.8888888888888888,
              "#fdca26"
             ],
             [
              1,
              "#f0f921"
             ]
            ],
            "type": "surface"
           }
          ],
          "table": [
           {
            "cells": {
             "fill": {
              "color": "#EBF0F8"
             },
             "line": {
              "color": "white"
             }
            },
            "header": {
             "fill": {
              "color": "#C8D4E3"
             },
             "line": {
              "color": "white"
             }
            },
            "type": "table"
           }
          ]
         },
         "layout": {
          "annotationdefaults": {
           "arrowcolor": "#2a3f5f",
           "arrowhead": 0,
           "arrowwidth": 1
          },
          "autotypenumbers": "strict",
          "coloraxis": {
           "colorbar": {
            "outlinewidth": 0,
            "ticks": ""
           }
          },
          "colorscale": {
           "diverging": [
            [
             0,
             "#8e0152"
            ],
            [
             0.1,
             "#c51b7d"
            ],
            [
             0.2,
             "#de77ae"
            ],
            [
             0.3,
             "#f1b6da"
            ],
            [
             0.4,
             "#fde0ef"
            ],
            [
             0.5,
             "#f7f7f7"
            ],
            [
             0.6,
             "#e6f5d0"
            ],
            [
             0.7,
             "#b8e186"
            ],
            [
             0.8,
             "#7fbc41"
            ],
            [
             0.9,
             "#4d9221"
            ],
            [
             1,
             "#276419"
            ]
           ],
           "sequential": [
            [
             0,
             "#0d0887"
            ],
            [
             0.1111111111111111,
             "#46039f"
            ],
            [
             0.2222222222222222,
             "#7201a8"
            ],
            [
             0.3333333333333333,
             "#9c179e"
            ],
            [
             0.4444444444444444,
             "#bd3786"
            ],
            [
             0.5555555555555556,
             "#d8576b"
            ],
            [
             0.6666666666666666,
             "#ed7953"
            ],
            [
             0.7777777777777778,
             "#fb9f3a"
            ],
            [
             0.8888888888888888,
             "#fdca26"
            ],
            [
             1,
             "#f0f921"
            ]
           ],
           "sequentialminus": [
            [
             0,
             "#0d0887"
            ],
            [
             0.1111111111111111,
             "#46039f"
            ],
            [
             0.2222222222222222,
             "#7201a8"
            ],
            [
             0.3333333333333333,
             "#9c179e"
            ],
            [
             0.4444444444444444,
             "#bd3786"
            ],
            [
             0.5555555555555556,
             "#d8576b"
            ],
            [
             0.6666666666666666,
             "#ed7953"
            ],
            [
             0.7777777777777778,
             "#fb9f3a"
            ],
            [
             0.8888888888888888,
             "#fdca26"
            ],
            [
             1,
             "#f0f921"
            ]
           ]
          },
          "colorway": [
           "#636efa",
           "#EF553B",
           "#00cc96",
           "#ab63fa",
           "#FFA15A",
           "#19d3f3",
           "#FF6692",
           "#B6E880",
           "#FF97FF",
           "#FECB52"
          ],
          "font": {
           "color": "#2a3f5f"
          },
          "geo": {
           "bgcolor": "white",
           "lakecolor": "white",
           "landcolor": "#E5ECF6",
           "showlakes": true,
           "showland": true,
           "subunitcolor": "white"
          },
          "hoverlabel": {
           "align": "left"
          },
          "hovermode": "closest",
          "mapbox": {
           "style": "light"
          },
          "paper_bgcolor": "white",
          "plot_bgcolor": "#E5ECF6",
          "polar": {
           "angularaxis": {
            "gridcolor": "white",
            "linecolor": "white",
            "ticks": ""
           },
           "bgcolor": "#E5ECF6",
           "radialaxis": {
            "gridcolor": "white",
            "linecolor": "white",
            "ticks": ""
           }
          },
          "scene": {
           "xaxis": {
            "backgroundcolor": "#E5ECF6",
            "gridcolor": "white",
            "gridwidth": 2,
            "linecolor": "white",
            "showbackground": true,
            "ticks": "",
            "zerolinecolor": "white"
           },
           "yaxis": {
            "backgroundcolor": "#E5ECF6",
            "gridcolor": "white",
            "gridwidth": 2,
            "linecolor": "white",
            "showbackground": true,
            "ticks": "",
            "zerolinecolor": "white"
           },
           "zaxis": {
            "backgroundcolor": "#E5ECF6",
            "gridcolor": "white",
            "gridwidth": 2,
            "linecolor": "white",
            "showbackground": true,
            "ticks": "",
            "zerolinecolor": "white"
           }
          },
          "shapedefaults": {
           "line": {
            "color": "#2a3f5f"
           }
          },
          "ternary": {
           "aaxis": {
            "gridcolor": "white",
            "linecolor": "white",
            "ticks": ""
           },
           "baxis": {
            "gridcolor": "white",
            "linecolor": "white",
            "ticks": ""
           },
           "bgcolor": "#E5ECF6",
           "caxis": {
            "gridcolor": "white",
            "linecolor": "white",
            "ticks": ""
           }
          },
          "title": {
           "x": 0.05
          },
          "xaxis": {
           "automargin": true,
           "gridcolor": "white",
           "linecolor": "white",
           "ticks": "",
           "title": {
            "standoff": 15
           },
           "zerolinecolor": "white",
           "zerolinewidth": 2
          },
          "yaxis": {
           "automargin": true,
           "gridcolor": "white",
           "linecolor": "white",
           "ticks": "",
           "title": {
            "standoff": 15
           },
           "zerolinecolor": "white",
           "zerolinewidth": 2
          }
         }
        },
        "title": {
         "font": {
          "size": 24
         },
         "text": "ROC Curve for Logistic_Regression_with_ridge_penalty of approach_4",
         "x": 0.5,
         "xanchor": "center",
         "yanchor": "top"
        },
        "width": 1100,
        "xaxis": {
         "title": {
          "font": {
           "size": 20
          },
          "text": "False Positive Rate"
         }
        },
        "yaxis": {
         "title": {
          "font": {
           "size": 20
          },
          "text": "True Positive Rate"
         }
        }
       }
      }
     },
     "metadata": {},
     "output_type": "display_data"
    }
   ],
   "source": [
    "### 1. Define hyperparameter distributions for each model\n",
    "log_reg_params = {\n",
    "    \"C\": uniform(0.01, 10),\n",
    "    \"penalty\": [\"l2\"],\n",
    "    \"solver\": [\"sag\"],\n",
    "}\n",
    "\n",
    "### 2. Train Logistic Regression\n",
    "log_reg = LogisticRegression(max_iter=1000)\n",
    "log_reg_best, log_reg_auc, log_reg_acc, log_reg_f1, report = (\n",
    "    model_training.tune_and_evaluate_model(\n",
    "        log_reg,\n",
    "        log_reg_params,\n",
    "        X_train,\n",
    "        y_train,\n",
    "        X_test,\n",
    "        y_test,\n",
    "        model_name=\"Logistic_Regression_with_ridge_penalty\",\n",
    "        log_dir=\"models/logs/approach_4\",\n",
    "        model_dir=\"models/saved_models/approach_4\",\n",
    "        approach=\"approach_4\",\n",
    "    )\n",
    ")"
   ]
  },
  {
   "cell_type": "code",
   "execution_count": 53,
   "metadata": {},
   "outputs": [
    {
     "name": "stdout",
     "output_type": "stream",
     "text": [
      "shape: (3, 2)\n",
      "┌─────────────┬────────────────────────────┐\n",
      "│ metrics     ┆ approach_4_log_reg_metrics │\n",
      "│ ---         ┆ ---                        │\n",
      "│ str         ┆ f64                        │\n",
      "╞═════════════╪════════════════════════════╡\n",
      "│ accuracy, % ┆ 48.0                       │\n",
      "│ f1_score    ┆ 0.535                      │\n",
      "│ auc         ┆ 0.553                      │\n",
      "└─────────────┴────────────────────────────┘\n"
     ]
    }
   ],
   "source": [
    "### 1. create dataframe from metrics add to metrics dictionary\n",
    "approach_4_log_reg_metrics = pl.DataFrame(\n",
    "    {\n",
    "        \"metrics\": [\"accuracy, %\", \"f1_score\", \"auc\"],\n",
    "        \"approach_4_log_reg_metrics\": [\n",
    "            np.round(log_reg_acc * 100),\n",
    "            np.round(log_reg_f1, 3),\n",
    "            np.round(log_reg_auc, 3),\n",
    "        ],\n",
    "    }\n",
    ")\n",
    "METRICS_DICT[\"approach_4_log_reg_metrics\"] = approach_4_log_reg_metrics\n",
    "print(approach_4_log_reg_metrics)"
   ]
  },
  {
   "cell_type": "code",
   "execution_count": 54,
   "metadata": {},
   "outputs": [
    {
     "name": "stdout",
     "output_type": "stream",
     "text": [
      "shape: (2, 5)\n",
      "┌──────────┬───────────┬────────┬──────────┬───────┐\n",
      "│ category ┆ precision ┆ recall ┆ f1-score ┆ count │\n",
      "│ ---      ┆ ---       ┆ ---    ┆ ---      ┆ ---   │\n",
      "│ str      ┆ f64       ┆ f64    ┆ f64      ┆ i64   │\n",
      "╞══════════╪═══════════╪════════╪══════════╪═══════╡\n",
      "│ 0        ┆ 0.28      ┆ 0.68   ┆ 0.4      ┆ 78    │\n",
      "│ 1        ┆ 0.79      ┆ 0.41   ┆ 0.53     ┆ 227   │\n",
      "└──────────┴───────────┴────────┴──────────┴───────┘\n"
     ]
    }
   ],
   "source": [
    "### 1. convert report to polars dataframe\n",
    "approach_4_log_reg_report = model_training.classification_report_to_polars(report)\n",
    "\n",
    "### 2. save report\n",
    "approach_4_log_reg_report.write_excel(\n",
    "    \"reports/approach_4/approach_4_log_reg_report.xlsx\"\n",
    ")\n",
    "print(approach_4_log_reg_report)"
   ]
  },
  {
   "cell_type": "markdown",
   "metadata": {},
   "source": [
    "### <a id='toc1_4_2_'></a>[4.2 Random Forest](#toc0_)"
   ]
  },
  {
   "cell_type": "code",
   "execution_count": 55,
   "metadata": {},
   "outputs": [
    {
     "name": "stdout",
     "output_type": "stream",
     "text": [
      "Fitting 5 folds for each of 50 candidates, totalling 250 fits\n",
      "Random_Forest Best Hyperparameters: {'max_depth': 15, 'min_samples_leaf': 10, 'min_samples_split': 21, 'n_estimators': 145}\n",
      "Random_Forest Test Metrics:\n",
      "AUC: 0.5285\n",
      "Accuracy: 0.7443\n",
      "F1-Score: 0.8534\n"
     ]
    },
    {
     "data": {
      "application/vnd.plotly.v1+json": {
       "config": {
        "plotlyServerURL": "https://plot.ly"
       },
       "data": [
        {
         "line": {
          "color": "blue"
         },
         "mode": "lines",
         "name": "Random_Forest (AUC = 0.5285)",
         "type": "scatter",
         "x": [
          0,
          0,
          0,
          0.01282051282051282,
          0.01282051282051282,
          0.01282051282051282,
          0.01282051282051282,
          0.02564102564102564,
          0.02564102564102564,
          0.038461538461538464,
          0.0641025641025641,
          0.0641025641025641,
          0.0641025641025641,
          0.0641025641025641,
          0.0641025641025641,
          0.0641025641025641,
          0.07692307692307693,
          0.07692307692307693,
          0.08974358974358974,
          0.08974358974358974,
          0.11538461538461539,
          0.11538461538461539,
          0.1282051282051282,
          0.1282051282051282,
          0.14102564102564102,
          0.14102564102564102,
          0.15384615384615385,
          0.15384615384615385,
          0.1794871794871795,
          0.1794871794871795,
          0.19230769230769232,
          0.19230769230769232,
          0.20512820512820512,
          0.20512820512820512,
          0.20512820512820512,
          0.20512820512820512,
          0.20512820512820512,
          0.21794871794871795,
          0.21794871794871795,
          0.23076923076923078,
          0.23076923076923078,
          0.2564102564102564,
          0.2692307692307692,
          0.2692307692307692,
          0.3076923076923077,
          0.3076923076923077,
          0.32051282051282054,
          0.32051282051282054,
          0.3333333333333333,
          0.3333333333333333,
          0.34615384615384615,
          0.34615384615384615,
          0.34615384615384615,
          0.34615384615384615,
          0.358974358974359,
          0.3717948717948718,
          0.3974358974358974,
          0.3974358974358974,
          0.4230769230769231,
          0.4358974358974359,
          0.4358974358974359,
          0.44871794871794873,
          0.44871794871794873,
          0.46153846153846156,
          0.46153846153846156,
          0.48717948717948717,
          0.48717948717948717,
          0.5,
          0.5,
          0.5256410256410257,
          0.5384615384615384,
          0.5384615384615384,
          0.5897435897435898,
          0.6025641025641025,
          0.6025641025641025,
          0.6282051282051282,
          0.6410256410256411,
          0.6410256410256411,
          0.6410256410256411,
          0.6410256410256411,
          0.6666666666666666,
          0.6666666666666666,
          0.6794871794871795,
          0.6794871794871795,
          0.6923076923076923,
          0.717948717948718,
          0.7307692307692307,
          0.7307692307692307,
          0.7435897435897436,
          0.7564102564102564,
          0.7564102564102564,
          0.7692307692307693,
          0.7692307692307693,
          0.8076923076923077,
          0.8076923076923077,
          0.8076923076923077,
          0.8076923076923077,
          0.8205128205128205,
          0.8205128205128205,
          0.8333333333333334,
          0.8589743589743589,
          0.8589743589743589,
          0.8717948717948718,
          0.8717948717948718,
          0.8846153846153846,
          0.8846153846153846,
          0.8846153846153846,
          0.8846153846153846,
          0.8974358974358975,
          0.9102564102564102,
          0.9102564102564102,
          0.9102564102564102,
          0.9358974358974359,
          0.9358974358974359,
          0.9615384615384616,
          0.9615384615384616,
          0.9743589743589743,
          0.9743589743589743,
          1,
          1
         ],
         "y": [
          0,
          0.004405286343612335,
          0.013215859030837005,
          0.013215859030837005,
          0.01762114537444934,
          0.03524229074889868,
          0.04405286343612335,
          0.05286343612334802,
          0.06167400881057269,
          0.06167400881057269,
          0.07048458149779736,
          0.07488986784140969,
          0.08370044052863436,
          0.11013215859030837,
          0.11894273127753303,
          0.15859030837004406,
          0.15859030837004406,
          0.16740088105726872,
          0.16740088105726872,
          0.17180616740088106,
          0.17180616740088106,
          0.18502202643171806,
          0.18502202643171806,
          0.2026431718061674,
          0.2026431718061674,
          0.21585903083700442,
          0.21585903083700442,
          0.22466960352422907,
          0.22466960352422907,
          0.2290748898678414,
          0.2290748898678414,
          0.2422907488986784,
          0.2511013215859031,
          0.2599118942731278,
          0.2643171806167401,
          0.27312775330396477,
          0.2775330396475771,
          0.2775330396475771,
          0.2907488986784141,
          0.29515418502202645,
          0.30837004405286345,
          0.30837004405286345,
          0.31277533039647576,
          0.33480176211453744,
          0.33480176211453744,
          0.3656387665198238,
          0.3700440528634361,
          0.3788546255506608,
          0.3832599118942731,
          0.43171806167400884,
          0.43171806167400884,
          0.43612334801762115,
          0.44493392070484583,
          0.46255506607929514,
          0.46255506607929514,
          0.4713656387665198,
          0.4801762114537445,
          0.4845814977973568,
          0.4845814977973568,
          0.4889867841409692,
          0.4977973568281938,
          0.5022026431718062,
          0.5066079295154186,
          0.5066079295154186,
          0.5330396475770925,
          0.5330396475770925,
          0.5550660792951542,
          0.5594713656387665,
          0.5638766519823789,
          0.5638766519823789,
          0.5638766519823789,
          0.5814977973568282,
          0.5814977973568282,
          0.5859030837004405,
          0.5947136563876652,
          0.5947136563876652,
          0.5991189427312775,
          0.6255506607929515,
          0.6343612334801763,
          0.6607929515418502,
          0.6696035242290749,
          0.6740088105726872,
          0.6828193832599119,
          0.6872246696035242,
          0.6872246696035242,
          0.6916299559471366,
          0.6960352422907489,
          0.7004405286343612,
          0.7048458149779736,
          0.7048458149779736,
          0.7312775330396476,
          0.73568281938326,
          0.7533039647577092,
          0.7533039647577092,
          0.7577092511013216,
          0.7709251101321586,
          0.775330396475771,
          0.775330396475771,
          0.788546255506608,
          0.8370044052863436,
          0.8370044052863436,
          0.8458149779735683,
          0.8458149779735683,
          0.8810572687224669,
          0.8854625550660793,
          0.9030837004405287,
          0.9118942731277533,
          0.920704845814978,
          0.920704845814978,
          0.9251101321585903,
          0.933920704845815,
          0.947136563876652,
          0.947136563876652,
          0.9559471365638766,
          0.9559471365638766,
          0.960352422907489,
          0.973568281938326,
          0.9779735682819384,
          0.9779735682819384,
          1
         ]
        },
        {
         "line": {
          "color": "red",
          "dash": "dash"
         },
         "mode": "lines",
         "name": "Random",
         "type": "scatter",
         "x": [
          0,
          1
         ],
         "y": [
          0,
          1
         ]
        }
       ],
       "layout": {
        "height": 700,
        "legend": {
         "font": {
          "size": 16
         }
        },
        "showlegend": true,
        "template": {
         "data": {
          "bar": [
           {
            "error_x": {
             "color": "#2a3f5f"
            },
            "error_y": {
             "color": "#2a3f5f"
            },
            "marker": {
             "line": {
              "color": "#E5ECF6",
              "width": 0.5
             },
             "pattern": {
              "fillmode": "overlay",
              "size": 10,
              "solidity": 0.2
             }
            },
            "type": "bar"
           }
          ],
          "barpolar": [
           {
            "marker": {
             "line": {
              "color": "#E5ECF6",
              "width": 0.5
             },
             "pattern": {
              "fillmode": "overlay",
              "size": 10,
              "solidity": 0.2
             }
            },
            "type": "barpolar"
           }
          ],
          "carpet": [
           {
            "aaxis": {
             "endlinecolor": "#2a3f5f",
             "gridcolor": "white",
             "linecolor": "white",
             "minorgridcolor": "white",
             "startlinecolor": "#2a3f5f"
            },
            "baxis": {
             "endlinecolor": "#2a3f5f",
             "gridcolor": "white",
             "linecolor": "white",
             "minorgridcolor": "white",
             "startlinecolor": "#2a3f5f"
            },
            "type": "carpet"
           }
          ],
          "choropleth": [
           {
            "colorbar": {
             "outlinewidth": 0,
             "ticks": ""
            },
            "type": "choropleth"
           }
          ],
          "contour": [
           {
            "colorbar": {
             "outlinewidth": 0,
             "ticks": ""
            },
            "colorscale": [
             [
              0,
              "#0d0887"
             ],
             [
              0.1111111111111111,
              "#46039f"
             ],
             [
              0.2222222222222222,
              "#7201a8"
             ],
             [
              0.3333333333333333,
              "#9c179e"
             ],
             [
              0.4444444444444444,
              "#bd3786"
             ],
             [
              0.5555555555555556,
              "#d8576b"
             ],
             [
              0.6666666666666666,
              "#ed7953"
             ],
             [
              0.7777777777777778,
              "#fb9f3a"
             ],
             [
              0.8888888888888888,
              "#fdca26"
             ],
             [
              1,
              "#f0f921"
             ]
            ],
            "type": "contour"
           }
          ],
          "contourcarpet": [
           {
            "colorbar": {
             "outlinewidth": 0,
             "ticks": ""
            },
            "type": "contourcarpet"
           }
          ],
          "heatmap": [
           {
            "colorbar": {
             "outlinewidth": 0,
             "ticks": ""
            },
            "colorscale": [
             [
              0,
              "#0d0887"
             ],
             [
              0.1111111111111111,
              "#46039f"
             ],
             [
              0.2222222222222222,
              "#7201a8"
             ],
             [
              0.3333333333333333,
              "#9c179e"
             ],
             [
              0.4444444444444444,
              "#bd3786"
             ],
             [
              0.5555555555555556,
              "#d8576b"
             ],
             [
              0.6666666666666666,
              "#ed7953"
             ],
             [
              0.7777777777777778,
              "#fb9f3a"
             ],
             [
              0.8888888888888888,
              "#fdca26"
             ],
             [
              1,
              "#f0f921"
             ]
            ],
            "type": "heatmap"
           }
          ],
          "heatmapgl": [
           {
            "colorbar": {
             "outlinewidth": 0,
             "ticks": ""
            },
            "colorscale": [
             [
              0,
              "#0d0887"
             ],
             [
              0.1111111111111111,
              "#46039f"
             ],
             [
              0.2222222222222222,
              "#7201a8"
             ],
             [
              0.3333333333333333,
              "#9c179e"
             ],
             [
              0.4444444444444444,
              "#bd3786"
             ],
             [
              0.5555555555555556,
              "#d8576b"
             ],
             [
              0.6666666666666666,
              "#ed7953"
             ],
             [
              0.7777777777777778,
              "#fb9f3a"
             ],
             [
              0.8888888888888888,
              "#fdca26"
             ],
             [
              1,
              "#f0f921"
             ]
            ],
            "type": "heatmapgl"
           }
          ],
          "histogram": [
           {
            "marker": {
             "pattern": {
              "fillmode": "overlay",
              "size": 10,
              "solidity": 0.2
             }
            },
            "type": "histogram"
           }
          ],
          "histogram2d": [
           {
            "colorbar": {
             "outlinewidth": 0,
             "ticks": ""
            },
            "colorscale": [
             [
              0,
              "#0d0887"
             ],
             [
              0.1111111111111111,
              "#46039f"
             ],
             [
              0.2222222222222222,
              "#7201a8"
             ],
             [
              0.3333333333333333,
              "#9c179e"
             ],
             [
              0.4444444444444444,
              "#bd3786"
             ],
             [
              0.5555555555555556,
              "#d8576b"
             ],
             [
              0.6666666666666666,
              "#ed7953"
             ],
             [
              0.7777777777777778,
              "#fb9f3a"
             ],
             [
              0.8888888888888888,
              "#fdca26"
             ],
             [
              1,
              "#f0f921"
             ]
            ],
            "type": "histogram2d"
           }
          ],
          "histogram2dcontour": [
           {
            "colorbar": {
             "outlinewidth": 0,
             "ticks": ""
            },
            "colorscale": [
             [
              0,
              "#0d0887"
             ],
             [
              0.1111111111111111,
              "#46039f"
             ],
             [
              0.2222222222222222,
              "#7201a8"
             ],
             [
              0.3333333333333333,
              "#9c179e"
             ],
             [
              0.4444444444444444,
              "#bd3786"
             ],
             [
              0.5555555555555556,
              "#d8576b"
             ],
             [
              0.6666666666666666,
              "#ed7953"
             ],
             [
              0.7777777777777778,
              "#fb9f3a"
             ],
             [
              0.8888888888888888,
              "#fdca26"
             ],
             [
              1,
              "#f0f921"
             ]
            ],
            "type": "histogram2dcontour"
           }
          ],
          "mesh3d": [
           {
            "colorbar": {
             "outlinewidth": 0,
             "ticks": ""
            },
            "type": "mesh3d"
           }
          ],
          "parcoords": [
           {
            "line": {
             "colorbar": {
              "outlinewidth": 0,
              "ticks": ""
             }
            },
            "type": "parcoords"
           }
          ],
          "pie": [
           {
            "automargin": true,
            "type": "pie"
           }
          ],
          "scatter": [
           {
            "fillpattern": {
             "fillmode": "overlay",
             "size": 10,
             "solidity": 0.2
            },
            "type": "scatter"
           }
          ],
          "scatter3d": [
           {
            "line": {
             "colorbar": {
              "outlinewidth": 0,
              "ticks": ""
             }
            },
            "marker": {
             "colorbar": {
              "outlinewidth": 0,
              "ticks": ""
             }
            },
            "type": "scatter3d"
           }
          ],
          "scattercarpet": [
           {
            "marker": {
             "colorbar": {
              "outlinewidth": 0,
              "ticks": ""
             }
            },
            "type": "scattercarpet"
           }
          ],
          "scattergeo": [
           {
            "marker": {
             "colorbar": {
              "outlinewidth": 0,
              "ticks": ""
             }
            },
            "type": "scattergeo"
           }
          ],
          "scattergl": [
           {
            "marker": {
             "colorbar": {
              "outlinewidth": 0,
              "ticks": ""
             }
            },
            "type": "scattergl"
           }
          ],
          "scattermapbox": [
           {
            "marker": {
             "colorbar": {
              "outlinewidth": 0,
              "ticks": ""
             }
            },
            "type": "scattermapbox"
           }
          ],
          "scatterpolar": [
           {
            "marker": {
             "colorbar": {
              "outlinewidth": 0,
              "ticks": ""
             }
            },
            "type": "scatterpolar"
           }
          ],
          "scatterpolargl": [
           {
            "marker": {
             "colorbar": {
              "outlinewidth": 0,
              "ticks": ""
             }
            },
            "type": "scatterpolargl"
           }
          ],
          "scatterternary": [
           {
            "marker": {
             "colorbar": {
              "outlinewidth": 0,
              "ticks": ""
             }
            },
            "type": "scatterternary"
           }
          ],
          "surface": [
           {
            "colorbar": {
             "outlinewidth": 0,
             "ticks": ""
            },
            "colorscale": [
             [
              0,
              "#0d0887"
             ],
             [
              0.1111111111111111,
              "#46039f"
             ],
             [
              0.2222222222222222,
              "#7201a8"
             ],
             [
              0.3333333333333333,
              "#9c179e"
             ],
             [
              0.4444444444444444,
              "#bd3786"
             ],
             [
              0.5555555555555556,
              "#d8576b"
             ],
             [
              0.6666666666666666,
              "#ed7953"
             ],
             [
              0.7777777777777778,
              "#fb9f3a"
             ],
             [
              0.8888888888888888,
              "#fdca26"
             ],
             [
              1,
              "#f0f921"
             ]
            ],
            "type": "surface"
           }
          ],
          "table": [
           {
            "cells": {
             "fill": {
              "color": "#EBF0F8"
             },
             "line": {
              "color": "white"
             }
            },
            "header": {
             "fill": {
              "color": "#C8D4E3"
             },
             "line": {
              "color": "white"
             }
            },
            "type": "table"
           }
          ]
         },
         "layout": {
          "annotationdefaults": {
           "arrowcolor": "#2a3f5f",
           "arrowhead": 0,
           "arrowwidth": 1
          },
          "autotypenumbers": "strict",
          "coloraxis": {
           "colorbar": {
            "outlinewidth": 0,
            "ticks": ""
           }
          },
          "colorscale": {
           "diverging": [
            [
             0,
             "#8e0152"
            ],
            [
             0.1,
             "#c51b7d"
            ],
            [
             0.2,
             "#de77ae"
            ],
            [
             0.3,
             "#f1b6da"
            ],
            [
             0.4,
             "#fde0ef"
            ],
            [
             0.5,
             "#f7f7f7"
            ],
            [
             0.6,
             "#e6f5d0"
            ],
            [
             0.7,
             "#b8e186"
            ],
            [
             0.8,
             "#7fbc41"
            ],
            [
             0.9,
             "#4d9221"
            ],
            [
             1,
             "#276419"
            ]
           ],
           "sequential": [
            [
             0,
             "#0d0887"
            ],
            [
             0.1111111111111111,
             "#46039f"
            ],
            [
             0.2222222222222222,
             "#7201a8"
            ],
            [
             0.3333333333333333,
             "#9c179e"
            ],
            [
             0.4444444444444444,
             "#bd3786"
            ],
            [
             0.5555555555555556,
             "#d8576b"
            ],
            [
             0.6666666666666666,
             "#ed7953"
            ],
            [
             0.7777777777777778,
             "#fb9f3a"
            ],
            [
             0.8888888888888888,
             "#fdca26"
            ],
            [
             1,
             "#f0f921"
            ]
           ],
           "sequentialminus": [
            [
             0,
             "#0d0887"
            ],
            [
             0.1111111111111111,
             "#46039f"
            ],
            [
             0.2222222222222222,
             "#7201a8"
            ],
            [
             0.3333333333333333,
             "#9c179e"
            ],
            [
             0.4444444444444444,
             "#bd3786"
            ],
            [
             0.5555555555555556,
             "#d8576b"
            ],
            [
             0.6666666666666666,
             "#ed7953"
            ],
            [
             0.7777777777777778,
             "#fb9f3a"
            ],
            [
             0.8888888888888888,
             "#fdca26"
            ],
            [
             1,
             "#f0f921"
            ]
           ]
          },
          "colorway": [
           "#636efa",
           "#EF553B",
           "#00cc96",
           "#ab63fa",
           "#FFA15A",
           "#19d3f3",
           "#FF6692",
           "#B6E880",
           "#FF97FF",
           "#FECB52"
          ],
          "font": {
           "color": "#2a3f5f"
          },
          "geo": {
           "bgcolor": "white",
           "lakecolor": "white",
           "landcolor": "#E5ECF6",
           "showlakes": true,
           "showland": true,
           "subunitcolor": "white"
          },
          "hoverlabel": {
           "align": "left"
          },
          "hovermode": "closest",
          "mapbox": {
           "style": "light"
          },
          "paper_bgcolor": "white",
          "plot_bgcolor": "#E5ECF6",
          "polar": {
           "angularaxis": {
            "gridcolor": "white",
            "linecolor": "white",
            "ticks": ""
           },
           "bgcolor": "#E5ECF6",
           "radialaxis": {
            "gridcolor": "white",
            "linecolor": "white",
            "ticks": ""
           }
          },
          "scene": {
           "xaxis": {
            "backgroundcolor": "#E5ECF6",
            "gridcolor": "white",
            "gridwidth": 2,
            "linecolor": "white",
            "showbackground": true,
            "ticks": "",
            "zerolinecolor": "white"
           },
           "yaxis": {
            "backgroundcolor": "#E5ECF6",
            "gridcolor": "white",
            "gridwidth": 2,
            "linecolor": "white",
            "showbackground": true,
            "ticks": "",
            "zerolinecolor": "white"
           },
           "zaxis": {
            "backgroundcolor": "#E5ECF6",
            "gridcolor": "white",
            "gridwidth": 2,
            "linecolor": "white",
            "showbackground": true,
            "ticks": "",
            "zerolinecolor": "white"
           }
          },
          "shapedefaults": {
           "line": {
            "color": "#2a3f5f"
           }
          },
          "ternary": {
           "aaxis": {
            "gridcolor": "white",
            "linecolor": "white",
            "ticks": ""
           },
           "baxis": {
            "gridcolor": "white",
            "linecolor": "white",
            "ticks": ""
           },
           "bgcolor": "#E5ECF6",
           "caxis": {
            "gridcolor": "white",
            "linecolor": "white",
            "ticks": ""
           }
          },
          "title": {
           "x": 0.05
          },
          "xaxis": {
           "automargin": true,
           "gridcolor": "white",
           "linecolor": "white",
           "ticks": "",
           "title": {
            "standoff": 15
           },
           "zerolinecolor": "white",
           "zerolinewidth": 2
          },
          "yaxis": {
           "automargin": true,
           "gridcolor": "white",
           "linecolor": "white",
           "ticks": "",
           "title": {
            "standoff": 15
           },
           "zerolinecolor": "white",
           "zerolinewidth": 2
          }
         }
        },
        "title": {
         "font": {
          "size": 24
         },
         "text": "ROC Curve for Random_Forest of approach_4",
         "x": 0.5,
         "xanchor": "center",
         "yanchor": "top"
        },
        "width": 1100,
        "xaxis": {
         "title": {
          "font": {
           "size": 20
          },
          "text": "False Positive Rate"
         }
        },
        "yaxis": {
         "title": {
          "font": {
           "size": 20
          },
          "text": "True Positive Rate"
         }
        }
       }
      }
     },
     "metadata": {},
     "output_type": "display_data"
    }
   ],
   "source": [
    "### 1. Define hyperparameter distributions for each model\n",
    "rf_params = {\n",
    "    \"n_estimators\": randint(10, 150),\n",
    "    \"max_depth\": [3, 5, 10, 15],\n",
    "    \"min_samples_split\": randint(10, 30),\n",
    "    \"min_samples_leaf\": randint(10, 30),\n",
    "}\n",
    "\n",
    "### 2. Train Random Forest\n",
    "rf = RandomForestClassifier(random_state=42)\n",
    "rf_best, rf_auc, rf_acc, rf_f1, report = model_training.tune_and_evaluate_model(\n",
    "    rf,\n",
    "    rf_params,\n",
    "    X_train,\n",
    "    y_train,\n",
    "    X_test,\n",
    "    y_test,\n",
    "    model_name=\"Random_Forest\",\n",
    "    log_dir=\"models/logs/approach_4\",\n",
    "    model_dir=\"models/saved_models/approach_4\",\n",
    "    approach=\"approach_4\",\n",
    ")"
   ]
  },
  {
   "cell_type": "code",
   "execution_count": 56,
   "metadata": {},
   "outputs": [
    {
     "name": "stdout",
     "output_type": "stream",
     "text": [
      "shape: (3, 2)\n",
      "┌─────────────┬───────────────────────┐\n",
      "│ metrics     ┆ approach_4_rf_metrics │\n",
      "│ ---         ┆ ---                   │\n",
      "│ str         ┆ f64                   │\n",
      "╞═════════════╪═══════════════════════╡\n",
      "│ accuracy, % ┆ 74.0                  │\n",
      "│ f1_score    ┆ 0.853                 │\n",
      "│ auc         ┆ 0.529                 │\n",
      "└─────────────┴───────────────────────┘\n"
     ]
    }
   ],
   "source": [
    "### 1. create dataframe from metrics add to metrics dictionary\n",
    "approach_4_rf_metrics = pl.DataFrame(\n",
    "    {\n",
    "        \"metrics\": [\"accuracy, %\", \"f1_score\", \"auc\"],\n",
    "        \"approach_4_rf_metrics\": [\n",
    "            np.round(rf_acc * 100),\n",
    "            np.round(rf_f1, 3),\n",
    "            np.round(rf_auc, 3),\n",
    "        ],\n",
    "    }\n",
    ")\n",
    "METRICS_DICT[\"approach_4_rf_metrics\"] = approach_4_rf_metrics\n",
    "print(approach_4_rf_metrics)"
   ]
  },
  {
   "cell_type": "code",
   "execution_count": 57,
   "metadata": {},
   "outputs": [
    {
     "name": "stdout",
     "output_type": "stream",
     "text": [
      "shape: (2, 5)\n",
      "┌──────────┬───────────┬────────┬──────────┬───────┐\n",
      "│ category ┆ precision ┆ recall ┆ f1-score ┆ count │\n",
      "│ ---      ┆ ---       ┆ ---    ┆ ---      ┆ ---   │\n",
      "│ str      ┆ f64       ┆ f64    ┆ f64      ┆ i64   │\n",
      "╞══════════╪═══════════╪════════╪══════════╪═══════╡\n",
      "│ 0        ┆ 0.0       ┆ 0.0    ┆ 0.0      ┆ 78    │\n",
      "│ 1        ┆ 0.74      ┆ 1.0    ┆ 0.85     ┆ 227   │\n",
      "└──────────┴───────────┴────────┴──────────┴───────┘\n"
     ]
    }
   ],
   "source": [
    "### 1. convert report to polars dataframe\n",
    "approach_4_rf_report = model_training.classification_report_to_polars(report)\n",
    "\n",
    "### 2. save report\n",
    "approach_4_rf_report.write_excel(\"reports/approach_4/approach_4_rf_report.xlsx\")\n",
    "print(approach_4_rf_report)"
   ]
  },
  {
   "cell_type": "markdown",
   "metadata": {},
   "source": [
    "### <a id='toc1_4_3_'></a>[4.3 XGboost](#toc0_)"
   ]
  },
  {
   "cell_type": "code",
   "execution_count": 58,
   "metadata": {},
   "outputs": [
    {
     "name": "stdout",
     "output_type": "stream",
     "text": [
      "Fitting 5 folds for each of 50 candidates, totalling 250 fits\n",
      "XGBoost Best Hyperparameters: {'colsample_bytree': 0.9745401188473625, 'learning_rate': 0.2952142919229748, 'max_depth': 5, 'n_estimators': 121, 'subsample': 0.8394633936788146}\n",
      "XGBoost Test Metrics:\n",
      "AUC: 0.5317\n",
      "Accuracy: 0.7443\n",
      "F1-Score: 0.8534\n"
     ]
    },
    {
     "data": {
      "application/vnd.plotly.v1+json": {
       "config": {
        "plotlyServerURL": "https://plot.ly"
       },
       "data": [
        {
         "line": {
          "color": "blue"
         },
         "mode": "lines",
         "name": "XGBoost (AUC = 0.5317)",
         "type": "scatter",
         "x": [
          0,
          0.02564102564102564,
          0.02564102564102564,
          0.02564102564102564,
          0.038461538461538464,
          0.038461538461538464,
          0.05128205128205128,
          0.05128205128205128,
          0.05128205128205128,
          0.05128205128205128,
          0.0641025641025641,
          0.0641025641025641,
          0.0641025641025641,
          0.0641025641025641,
          0.08974358974358974,
          0.08974358974358974,
          0.10256410256410256,
          0.10256410256410256,
          0.11538461538461539,
          0.1282051282051282,
          0.1282051282051282,
          0.15384615384615385,
          0.15384615384615385,
          0.15384615384615385,
          0.15384615384615385,
          0.16666666666666666,
          0.16666666666666666,
          0.16666666666666666,
          0.16666666666666666,
          0.1794871794871795,
          0.1794871794871795,
          0.19230769230769232,
          0.19230769230769232,
          0.19230769230769232,
          0.19230769230769232,
          0.19230769230769232,
          0.19230769230769232,
          0.20512820512820512,
          0.20512820512820512,
          0.20512820512820512,
          0.23076923076923078,
          0.23076923076923078,
          0.23076923076923078,
          0.23076923076923078,
          0.23076923076923078,
          0.23076923076923078,
          0.24358974358974358,
          0.2564102564102564,
          0.2564102564102564,
          0.28205128205128205,
          0.2948717948717949,
          0.2948717948717949,
          0.3076923076923077,
          0.32051282051282054,
          0.3333333333333333,
          0.34615384615384615,
          0.34615384615384615,
          0.358974358974359,
          0.358974358974359,
          0.3717948717948718,
          0.3974358974358974,
          0.3974358974358974,
          0.3974358974358974,
          0.4230769230769231,
          0.4230769230769231,
          0.4358974358974359,
          0.4358974358974359,
          0.4358974358974359,
          0.44871794871794873,
          0.44871794871794873,
          0.44871794871794873,
          0.46153846153846156,
          0.46153846153846156,
          0.47435897435897434,
          0.47435897435897434,
          0.47435897435897434,
          0.5,
          0.5,
          0.5128205128205128,
          0.5384615384615384,
          0.5384615384615384,
          0.5512820512820513,
          0.5512820512820513,
          0.5769230769230769,
          0.5769230769230769,
          0.5769230769230769,
          0.5897435897435898,
          0.5897435897435898,
          0.6153846153846154,
          0.6153846153846154,
          0.6538461538461539,
          0.6538461538461539,
          0.6794871794871795,
          0.6794871794871795,
          0.6923076923076923,
          0.6923076923076923,
          0.717948717948718,
          0.717948717948718,
          0.717948717948718,
          0.717948717948718,
          0.7307692307692307,
          0.7307692307692307,
          0.7564102564102564,
          0.7564102564102564,
          0.7692307692307693,
          0.7692307692307693,
          0.7948717948717948,
          0.7948717948717948,
          0.8076923076923077,
          0.8205128205128205,
          0.8205128205128205,
          0.8333333333333334,
          0.8333333333333334,
          0.8461538461538461,
          0.8461538461538461,
          0.8461538461538461,
          0.8717948717948718,
          0.8717948717948718,
          0.8846153846153846,
          0.8846153846153846,
          0.9102564102564102,
          0.9102564102564102,
          0.9230769230769231,
          0.9487179487179487,
          0.9487179487179487,
          0.9615384615384616,
          0.9615384615384616,
          0.9743589743589743,
          0.9743589743589743,
          0.9743589743589743,
          0.9743589743589743,
          0.9871794871794872,
          0.9871794871794872,
          1,
          1,
          1,
          1
         ],
         "y": [
          0,
          0,
          0.00881057268722467,
          0.01762114537444934,
          0.01762114537444934,
          0.022026431718061675,
          0.02643171806167401,
          0.030837004405286344,
          0.039647577092511016,
          0.05726872246696035,
          0.06167400881057269,
          0.06607929515418502,
          0.07929515418502203,
          0.09251101321585903,
          0.09251101321585903,
          0.10572687224669604,
          0.10572687224669604,
          0.1145374449339207,
          0.12334801762114538,
          0.12334801762114538,
          0.13215859030837004,
          0.13215859030837004,
          0.13656387665198239,
          0.14537444933920704,
          0.15418502202643172,
          0.15418502202643172,
          0.16740088105726872,
          0.18502202643171806,
          0.19383259911894274,
          0.19823788546255505,
          0.20704845814977973,
          0.20704845814977973,
          0.21585903083700442,
          0.22466960352422907,
          0.23348017621145375,
          0.24669603524229075,
          0.2511013215859031,
          0.2555066079295154,
          0.2643171806167401,
          0.29515418502202645,
          0.29515418502202645,
          0.29955947136563876,
          0.32599118942731276,
          0.3303964757709251,
          0.3436123348017621,
          0.3568281938325991,
          0.3568281938325991,
          0.3744493392070485,
          0.3964757709251101,
          0.4008810572687225,
          0.4008810572687225,
          0.4052863436123348,
          0.4185022026431718,
          0.4185022026431718,
          0.42731277533039647,
          0.42731277533039647,
          0.44052863436123346,
          0.44052863436123346,
          0.44493392070484583,
          0.4581497797356828,
          0.4581497797356828,
          0.4669603524229075,
          0.47577092511013214,
          0.47577092511013214,
          0.5066079295154186,
          0.5154185022026432,
          0.5242290748898678,
          0.5418502202643172,
          0.5462555066079295,
          0.5506607929515418,
          0.5594713656387665,
          0.5594713656387665,
          0.5726872246696035,
          0.5726872246696035,
          0.5814977973568282,
          0.5859030837004405,
          0.5859030837004405,
          0.5903083700440529,
          0.5903083700440529,
          0.5903083700440529,
          0.5991189427312775,
          0.6035242290748899,
          0.6079295154185022,
          0.6079295154185022,
          0.6255506607929515,
          0.6431718061674009,
          0.6431718061674009,
          0.6475770925110133,
          0.6475770925110133,
          0.6563876651982379,
          0.6563876651982379,
          0.6651982378854625,
          0.6651982378854625,
          0.6740088105726872,
          0.6740088105726872,
          0.7092511013215859,
          0.7092511013215859,
          0.7180616740088106,
          0.7268722466960352,
          0.7400881057268722,
          0.7400881057268722,
          0.7444933920704846,
          0.7444933920704846,
          0.748898678414097,
          0.7665198237885462,
          0.7841409691629956,
          0.7841409691629956,
          0.801762114537445,
          0.801762114537445,
          0.8061674008810573,
          0.8105726872246696,
          0.8105726872246696,
          0.8325991189427313,
          0.8325991189427313,
          0.8414096916299559,
          0.8458149779735683,
          0.8458149779735683,
          0.8546255506607929,
          0.8546255506607929,
          0.8722466960352423,
          0.8722466960352423,
          0.8854625550660793,
          0.8854625550660793,
          0.8942731277533039,
          0.9030837004405287,
          0.9118942731277533,
          0.9251101321585903,
          0.9295154185022027,
          0.933920704845815,
          0.9515418502202643,
          0.960352422907489,
          0.9691629955947136,
          0.973568281938326,
          0.973568281938326,
          0.9779735682819384,
          0.986784140969163,
          1
         ]
        },
        {
         "line": {
          "color": "red",
          "dash": "dash"
         },
         "mode": "lines",
         "name": "Random",
         "type": "scatter",
         "x": [
          0,
          1
         ],
         "y": [
          0,
          1
         ]
        }
       ],
       "layout": {
        "height": 700,
        "legend": {
         "font": {
          "size": 16
         }
        },
        "showlegend": true,
        "template": {
         "data": {
          "bar": [
           {
            "error_x": {
             "color": "#2a3f5f"
            },
            "error_y": {
             "color": "#2a3f5f"
            },
            "marker": {
             "line": {
              "color": "#E5ECF6",
              "width": 0.5
             },
             "pattern": {
              "fillmode": "overlay",
              "size": 10,
              "solidity": 0.2
             }
            },
            "type": "bar"
           }
          ],
          "barpolar": [
           {
            "marker": {
             "line": {
              "color": "#E5ECF6",
              "width": 0.5
             },
             "pattern": {
              "fillmode": "overlay",
              "size": 10,
              "solidity": 0.2
             }
            },
            "type": "barpolar"
           }
          ],
          "carpet": [
           {
            "aaxis": {
             "endlinecolor": "#2a3f5f",
             "gridcolor": "white",
             "linecolor": "white",
             "minorgridcolor": "white",
             "startlinecolor": "#2a3f5f"
            },
            "baxis": {
             "endlinecolor": "#2a3f5f",
             "gridcolor": "white",
             "linecolor": "white",
             "minorgridcolor": "white",
             "startlinecolor": "#2a3f5f"
            },
            "type": "carpet"
           }
          ],
          "choropleth": [
           {
            "colorbar": {
             "outlinewidth": 0,
             "ticks": ""
            },
            "type": "choropleth"
           }
          ],
          "contour": [
           {
            "colorbar": {
             "outlinewidth": 0,
             "ticks": ""
            },
            "colorscale": [
             [
              0,
              "#0d0887"
             ],
             [
              0.1111111111111111,
              "#46039f"
             ],
             [
              0.2222222222222222,
              "#7201a8"
             ],
             [
              0.3333333333333333,
              "#9c179e"
             ],
             [
              0.4444444444444444,
              "#bd3786"
             ],
             [
              0.5555555555555556,
              "#d8576b"
             ],
             [
              0.6666666666666666,
              "#ed7953"
             ],
             [
              0.7777777777777778,
              "#fb9f3a"
             ],
             [
              0.8888888888888888,
              "#fdca26"
             ],
             [
              1,
              "#f0f921"
             ]
            ],
            "type": "contour"
           }
          ],
          "contourcarpet": [
           {
            "colorbar": {
             "outlinewidth": 0,
             "ticks": ""
            },
            "type": "contourcarpet"
           }
          ],
          "heatmap": [
           {
            "colorbar": {
             "outlinewidth": 0,
             "ticks": ""
            },
            "colorscale": [
             [
              0,
              "#0d0887"
             ],
             [
              0.1111111111111111,
              "#46039f"
             ],
             [
              0.2222222222222222,
              "#7201a8"
             ],
             [
              0.3333333333333333,
              "#9c179e"
             ],
             [
              0.4444444444444444,
              "#bd3786"
             ],
             [
              0.5555555555555556,
              "#d8576b"
             ],
             [
              0.6666666666666666,
              "#ed7953"
             ],
             [
              0.7777777777777778,
              "#fb9f3a"
             ],
             [
              0.8888888888888888,
              "#fdca26"
             ],
             [
              1,
              "#f0f921"
             ]
            ],
            "type": "heatmap"
           }
          ],
          "heatmapgl": [
           {
            "colorbar": {
             "outlinewidth": 0,
             "ticks": ""
            },
            "colorscale": [
             [
              0,
              "#0d0887"
             ],
             [
              0.1111111111111111,
              "#46039f"
             ],
             [
              0.2222222222222222,
              "#7201a8"
             ],
             [
              0.3333333333333333,
              "#9c179e"
             ],
             [
              0.4444444444444444,
              "#bd3786"
             ],
             [
              0.5555555555555556,
              "#d8576b"
             ],
             [
              0.6666666666666666,
              "#ed7953"
             ],
             [
              0.7777777777777778,
              "#fb9f3a"
             ],
             [
              0.8888888888888888,
              "#fdca26"
             ],
             [
              1,
              "#f0f921"
             ]
            ],
            "type": "heatmapgl"
           }
          ],
          "histogram": [
           {
            "marker": {
             "pattern": {
              "fillmode": "overlay",
              "size": 10,
              "solidity": 0.2
             }
            },
            "type": "histogram"
           }
          ],
          "histogram2d": [
           {
            "colorbar": {
             "outlinewidth": 0,
             "ticks": ""
            },
            "colorscale": [
             [
              0,
              "#0d0887"
             ],
             [
              0.1111111111111111,
              "#46039f"
             ],
             [
              0.2222222222222222,
              "#7201a8"
             ],
             [
              0.3333333333333333,
              "#9c179e"
             ],
             [
              0.4444444444444444,
              "#bd3786"
             ],
             [
              0.5555555555555556,
              "#d8576b"
             ],
             [
              0.6666666666666666,
              "#ed7953"
             ],
             [
              0.7777777777777778,
              "#fb9f3a"
             ],
             [
              0.8888888888888888,
              "#fdca26"
             ],
             [
              1,
              "#f0f921"
             ]
            ],
            "type": "histogram2d"
           }
          ],
          "histogram2dcontour": [
           {
            "colorbar": {
             "outlinewidth": 0,
             "ticks": ""
            },
            "colorscale": [
             [
              0,
              "#0d0887"
             ],
             [
              0.1111111111111111,
              "#46039f"
             ],
             [
              0.2222222222222222,
              "#7201a8"
             ],
             [
              0.3333333333333333,
              "#9c179e"
             ],
             [
              0.4444444444444444,
              "#bd3786"
             ],
             [
              0.5555555555555556,
              "#d8576b"
             ],
             [
              0.6666666666666666,
              "#ed7953"
             ],
             [
              0.7777777777777778,
              "#fb9f3a"
             ],
             [
              0.8888888888888888,
              "#fdca26"
             ],
             [
              1,
              "#f0f921"
             ]
            ],
            "type": "histogram2dcontour"
           }
          ],
          "mesh3d": [
           {
            "colorbar": {
             "outlinewidth": 0,
             "ticks": ""
            },
            "type": "mesh3d"
           }
          ],
          "parcoords": [
           {
            "line": {
             "colorbar": {
              "outlinewidth": 0,
              "ticks": ""
             }
            },
            "type": "parcoords"
           }
          ],
          "pie": [
           {
            "automargin": true,
            "type": "pie"
           }
          ],
          "scatter": [
           {
            "fillpattern": {
             "fillmode": "overlay",
             "size": 10,
             "solidity": 0.2
            },
            "type": "scatter"
           }
          ],
          "scatter3d": [
           {
            "line": {
             "colorbar": {
              "outlinewidth": 0,
              "ticks": ""
             }
            },
            "marker": {
             "colorbar": {
              "outlinewidth": 0,
              "ticks": ""
             }
            },
            "type": "scatter3d"
           }
          ],
          "scattercarpet": [
           {
            "marker": {
             "colorbar": {
              "outlinewidth": 0,
              "ticks": ""
             }
            },
            "type": "scattercarpet"
           }
          ],
          "scattergeo": [
           {
            "marker": {
             "colorbar": {
              "outlinewidth": 0,
              "ticks": ""
             }
            },
            "type": "scattergeo"
           }
          ],
          "scattergl": [
           {
            "marker": {
             "colorbar": {
              "outlinewidth": 0,
              "ticks": ""
             }
            },
            "type": "scattergl"
           }
          ],
          "scattermapbox": [
           {
            "marker": {
             "colorbar": {
              "outlinewidth": 0,
              "ticks": ""
             }
            },
            "type": "scattermapbox"
           }
          ],
          "scatterpolar": [
           {
            "marker": {
             "colorbar": {
              "outlinewidth": 0,
              "ticks": ""
             }
            },
            "type": "scatterpolar"
           }
          ],
          "scatterpolargl": [
           {
            "marker": {
             "colorbar": {
              "outlinewidth": 0,
              "ticks": ""
             }
            },
            "type": "scatterpolargl"
           }
          ],
          "scatterternary": [
           {
            "marker": {
             "colorbar": {
              "outlinewidth": 0,
              "ticks": ""
             }
            },
            "type": "scatterternary"
           }
          ],
          "surface": [
           {
            "colorbar": {
             "outlinewidth": 0,
             "ticks": ""
            },
            "colorscale": [
             [
              0,
              "#0d0887"
             ],
             [
              0.1111111111111111,
              "#46039f"
             ],
             [
              0.2222222222222222,
              "#7201a8"
             ],
             [
              0.3333333333333333,
              "#9c179e"
             ],
             [
              0.4444444444444444,
              "#bd3786"
             ],
             [
              0.5555555555555556,
              "#d8576b"
             ],
             [
              0.6666666666666666,
              "#ed7953"
             ],
             [
              0.7777777777777778,
              "#fb9f3a"
             ],
             [
              0.8888888888888888,
              "#fdca26"
             ],
             [
              1,
              "#f0f921"
             ]
            ],
            "type": "surface"
           }
          ],
          "table": [
           {
            "cells": {
             "fill": {
              "color": "#EBF0F8"
             },
             "line": {
              "color": "white"
             }
            },
            "header": {
             "fill": {
              "color": "#C8D4E3"
             },
             "line": {
              "color": "white"
             }
            },
            "type": "table"
           }
          ]
         },
         "layout": {
          "annotationdefaults": {
           "arrowcolor": "#2a3f5f",
           "arrowhead": 0,
           "arrowwidth": 1
          },
          "autotypenumbers": "strict",
          "coloraxis": {
           "colorbar": {
            "outlinewidth": 0,
            "ticks": ""
           }
          },
          "colorscale": {
           "diverging": [
            [
             0,
             "#8e0152"
            ],
            [
             0.1,
             "#c51b7d"
            ],
            [
             0.2,
             "#de77ae"
            ],
            [
             0.3,
             "#f1b6da"
            ],
            [
             0.4,
             "#fde0ef"
            ],
            [
             0.5,
             "#f7f7f7"
            ],
            [
             0.6,
             "#e6f5d0"
            ],
            [
             0.7,
             "#b8e186"
            ],
            [
             0.8,
             "#7fbc41"
            ],
            [
             0.9,
             "#4d9221"
            ],
            [
             1,
             "#276419"
            ]
           ],
           "sequential": [
            [
             0,
             "#0d0887"
            ],
            [
             0.1111111111111111,
             "#46039f"
            ],
            [
             0.2222222222222222,
             "#7201a8"
            ],
            [
             0.3333333333333333,
             "#9c179e"
            ],
            [
             0.4444444444444444,
             "#bd3786"
            ],
            [
             0.5555555555555556,
             "#d8576b"
            ],
            [
             0.6666666666666666,
             "#ed7953"
            ],
            [
             0.7777777777777778,
             "#fb9f3a"
            ],
            [
             0.8888888888888888,
             "#fdca26"
            ],
            [
             1,
             "#f0f921"
            ]
           ],
           "sequentialminus": [
            [
             0,
             "#0d0887"
            ],
            [
             0.1111111111111111,
             "#46039f"
            ],
            [
             0.2222222222222222,
             "#7201a8"
            ],
            [
             0.3333333333333333,
             "#9c179e"
            ],
            [
             0.4444444444444444,
             "#bd3786"
            ],
            [
             0.5555555555555556,
             "#d8576b"
            ],
            [
             0.6666666666666666,
             "#ed7953"
            ],
            [
             0.7777777777777778,
             "#fb9f3a"
            ],
            [
             0.8888888888888888,
             "#fdca26"
            ],
            [
             1,
             "#f0f921"
            ]
           ]
          },
          "colorway": [
           "#636efa",
           "#EF553B",
           "#00cc96",
           "#ab63fa",
           "#FFA15A",
           "#19d3f3",
           "#FF6692",
           "#B6E880",
           "#FF97FF",
           "#FECB52"
          ],
          "font": {
           "color": "#2a3f5f"
          },
          "geo": {
           "bgcolor": "white",
           "lakecolor": "white",
           "landcolor": "#E5ECF6",
           "showlakes": true,
           "showland": true,
           "subunitcolor": "white"
          },
          "hoverlabel": {
           "align": "left"
          },
          "hovermode": "closest",
          "mapbox": {
           "style": "light"
          },
          "paper_bgcolor": "white",
          "plot_bgcolor": "#E5ECF6",
          "polar": {
           "angularaxis": {
            "gridcolor": "white",
            "linecolor": "white",
            "ticks": ""
           },
           "bgcolor": "#E5ECF6",
           "radialaxis": {
            "gridcolor": "white",
            "linecolor": "white",
            "ticks": ""
           }
          },
          "scene": {
           "xaxis": {
            "backgroundcolor": "#E5ECF6",
            "gridcolor": "white",
            "gridwidth": 2,
            "linecolor": "white",
            "showbackground": true,
            "ticks": "",
            "zerolinecolor": "white"
           },
           "yaxis": {
            "backgroundcolor": "#E5ECF6",
            "gridcolor": "white",
            "gridwidth": 2,
            "linecolor": "white",
            "showbackground": true,
            "ticks": "",
            "zerolinecolor": "white"
           },
           "zaxis": {
            "backgroundcolor": "#E5ECF6",
            "gridcolor": "white",
            "gridwidth": 2,
            "linecolor": "white",
            "showbackground": true,
            "ticks": "",
            "zerolinecolor": "white"
           }
          },
          "shapedefaults": {
           "line": {
            "color": "#2a3f5f"
           }
          },
          "ternary": {
           "aaxis": {
            "gridcolor": "white",
            "linecolor": "white",
            "ticks": ""
           },
           "baxis": {
            "gridcolor": "white",
            "linecolor": "white",
            "ticks": ""
           },
           "bgcolor": "#E5ECF6",
           "caxis": {
            "gridcolor": "white",
            "linecolor": "white",
            "ticks": ""
           }
          },
          "title": {
           "x": 0.05
          },
          "xaxis": {
           "automargin": true,
           "gridcolor": "white",
           "linecolor": "white",
           "ticks": "",
           "title": {
            "standoff": 15
           },
           "zerolinecolor": "white",
           "zerolinewidth": 2
          },
          "yaxis": {
           "automargin": true,
           "gridcolor": "white",
           "linecolor": "white",
           "ticks": "",
           "title": {
            "standoff": 15
           },
           "zerolinecolor": "white",
           "zerolinewidth": 2
          }
         }
        },
        "title": {
         "font": {
          "size": 24
         },
         "text": "ROC Curve for XGBoost of approach_4",
         "x": 0.5,
         "xanchor": "center",
         "yanchor": "top"
        },
        "width": 1100,
        "xaxis": {
         "title": {
          "font": {
           "size": 20
          },
          "text": "False Positive Rate"
         }
        },
        "yaxis": {
         "title": {
          "font": {
           "size": 20
          },
          "text": "True Positive Rate"
         }
        }
       }
      }
     },
     "metadata": {},
     "output_type": "display_data"
    }
   ],
   "source": [
    "### 1. Define hyperparameter distributions for each model\n",
    "xgb_params = {\n",
    "    \"n_estimators\": randint(50, 150),\n",
    "    \"max_depth\": randint(3, 10),\n",
    "    \"learning_rate\": uniform(0.01, 0.3),\n",
    "    \"subsample\": uniform(0.6, 0.4),\n",
    "    \"colsample_bytree\": uniform(0.6, 1.0),\n",
    "}\n",
    "# Compute class distribution\n",
    "counter = Counter(y_train)\n",
    "scale_pos_weight = counter[0] / counter[1]  # Majority / Minority class ratio\n",
    "\n",
    "### 2.Train XGBoost\n",
    "xgb = XGBClassifier(\n",
    "    use_label_encoder=False,\n",
    "    eval_metric=\"logloss\",\n",
    "    random_state=42,\n",
    "    scale_pos_weight=scale_pos_weight,\n",
    ")\n",
    "xgb_best, xgb_auc, xgb_acc, xgb_f1, report = model_training.tune_and_evaluate_model(\n",
    "    xgb,\n",
    "    xgb_params,\n",
    "    X_train,\n",
    "    y_train,\n",
    "    X_test,\n",
    "    y_test,\n",
    "    model_name=\"XGBoost\",\n",
    "    log_dir=\"models/logs/approach_4\",\n",
    "    model_dir=\"models/saved_models/approach_4\",\n",
    "    approach=\"approach_4\",\n",
    ")"
   ]
  },
  {
   "cell_type": "code",
   "execution_count": 59,
   "metadata": {},
   "outputs": [
    {
     "name": "stdout",
     "output_type": "stream",
     "text": [
      "shape: (3, 2)\n",
      "┌─────────────┬────────────────────────────┐\n",
      "│ metrics     ┆ approach_4_xgboost_metrics │\n",
      "│ ---         ┆ ---                        │\n",
      "│ str         ┆ f64                        │\n",
      "╞═════════════╪════════════════════════════╡\n",
      "│ accuracy, % ┆ 74.0                       │\n",
      "│ f1_score    ┆ 0.853                      │\n",
      "│ auc         ┆ 0.532                      │\n",
      "└─────────────┴────────────────────────────┘\n"
     ]
    }
   ],
   "source": [
    "### 1. create dataframe from metrics add to metrics dictionary\n",
    "approach_4_xgboost_metrics = pl.DataFrame(\n",
    "    {\n",
    "        \"metrics\": [\"accuracy, %\", \"f1_score\", \"auc\"],\n",
    "        \"approach_4_xgboost_metrics\": [\n",
    "            np.round(xgb_acc * 100),\n",
    "            np.round(xgb_f1, 3),\n",
    "            np.round(xgb_auc, 3),\n",
    "        ],\n",
    "    }\n",
    ")\n",
    "METRICS_DICT[\"approach_4_xgboost_metrics\"] = approach_4_xgboost_metrics\n",
    "print(approach_4_xgboost_metrics)"
   ]
  },
  {
   "cell_type": "code",
   "execution_count": 60,
   "metadata": {},
   "outputs": [
    {
     "name": "stdout",
     "output_type": "stream",
     "text": [
      "shape: (2, 5)\n",
      "┌──────────┬───────────┬────────┬──────────┬───────┐\n",
      "│ category ┆ precision ┆ recall ┆ f1-score ┆ count │\n",
      "│ ---      ┆ ---       ┆ ---    ┆ ---      ┆ ---   │\n",
      "│ str      ┆ f64       ┆ f64    ┆ f64      ┆ i64   │\n",
      "╞══════════╪═══════════╪════════╪══════════╪═══════╡\n",
      "│ 0        ┆ 0.0       ┆ 0.0    ┆ 0.0      ┆ 78    │\n",
      "│ 1        ┆ 0.74      ┆ 1.0    ┆ 0.85     ┆ 227   │\n",
      "└──────────┴───────────┴────────┴──────────┴───────┘\n"
     ]
    }
   ],
   "source": [
    "### 1. convert report to polars dataframe\n",
    "approach_4_xgboost_report = model_training.classification_report_to_polars(report)\n",
    "\n",
    "### 2. save report\n",
    "approach_4_xgboost_report.write_excel(\n",
    "    \"reports/approach_4/approach_4_xgboost_report.xlsx\"\n",
    ")\n",
    "print(approach_4_xgboost_report)"
   ]
  },
  {
   "cell_type": "markdown",
   "metadata": {},
   "source": [
    "## <a id='toc1_5_'></a>[5. Conclusion](#toc0_)"
   ]
  },
  {
   "cell_type": "code",
   "execution_count": 61,
   "metadata": {},
   "outputs": [
    {
     "data": {
      "text/plain": [
       "<xlsxwriter.workbook.Workbook at 0x7483705a9a90>"
      ]
     },
     "execution_count": 61,
     "metadata": {},
     "output_type": "execute_result"
    }
   ],
   "source": [
    "### save results across all the models as excel file\n",
    "model_metrics = pl.DataFrame(METRICS_DICT[\"test_metrics\"])\n",
    "model_type = model_metrics.columns[1]\n",
    "model_metrics = model_metrics.with_columns(pl.lit(model_type).alias(\"model_type\"))\n",
    "model_metrics = model_metrics.pivot(\n",
    "    values=model_metrics.columns[1], index=[\"model_type\"], columns=\"metrics\"\n",
    ")\n",
    "for dataset in list(METRICS_DICT.keys())[1:]:\n",
    "    new_data = pl.DataFrame(METRICS_DICT[dataset])\n",
    "    model_type = new_data.columns[1]\n",
    "    new_data = new_data.with_columns(pl.lit(model_type).alias(\"model_type\"))\n",
    "    pivoted_df = new_data.pivot(\n",
    "        values=new_data.columns[1], index=[\"model_type\"], columns=\"metrics\"\n",
    "    )\n",
    "    model_metrics = model_metrics.vstack(pivoted_df)\n",
    "\n",
    "model_metrics = model_metrics.sort(\"auc\", descending=True)\n",
    "\n",
    "model_metrics.write_excel(\"reports/model_metrics.xlsx\")"
   ]
  },
  {
   "cell_type": "code",
   "execution_count": null,
   "metadata": {},
   "outputs": [],
   "source": []
  }
 ],
 "metadata": {
  "kernelspec": {
   "display_name": "breast-cancer (3.11.9)",
   "language": "python",
   "name": "python3"
  },
  "language_info": {
   "codemirror_mode": {
    "name": "ipython",
    "version": 3
   },
   "file_extension": ".py",
   "mimetype": "text/x-python",
   "name": "python",
   "nbconvert_exporter": "python",
   "pygments_lexer": "ipython3",
   "version": "3.11.9"
  }
 },
 "nbformat": 4,
 "nbformat_minor": 2
}
