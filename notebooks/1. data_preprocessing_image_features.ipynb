{
 "cells": [
  {
   "cell_type": "markdown",
   "metadata": {},
   "source": [
    "**Table of contents**<a id='toc0_'></a>    \n",
    "- [1. The project](#toc1_1_)    \n",
    "  - [2. Datasets](#toc1_2_)    \n",
    "    - [2.1 Data cleaning](#toc1_2_1_)    \n",
    "      - [2.1.1 MRI features](#toc1_2_1_1_)    \n",
    "      - [2.1.2 Target feature](#toc1_2_1_2_)    \n",
    "    - [2.2 Join image features with target variable](#toc1_2_2_)    \n",
    "  - [2.2 Split datasets into train and test sets](#toc1_3_)    \n",
    "    - [2.1.1 Missing values](#toc1_3_1_)    \n",
    "  - [3. Data split train and test sets](#toc1_4_)    \n",
    "\n",
    "<!-- vscode-jupyter-toc-config\n",
    "\tnumbering=false\n",
    "\tanchor=true\n",
    "\tflat=false\n",
    "\tminLevel=1\n",
    "\tmaxLevel=6\n",
    "\t/vscode-jupyter-toc-config -->\n",
    "<!-- THIS CELL WILL BE REPLACED ON TOC UPDATE. DO NOT WRITE YOUR TEXT IN THIS CELL -->"
   ]
  },
  {
   "cell_type": "code",
   "execution_count": 1,
   "metadata": {},
   "outputs": [
    {
     "data": {
      "text/html": [
       "\n",
       "                <script type=\"application/javascript\" id=\"jupyter_black\">\n",
       "                (function() {\n",
       "                    if (window.IPython === undefined) {\n",
       "                        return\n",
       "                    }\n",
       "                    var msg = \"WARNING: it looks like you might have loaded \" +\n",
       "                        \"jupyter_black in a non-lab notebook with \" +\n",
       "                        \"`is_lab=True`. Please double check, and if \" +\n",
       "                        \"loading with `%load_ext` please review the README!\"\n",
       "                    console.log(msg)\n",
       "                    alert(msg)\n",
       "                })()\n",
       "                </script>\n",
       "                "
      ],
      "text/plain": [
       "<IPython.core.display.HTML object>"
      ]
     },
     "metadata": {},
     "output_type": "display_data"
    }
   ],
   "source": [
    "import sys\n",
    "import jupyter_black\n",
    "import warnings\n",
    "\n",
    "jupyter_black.load()\n",
    "from IPython.display import display\n",
    "\n",
    "warnings.filterwarnings(\"ignore\")\n",
    "\n",
    "%load_ext autoreload\n",
    "%autoreload 2"
   ]
  },
  {
   "cell_type": "code",
   "execution_count": 2,
   "metadata": {},
   "outputs": [],
   "source": [
    "import datetime\n",
    "\n",
    "import numpy as np\n",
    "import pandas as pd\n",
    "import plotly.express as px\n",
    "import polars as pl\n",
    "import polars.selectors as cs\n",
    "import os\n",
    "\n",
    "from modeling import data_preprocessing"
   ]
  },
  {
   "cell_type": "code",
   "execution_count": 3,
   "metadata": {},
   "outputs": [],
   "source": [
    "os.chdir(\"..\")"
   ]
  },
  {
   "cell_type": "markdown",
   "metadata": {},
   "source": [
    "## <a id='toc1_1_'></a>[1. The project](#toc0_)"
   ]
  },
  {
   "cell_type": "markdown",
   "metadata": {},
   "source": [
    "Saha and colleagues collected a large set of breast MRI cases that\n",
    "were used to detect breast cancer. The dataset also contains detailed\n",
    "information about the characteristic of the patient and subtype of tumors\n",
    "that were eventually diagnosed. This information can be used to determine\n",
    "the best treatment.\n",
    "\n",
    "Basic image processing was performed to extract features from the MRI\n",
    "cases which were used to predict the molecular tumor subtypes from MRI.\n",
    "In this assignment, we will try to predict the estrogen receptor (ER) status\n",
    "from the MRI image features that were provided."
   ]
  },
  {
   "cell_type": "markdown",
   "metadata": {},
   "source": [
    "## <a id='toc1_2_'></a>[2. Datasets](#toc0_)"
   ]
  },
  {
   "cell_type": "markdown",
   "metadata": {},
   "source": [
    "### <a id='toc1_2_1_'></a>[2.1 Data cleaning](#toc0_)"
   ]
  },
  {
   "cell_type": "markdown",
   "metadata": {},
   "source": [
    "According to the research papaer, features were derived from the following sources: (a) features\n",
    "that capture the properties of breast as a whole are in category 1, (b)\n",
    "categories 2, 4, 7, 8 and 10 quantify characteristics of the tumour, (c)\n",
    "characteristics of FGT are expressed by features included in\n",
    "categories 1, 3, 6 and 9, and (d) category 5 represents features\n",
    "that capture the properties of tumour and FGT enhancement\n",
    "simultaneously. As per the image processing, (a) features in\n",
    "categories 1 and 2 do not require the voxel intensity values after\n",
    "the extraction of the corresponding masks (b) features in categories\n",
    "3, 4 and 5 use voxel intensity values for capturing tumour/tissue\n",
    "enhancement but the spatial relationship of the voxels are not\n",
    "explored, (c) features in categories 6, 7 and 8 exploit the spatial\n",
    "relationship of the voxels while quantifying enhancement (d)\n",
    "features in categories 9 and 10 use variation in enhancement over\n",
    "time or in values but does not use the spatial relationship."
   ]
  },
  {
   "cell_type": "markdown",
   "metadata": {},
   "source": [
    "#### <a id='toc1_2_1_1_'></a>[2.1.1 MRI features](#toc0_)"
   ]
  },
  {
   "cell_type": "code",
   "execution_count": 6,
   "metadata": {},
   "outputs": [
    {
     "name": "stdout",
     "output_type": "stream",
     "text": [
      "shape: (922, 530)\n",
      "┌───────────┬───────────┬───────────┬───────────┬───┬───────────┬───────────┬───────────┬──────────┐\n",
      "│ Patient   ┆ F1_DT_POS ┆ F1_DT_POS ┆ F1_DT_POS ┆ … ┆ WashinRat ┆ WashinRat ┆ WashinRat ┆ WashinRa │\n",
      "│ ID        ┆ TCON (T11 ┆ TCON (T11 ┆ TCON (T11 ┆   ┆ e_map_mea ┆ e_map_std ┆ e_map_ske ┆ te_map_k │\n",
      "│ ---       ┆ =0.05,T12 ┆ =0.05,T12 ┆ =0.02,T12 ┆   ┆ n_tissue_ ┆ _dev_tiss ┆ wness_tis ┆ urtosis_ │\n",
      "│ i32       ┆ =0.5)     ┆ =0.1)     ┆ =0.5)     ┆   ┆ PostC…    ┆ ue_Po…    ┆ sue_P…    ┆ tissue_P │\n",
      "│           ┆ ---       ┆ ---       ┆ ---       ┆   ┆ ---       ┆ ---       ┆ ---       ┆ …        │\n",
      "│           ┆ f64       ┆ f64       ┆ f64       ┆   ┆ f64       ┆ f64       ┆ f64       ┆ ---      │\n",
      "│           ┆           ┆           ┆           ┆   ┆           ┆           ┆           ┆ f64      │\n",
      "╞═══════════╪═══════════╪═══════════╪═══════════╪═══╪═══════════╪═══════════╪═══════════╪══════════╡\n",
      "│ 1         ┆ 1.0       ┆ 0.120721  ┆ 0.530395  ┆ … ┆ 14.517894 ┆ 20.347506 ┆ 1.62587   ┆ 11.40695 │\n",
      "│           ┆           ┆           ┆           ┆   ┆           ┆           ┆           ┆ 5        │\n",
      "│ 2         ┆ 1.0       ┆ 0.129546  ┆ 0.485217  ┆ … ┆ 47.29795  ┆ 83.909561 ┆ 0.251498  ┆ 5.659428 │\n",
      "│ 3         ┆ 0.174775  ┆ 0.062051  ┆ 0.06991   ┆ … ┆ 114.17158 ┆ 129.25234 ┆ 1.928743  ┆ 11.55494 │\n",
      "│           ┆           ┆           ┆           ┆   ┆ 2         ┆ 3         ┆           ┆ 8        │\n",
      "│ 4         ┆ 0.086546  ┆ 0.045111  ┆ 0.034619  ┆ … ┆ 33.499175 ┆ 69.164227 ┆ 1.171314  ┆ 8.493319 │\n",
      "│ 5         ┆ 0.289669  ┆ 0.052031  ┆ 0.115868  ┆ … ┆ 34.406635 ┆ 26.951415 ┆ 0.985464  ┆ 4.331451 │\n",
      "│ …         ┆ …         ┆ …         ┆ …         ┆ … ┆ …         ┆ …         ┆ …         ┆ …        │\n",
      "│ 918       ┆ 0.587345  ┆ 0.115746  ┆ 0.234938  ┆ … ┆ 30.66557  ┆ 65.018278 ┆ 1.563114  ┆ 12.92867 │\n",
      "│           ┆           ┆           ┆           ┆   ┆           ┆           ┆           ┆ 4        │\n",
      "│ 919       ┆ 0.122467  ┆ 0.047881  ┆ 0.048987  ┆ … ┆ 19.556209 ┆ 23.267576 ┆ 0.463802  ┆ 4.820925 │\n",
      "│ 920       ┆ 0.742209  ┆ 0.058729  ┆ 0.296884  ┆ … ┆ 17.724748 ┆ 18.299932 ┆ 2.28252   ┆ 13.46016 │\n",
      "│           ┆           ┆           ┆           ┆   ┆           ┆           ┆           ┆ 6        │\n",
      "│ 921       ┆ 0.381016  ┆ 0.089668  ┆ 0.152406  ┆ … ┆ 149.64308 ┆ 157.23528 ┆ 1.31853   ┆ 9.176372 │\n",
      "│           ┆           ┆           ┆           ┆   ┆ 2         ┆ 2         ┆           ┆          │\n",
      "│ 922       ┆ 0.286702  ┆ 0.069342  ┆ 0.114681  ┆ … ┆ 83.56002  ┆ 102.09507 ┆ 0.671564  ┆ 4.70779  │\n",
      "│           ┆           ┆           ┆           ┆   ┆           ┆ 3         ┆           ┆          │\n",
      "└───────────┴───────────┴───────────┴───────────┴───┴───────────┴───────────┴───────────┴──────────┘\n"
     ]
    }
   ],
   "source": [
    "## download MRI features dataset\n",
    "data_raw_mri_features = pl.read_excel(\"dataset/raw/Imaging_Features.xlsx\")\n",
    "\n",
    "### convert Patient ID into numeric values\n",
    "data_raw_mri_features = data_raw_mri_features.with_columns(\n",
    "    data_raw_mri_features[\"Patient ID\"].str.slice(-3, 3).cast(pl.Int32)\n",
    ")\n",
    "print(data_raw_mri_features)"
   ]
  },
  {
   "cell_type": "code",
   "execution_count": 7,
   "metadata": {},
   "outputs": [
    {
     "name": "stdout",
     "output_type": "stream",
     "text": [
      "shape: (3, 2)\n",
      "┌─────────┬───────┐\n",
      "│ Type    ┆ Count │\n",
      "│ ---     ┆ ---   │\n",
      "│ str     ┆ u32   │\n",
      "╞═════════╪═══════╡\n",
      "│ Int32   ┆ 1     │\n",
      "│ Int64   ┆ 2     │\n",
      "│ Float64 ┆ 527   │\n",
      "└─────────┴───────┘\n"
     ]
    }
   ],
   "source": [
    "data_preprocessing.group_by_col_type(data_raw_mri_features)"
   ]
  },
  {
   "cell_type": "markdown",
   "metadata": {},
   "source": [
    "As you can see, all columns have a numeric data type and maintain consistency."
   ]
  },
  {
   "cell_type": "markdown",
   "metadata": {},
   "source": [
    "#### <a id='toc1_2_1_2_'></a>[2.1.2 Target feature](#toc0_)"
   ]
  },
  {
   "cell_type": "code",
   "execution_count": 12,
   "metadata": {},
   "outputs": [],
   "source": [
    "### download clinical features dataset as pandas dataframe as it handles some of the values more efficiently\n",
    "data_raw_clinic_features = pd.read_excel(\n",
    "    \"dataset/raw/Clinical_and_Other_Features.xlsx\",\n",
    "    dtype=str,\n",
    ")\n",
    "\n",
    "### convert to polars dataframe\n",
    "data_raw_clinic_features = pl.from_pandas(data_raw_clinic_features)\n",
    "\n",
    "### convert Patient ID into numeric values\n",
    "data_raw_clinic_features = data_raw_clinic_features.with_columns(\n",
    "    data_raw_clinic_features[\"Patient ID\"].str.slice(-3, 3).cast(pl.Int32)\n",
    ")"
   ]
  },
  {
   "cell_type": "markdown",
   "metadata": {},
   "source": [
    "According to the Task 3 we need to use image features to predict the ER status so I select only 2 columns from this datasets: Patient ID and ER status."
   ]
  },
  {
   "cell_type": "markdown",
   "metadata": {},
   "source": [
    "ER Status (Estrogen Receptor Status) refers to whether a breast cancer tumor has estrogen receptors (ER) on its cells. These receptors are proteins that bind to estrogen, a hormone that can promote the growth of some breast cancers.\n",
    "\n",
    "Types of ER Status: \n",
    "<br>ER-Positive (ER+):\n",
    "- The cancer cells have estrogen receptors and depend on estrogen to grow.\n",
    "- They tend to grow more slowly than ER-negative tumors.\n",
    "\n",
    "<br>TER-Negative (ER-):\n",
    "- The cancer cells do not have estrogen receptors and do not rely on estrogen for growth.\n",
    "- These tumors may be more aggressive and more likely to require chemotherapy.\n",
    "\n",
    "Predicting ER status can help in identifying tumor subtypes based on imaging and clinical features."
   ]
  },
  {
   "cell_type": "code",
   "execution_count": 13,
   "metadata": {},
   "outputs": [],
   "source": [
    "### select \"Patient ID\" and \"ER\" columns\n",
    "target_ER = data_raw_clinic_features.select([\"Patient ID\", \"ER\"])\n",
    "\n",
    "### Convert columns containing only numeric strings to integers\n",
    "target_ER = data_preprocessing.convert_str_to_int(target_ER)"
   ]
  },
  {
   "cell_type": "code",
   "execution_count": 14,
   "metadata": {},
   "outputs": [
    {
     "name": "stdout",
     "output_type": "stream",
     "text": [
      "shape: (922, 2)\n",
      "┌────────────┬─────┐\n",
      "│ Patient ID ┆ ER  │\n",
      "│ ---        ┆ --- │\n",
      "│ i64        ┆ i64 │\n",
      "╞════════════╪═════╡\n",
      "│ 1          ┆ 0   │\n",
      "│ 2          ┆ 0   │\n",
      "│ 3          ┆ 1   │\n",
      "│ 4          ┆ 1   │\n",
      "│ 5          ┆ 1   │\n",
      "│ …          ┆ …   │\n",
      "│ 918        ┆ 1   │\n",
      "│ 919        ┆ 1   │\n",
      "│ 920        ┆ 1   │\n",
      "│ 921        ┆ 1   │\n",
      "│ 922        ┆ 1   │\n",
      "└────────────┴─────┘\n"
     ]
    }
   ],
   "source": [
    "print(target_ER)"
   ]
  },
  {
   "cell_type": "markdown",
   "metadata": {},
   "source": [
    "### <a id='toc1_2_2_'></a>[2.2 Join image features with target variable](#toc0_)"
   ]
  },
  {
   "cell_type": "code",
   "execution_count": 15,
   "metadata": {},
   "outputs": [],
   "source": [
    "### Join two DataFrames on a specified column.\n",
    "total_features = data_preprocessing.join_datasets(\n",
    "    target_ER, data_raw_mri_features, join_col=\"Patient ID\", method=\"inner\"\n",
    ")"
   ]
  },
  {
   "cell_type": "code",
   "execution_count": 16,
   "metadata": {},
   "outputs": [
    {
     "name": "stdout",
     "output_type": "stream",
     "text": [
      "shape: (922, 531)\n",
      "┌────────────┬────────────┬────────────┬────────────┬───┬────────────┬───────────┬───────────┬─────┐\n",
      "│ Patient ID ┆ F1_DT_POST ┆ F1_DT_POST ┆ F1_DT_POST ┆ … ┆ WashinRate ┆ WashinRat ┆ WashinRat ┆ ER  │\n",
      "│ ---        ┆ CON (T11=0 ┆ CON (T11=0 ┆ CON (T11=0 ┆   ┆ _map_std_d ┆ e_map_ske ┆ e_map_kur ┆ --- │\n",
      "│ i32        ┆ .05,T12=0. ┆ .05,T12=0. ┆ .02,T12=0. ┆   ┆ ev_tissue_ ┆ wness_tis ┆ tosis_tis ┆ i64 │\n",
      "│            ┆ 5)         ┆ 1)         ┆ 5)         ┆   ┆ Po…        ┆ sue_P…    ┆ sue_P…    ┆     │\n",
      "│            ┆ ---        ┆ ---        ┆ ---        ┆   ┆ ---        ┆ ---       ┆ ---       ┆     │\n",
      "│            ┆ f64        ┆ f64        ┆ f64        ┆   ┆ f64        ┆ f64       ┆ f64       ┆     │\n",
      "╞════════════╪════════════╪════════════╪════════════╪═══╪════════════╪═══════════╪═══════════╪═════╡\n",
      "│ 1          ┆ 1.0        ┆ 0.120721   ┆ 0.530395   ┆ … ┆ 20.347506  ┆ 1.62587   ┆ 11.406955 ┆ 0   │\n",
      "│ 2          ┆ 1.0        ┆ 0.129546   ┆ 0.485217   ┆ … ┆ 83.909561  ┆ 0.251498  ┆ 5.659428  ┆ 0   │\n",
      "│ 3          ┆ 0.174775   ┆ 0.062051   ┆ 0.06991    ┆ … ┆ 129.252343 ┆ 1.928743  ┆ 11.554948 ┆ 1   │\n",
      "│ 4          ┆ 0.086546   ┆ 0.045111   ┆ 0.034619   ┆ … ┆ 69.164227  ┆ 1.171314  ┆ 8.493319  ┆ 1   │\n",
      "│ 5          ┆ 0.289669   ┆ 0.052031   ┆ 0.115868   ┆ … ┆ 26.951415  ┆ 0.985464  ┆ 4.331451  ┆ 1   │\n",
      "│ …          ┆ …          ┆ …          ┆ …          ┆ … ┆ …          ┆ …         ┆ …         ┆ …   │\n",
      "│ 918        ┆ 0.587345   ┆ 0.115746   ┆ 0.234938   ┆ … ┆ 65.018278  ┆ 1.563114  ┆ 12.928674 ┆ 1   │\n",
      "│ 919        ┆ 0.122467   ┆ 0.047881   ┆ 0.048987   ┆ … ┆ 23.267576  ┆ 0.463802  ┆ 4.820925  ┆ 1   │\n",
      "│ 920        ┆ 0.742209   ┆ 0.058729   ┆ 0.296884   ┆ … ┆ 18.299932  ┆ 2.28252   ┆ 13.460166 ┆ 1   │\n",
      "│ 921        ┆ 0.381016   ┆ 0.089668   ┆ 0.152406   ┆ … ┆ 157.235282 ┆ 1.31853   ┆ 9.176372  ┆ 1   │\n",
      "│ 922        ┆ 0.286702   ┆ 0.069342   ┆ 0.114681   ┆ … ┆ 102.095073 ┆ 0.671564  ┆ 4.70779   ┆ 1   │\n",
      "└────────────┴────────────┴────────────┴────────────┴───┴────────────┴───────────┴───────────┴─────┘\n"
     ]
    }
   ],
   "source": [
    "print(total_features)"
   ]
  },
  {
   "cell_type": "code",
   "execution_count": null,
   "metadata": {},
   "outputs": [
    {
     "data": {
      "text/plain": [
       "<xlsxwriter.workbook.Workbook at 0x74c1a21965d0>"
      ]
     },
     "execution_count": 17,
     "metadata": {},
     "output_type": "execute_result"
    }
   ],
   "source": [
    "### Save dataset as excel file\n",
    "total_features.write_excel(\"dataset/intermediate/dataset_MRI_ER_target.xlsx\")"
   ]
  }
 ],
 "metadata": {
  "kernelspec": {
   "display_name": "breast-cancer (3.11.9)",
   "language": "python",
   "name": "python3"
  },
  "language_info": {
   "codemirror_mode": {
    "name": "ipython",
    "version": 3
   },
   "file_extension": ".py",
   "mimetype": "text/x-python",
   "name": "python",
   "nbconvert_exporter": "python",
   "pygments_lexer": "ipython3",
   "version": "3.11.9"
  }
 },
 "nbformat": 4,
 "nbformat_minor": 2
}
